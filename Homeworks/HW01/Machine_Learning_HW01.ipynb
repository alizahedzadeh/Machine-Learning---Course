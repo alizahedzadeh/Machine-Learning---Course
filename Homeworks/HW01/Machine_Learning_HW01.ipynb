{
  "cells": [
    {
      "cell_type": "markdown",
      "metadata": {
        "id": "ts6G_sYkXR1w"
      },
      "source": [
        "Hello everyone,\n",
        "\n",
        "Welcome to the Machine Learning (ML) course for the Fall 2023 semester! We want to extend a warm and enthusiastic greeting to each and every one of you.\n",
        "\n",
        "In the coming months, we will investigate a wide range of topics, including different supervised and unsupervised learning methods, and use them on real-world data to explore the challenges people typically encounter in this field.\n",
        "\n",
        "**A quick word on honor code:** Honor codes try to fostering academic honesty, trust, and commitment to uphold ethical standards. Here we provide a small honor code to discourage any kind of plagiarism, cheating and unauthorized collaboration.\n",
        "\n",
        "1. **Implementation Questions**\n",
        "    - You are <u> strictly prohibited </u> to read code snippets from your classmates.\n",
        "    - You are <u> strictly prohibited </u> from *copying* code from any external source, except for Q&A websites like Stack Overflow. If you do use code from such sources, it is imperative to properly attribute and mention the source in your implementation.\n",
        "\n",
        "2. **Non-implementation questions**\n",
        "    - You should use your own words and not just copying the answers from ChatGPT or any other source on the web.\n",
        "    - Please provide the source for any material you are using to answer the questions.\n",
        "    - You are <u> strictly prohibited </u> to read and copy the answers of your classmates.\n",
        "\n",
        "If we suspect that you have violated any of the above rules, you may lose the whole score of that exercise.\n",
        "\n",
        "<font color='RED' size='+1'>**Important Note:**</font> Remember that <u>interpreting and analyzing</u> your code is just as important as the implementation itself. Therefore, it is crucial to not only write code but also to <u>document and provide detailed analysis</u> of the results and insights derived from the code. This analysis should explain the significance of the findings, highlight any patterns or trends observed, and offer interpretations that contribute to a deeper understanding of the data or problem at hand. Additionally, ensure that your code is <u>well-commented</u> to enhance its readability and facilitate comprehension.\n",
        "\n",
        "\n",
        "As your teaching assistants, we are here to support your learning journey throughout the Fall 2023 semester. If you have any questions about the course material, need guidance on assignments, or seek additional resources, please don't hesitate to reach out to us.\n",
        "\n",
        "Best regards, </br>\n",
        "Sina Abbasi, Armin Tourajmehr"
      ]
    },
    {
      "cell_type": "markdown",
      "metadata": {
        "id": "GTsNHpO6Qtvb"
      },
      "source": [
        "# End-to-End Machine Learning Project\n",
        "\n",
        "For your first exercise, we will go through different steps of an ML task and try to solve a problem on a real-world dataset.\n",
        "This exercise covers the $2^{nd}$ chapter of the *Hands-On Machine Learning* book, which is your main resource for this course. You can refer to the book for more details about each of these steps."
      ]
    },
    {
      "cell_type": "markdown",
      "metadata": {
        "id": "2F7-BcG8RsuH"
      },
      "source": [
        "## Look at the Big Picture\n",
        "\n"
      ]
    },
    {
      "cell_type": "markdown",
      "metadata": {
        "id": "wC268ikgSFvh"
      },
      "source": [
        "### Frame the Problem\n",
        "\n",
        "We use ML to solve a problem. This could be detecting whether an email is spam or not, or estimating the price of a house based on its features. As we can see, different problems have different goals, and the goal is not probably just building a model. In an ML task, this goal is called objective, and the objective is always an essential part of any ML task because it determines what we are looking for. Based on that, we can choose the most appropriate algorithm and performance measure to tackle the problem. Another valuable thing to know is the current solution, whether as a clue to solve the task at hand or as a reference for performance.\n",
        "\n",
        "With all this information, you are now ready to start designing your system. First, determine what kind of training supervision the model will need: is it a supervised, unsupervised, semi-supervised, self-supervised, or reinforcement learning task?\n",
        "\n",
        "<font color='#D61E85' size='+2'>**Q1:**</font> Explain each of these five kind of supervision in one paragraph. Provide an example for each one of them.\n"
      ]
    },
    {
      "cell_type": "markdown",
      "metadata": {
        "id": "cGLjyBhzigUI"
      },
      "source": [
        "<font color='#8FCF26' size='+2'>**A1:**</font>\n",
        "\n",
        "<b>Supervised Learning :</b>\n",
        "\n",
        "supervised learning is when we teach or train the machine using data that is well-labelled. Which means some data is already tagged with the correct answer. After that, the machine is provided with a new set of examples(data) so that the supervised learning algorithm analyses the training data(set of training examples) and produces a correct outcome from labeled data.\n",
        "\n",
        "example : filter spam and ham mails that contains label for each data - classification\n",
        "\n",
        "<b> Unsupervised Learning : </b>\n",
        "\n",
        "Unsupervised learning is the training of a machine using information that is neither classified nor labeled and allowing the algorithm to act on that information without guidance. Here the task of the machine is to group unsorted information according to similarities, patterns, and differences without any prior training of data.\n",
        "\n",
        "example : finding out which customers made similar product purchases - clustering\n",
        "\n",
        "<b> Semi-Supervised Learning : </b>\n",
        "\n",
        "Semi-supervised learning is a type of machine learning that falls in between supervised and unsupervised learning. It is a method that uses a small amount of labeled data and a large amount of unlabeled data to train a model.\n",
        "\n",
        "example : In text classification, the goal is to classify a given text into one or more predefined categories. Semi-supervised learning can be used to train a text classification model using a small amount of labeled data and a large amount of unlabeled text data.\n",
        "\n",
        "<b> Self-Supervised Learning : </b>\n",
        "\n",
        "Self-Supervised Learning is a machine learning methodology where a model is pre-trained using unlabelled data and the data labels are generated automatically, which are further used in subsequent iterations as ground truths.\n",
        "\n",
        "example : Labeling a set of data that we can later use in supervised algorithms\n",
        "\n",
        "<b> Reinforcement Learning : </b>\n",
        "\n",
        "The learning system, called an agent\n",
        "in this context, can observe the environment, select and perform actions, and get\n",
        "rewards in return (or penalties in the form of negative rewards). \n",
        "It must then learn by itself what is the best strategy, called a policy, to get\n",
        "the most reward over time. A policy defines what action the agent should choose\n",
        "when it is in a given situation.\n",
        "\n",
        "example : Self driving cars\n"
      ]
    },
    {
      "cell_type": "markdown",
      "metadata": {
        "id": "PdNotLKDlFiC"
      },
      "source": [
        "### Select a Performance Measure\n",
        "\n",
        "In ML, a performance measure, also known as an evaluation metric, is a measure used to assess the performance or effectiveness of a machine learning model. It quantifies how well the model is able to accomplish its intended task. The choice of performance measure depends on the specific problem and the desired objective."
      ]
    },
    {
      "cell_type": "markdown",
      "metadata": {
        "id": "2Dy0mkPmnAFP"
      },
      "source": [
        "## Data\n",
        "\n",
        "It serves as the foundation for model training and the model looking for the patterns in the data provided in order to make predictions on unseen samples. The data we chose for this exercise is Medical Cost Personal Datasets, which you can learn more about it in the next section.\n",
        "\n",
        "\n"
      ]
    },
    {
      "cell_type": "markdown",
      "metadata": {
        "id": "i3lmC0eRmXr9"
      },
      "source": [
        "### About the Data\n",
        "\n",
        "The meaning of each column in the dataset is as follows:\n",
        "\n",
        "* **age:** age of primary beneficiary\n",
        "* **sex:** insurance contractor gender, female, male\n",
        "* **bmi:** Body mass index, providing an understanding of body, weights that are relatively high or low relative to height, objective index of body weight $(kg / m ^ 2)$ using the ratio of height to weight, ideally 18.5 to 24.9\n",
        "* **children:** Number of children covered by health insurance / Number of dependents\n",
        "* **smoker:** Smoking\n",
        "* **region:** the beneficiary's residential area in the US, northeast, southeast, southwest, northwest.\n",
        "* **charges:** Individual medical costs billed by health insurance"
      ]
    },
    {
      "cell_type": "markdown",
      "metadata": {
        "id": "2DXd0vYOl-wo"
      },
      "source": [
        "<font color='#D61E85' size='+2'>**Q2:**</font> The data provided for this exercise can be used for both classification and regression tasks. Explain the difference between classification and regression tasks in just one paragraph by making use of examples. Now, consider we are trying to estimate individual medical costs billed by health insurance using the data provided. What type of supervision can we use for it?"
      ]
    },
    {
      "cell_type": "markdown",
      "metadata": {
        "id": "SREb7s9HjdOq"
      },
      "source": [
        "<font color='#8FCF26' size='+2'>**A2:**</font>\n",
        "\n",
        "In machine learning a regression problem is when the output variable is a real or continuous value, such as salary or weight.\n",
        "\n",
        "In machine learning, classification is a type of supervised learning technique where an algorithm is trained on a labeled dataset to predict the class or category of new, unseen data.\n",
        "\n",
        "There is an important difference between classification and regression problems.\n",
        "Fundamentally, classification is about predicting a label and regression is about predicting a quantity.\n",
        "\n",
        "for example : predict value of a house is a regression task and predict if some data related to a cat or dog(from some data that each one related to some cats and dogs) is a classification task"
      ]
    },
    {
      "cell_type": "markdown",
      "metadata": {
        "id": "OdfCvIt_oy5i"
      },
      "source": [
        "<font color='#D61E85' size='+2'>**Q3:**</font> Considering the fact that we want to estimate medical costs billed by health insurance for each person, we know it’s a regression task. The performance measures we can use are MAE, MSE, MAPE, and R2-score. Write down the equation and explain the intuition behind each of them."
      ]
    },
    {
      "cell_type": "markdown",
      "metadata": {
        "id": "a7C23wpVm6Cf"
      },
      "source": [
        "<font color='#8FCF26' size='+2'>**A3:**</font>\n",
        "\n",
        "<b>MAE :</b>\n",
        "\\begin{align}\n",
        "\\operatorname{MAE}(Y, \\hat{Y})=\\frac{1}{n} \\sum_{i=1}^{n}\\left|Y_{i}-\\hat{Y}_{i}\\right|\n",
        "\\end{align}\n",
        "\n",
        "MAE is a very simple metric which calculates the absolute difference between actual and predicted values.\n",
        "sum all the errors and divide them by a total number of observations And this is MAE. And we aim to get a minimum MAE because this is a loss.\n",
        "\n",
        "<b>MSE :</b>\n",
        "\\begin{align}\n",
        "\\operatorname{MSE}(Y, \\hat{Y})=\\frac{1}{n} \\sum_{i=1}^{n}\\left(Y_{i}-\\hat{Y}_{i}\\right)^{2}\n",
        "\\end{align}\n",
        "\n",
        "Mean squared error states that finding the squared difference between actual and predicted value.\n",
        "So, above we are finding the absolute difference and here we are finding the squared difference.\n",
        "It represents the squared distance between actual and predicted values. we perform squared to avoid the cancellation of negative terms and it is the benefit of MSE.\n",
        "\n",
        "<b>MAPE :</b>\n",
        "\\begin{align}\n",
        "\\operatorname{MAPE}(Y, \\widehat{Y})=\\frac{100}{n} \\sum_{i=1}^{n}\\left|\\frac{Y_{i}-\\hat{Y}_{i}}{Y_{i}}\\right|\n",
        "\\end{align}\n",
        "\n",
        "Mean Absolute Percentage Error (MAPE) is similar to mean absolute error, but relative error is used instead of error.\n",
        "In this way, a unitless measure will be obtained that is suitable for reporting results.\n",
        "\n",
        "<b>R2-score</b>\n",
        "\\begin{align}\n",
        "R^{2}(Y, \\widehat{Y})=1-\\frac{\\sum_{i=1}^{n}\\left(Y_{i}-\\widehat{Y}_{i}\\right)^{2}}{\\sum_{i=1}^{n}\\left(Y_{i}-\\bar{Y}\\right)^{2}}\n",
        "\\end{align}\n",
        "\n",
        "\"Coefficient of Determination\" shows the high accuracy of the model as it increases.\n",
        "This criterion is always a number smaller than 1. If a model always produces the average of the target feature in the output, the value of this criterion will be equal to 0. The coefficient of determination is usually expressed as a percentage. The coefficient of determination is only used to compare models and report results. Considering that the variance of the numerical data set is constant, with the increase of the mean squared error, the coefficient of determination always decreases."
      ]
    },
    {
      "cell_type": "markdown",
      "metadata": {
        "id": "ywJrhJEZAsH_"
      },
      "source": [
        "Finding the data is not all that matters. Before you can start to build your model and predict, you need to get insights about data, which could be done using simple methods such as `info()`, `head()`, `describe()`, and `value_counts()`. You can also visualize the data for more insights, which we get to that in the next part of our checklist.\n",
        "\n",
        "<font color='#D61E85' size='+2'>**Q4:**</font> Try to perform these methods on our dataset and get some insight about it. Is there any other methods to use?\n",
        "\n",
        "<font color='#8FCF26' size='+2'>**A4:**</font> Create some cell down below to write and run your code."
      ]
    },
    {
      "cell_type": "markdown",
      "metadata": {},
      "source": [
        "***Import Libraries***\n",
        "\n",
        "First import usable package for assignments"
      ]
    },
    {
      "cell_type": "code",
      "execution_count": 362,
      "metadata": {},
      "outputs": [],
      "source": [
        "import pandas as pd\n",
        "import numpy as np\n",
        "import seaborn as sns\n",
        "import matplotlib.pyplot as plt"
      ]
    },
    {
      "cell_type": "markdown",
      "metadata": {},
      "source": [
        "Read csv file and then save it into a dataframe (a pandas dataframe)"
      ]
    },
    {
      "cell_type": "code",
      "execution_count": 363,
      "metadata": {},
      "outputs": [],
      "source": [
        "df = pd.read_csv('insurance.csv')"
      ]
    },
    {
      "cell_type": "markdown",
      "metadata": {},
      "source": [
        "First i look at 5 rows of my dataframe"
      ]
    },
    {
      "cell_type": "code",
      "execution_count": 364,
      "metadata": {},
      "outputs": [
        {
          "data": {
            "text/html": [
              "<div>\n",
              "<style scoped>\n",
              "    .dataframe tbody tr th:only-of-type {\n",
              "        vertical-align: middle;\n",
              "    }\n",
              "\n",
              "    .dataframe tbody tr th {\n",
              "        vertical-align: top;\n",
              "    }\n",
              "\n",
              "    .dataframe thead th {\n",
              "        text-align: right;\n",
              "    }\n",
              "</style>\n",
              "<table border=\"1\" class=\"dataframe\">\n",
              "  <thead>\n",
              "    <tr style=\"text-align: right;\">\n",
              "      <th></th>\n",
              "      <th>age</th>\n",
              "      <th>sex</th>\n",
              "      <th>bmi</th>\n",
              "      <th>children</th>\n",
              "      <th>smoker</th>\n",
              "      <th>region</th>\n",
              "      <th>charges</th>\n",
              "    </tr>\n",
              "  </thead>\n",
              "  <tbody>\n",
              "    <tr>\n",
              "      <th>0</th>\n",
              "      <td>19</td>\n",
              "      <td>female</td>\n",
              "      <td>27.900</td>\n",
              "      <td>0</td>\n",
              "      <td>yes</td>\n",
              "      <td>southwest</td>\n",
              "      <td>16884.92400</td>\n",
              "    </tr>\n",
              "    <tr>\n",
              "      <th>1</th>\n",
              "      <td>18</td>\n",
              "      <td>male</td>\n",
              "      <td>33.770</td>\n",
              "      <td>1</td>\n",
              "      <td>no</td>\n",
              "      <td>southeast</td>\n",
              "      <td>1725.55230</td>\n",
              "    </tr>\n",
              "    <tr>\n",
              "      <th>2</th>\n",
              "      <td>28</td>\n",
              "      <td>male</td>\n",
              "      <td>33.000</td>\n",
              "      <td>3</td>\n",
              "      <td>no</td>\n",
              "      <td>southeast</td>\n",
              "      <td>4449.46200</td>\n",
              "    </tr>\n",
              "    <tr>\n",
              "      <th>3</th>\n",
              "      <td>33</td>\n",
              "      <td>male</td>\n",
              "      <td>22.705</td>\n",
              "      <td>0</td>\n",
              "      <td>no</td>\n",
              "      <td>northwest</td>\n",
              "      <td>21984.47061</td>\n",
              "    </tr>\n",
              "    <tr>\n",
              "      <th>4</th>\n",
              "      <td>32</td>\n",
              "      <td>male</td>\n",
              "      <td>28.880</td>\n",
              "      <td>0</td>\n",
              "      <td>no</td>\n",
              "      <td>northwest</td>\n",
              "      <td>3866.85520</td>\n",
              "    </tr>\n",
              "  </tbody>\n",
              "</table>\n",
              "</div>"
            ],
            "text/plain": [
              "  age     sex     bmi  children smoker     region      charges\n",
              "0  19  female  27.900         0    yes  southwest  16884.92400\n",
              "1  18    male  33.770         1     no  southeast   1725.55230\n",
              "2  28    male  33.000         3     no  southeast   4449.46200\n",
              "3  33    male  22.705         0     no  northwest  21984.47061\n",
              "4  32    male  28.880         0     no  northwest   3866.85520"
            ]
          },
          "execution_count": 364,
          "metadata": {},
          "output_type": "execute_result"
        }
      ],
      "source": [
        "df.head()"
      ]
    },
    {
      "cell_type": "markdown",
      "metadata": {},
      "source": [
        "Next, I use ```info``` method , this method helps to show each columns datatype and number of dataframe rows and number of non-null value for each column"
      ]
    },
    {
      "cell_type": "code",
      "execution_count": 365,
      "metadata": {},
      "outputs": [
        {
          "name": "stdout",
          "output_type": "stream",
          "text": [
            "<class 'pandas.core.frame.DataFrame'>\n",
            "RangeIndex: 1338 entries, 0 to 1337\n",
            "Data columns (total 7 columns):\n",
            " #   Column    Non-Null Count  Dtype  \n",
            "---  ------    --------------  -----  \n",
            " 0   age       1338 non-null   object \n",
            " 1   sex       1334 non-null   object \n",
            " 2   bmi       1337 non-null   float64\n",
            " 3   children  1338 non-null   int64  \n",
            " 4   smoker    1338 non-null   object \n",
            " 5   region    1335 non-null   object \n",
            " 6   charges   1327 non-null   float64\n",
            "dtypes: float64(2), int64(1), object(4)\n",
            "memory usage: 73.3+ KB\n"
          ]
        }
      ],
      "source": [
        "df.info()"
      ]
    },
    {
      "cell_type": "markdown",
      "metadata": {},
      "source": [
        "The ```describe()``` method returns description of the data in the DataFrame.\n",
        "\n",
        "If the DataFrame contains numerical data, the description contains these information for each column:\n",
        "\n",
        "* count - The number of not-empty values.\n",
        "\n",
        "* mean - The average (mean) value.\n",
        "\n",
        "* std - The standard deviation.\n",
        "\n",
        "* min - the minimum value.\n",
        "\n",
        "* 25% - The 25% percentile*.\n",
        "\n",
        "* 50% - The 50% percentile*.\n",
        "\n",
        "* 75% - The 75% percentile*.\n",
        "\n",
        "* max - the maximum value."
      ]
    },
    {
      "cell_type": "code",
      "execution_count": 366,
      "metadata": {},
      "outputs": [
        {
          "data": {
            "text/html": [
              "<div>\n",
              "<style scoped>\n",
              "    .dataframe tbody tr th:only-of-type {\n",
              "        vertical-align: middle;\n",
              "    }\n",
              "\n",
              "    .dataframe tbody tr th {\n",
              "        vertical-align: top;\n",
              "    }\n",
              "\n",
              "    .dataframe thead th {\n",
              "        text-align: right;\n",
              "    }\n",
              "</style>\n",
              "<table border=\"1\" class=\"dataframe\">\n",
              "  <thead>\n",
              "    <tr style=\"text-align: right;\">\n",
              "      <th></th>\n",
              "      <th>bmi</th>\n",
              "      <th>children</th>\n",
              "      <th>charges</th>\n",
              "    </tr>\n",
              "  </thead>\n",
              "  <tbody>\n",
              "    <tr>\n",
              "      <th>count</th>\n",
              "      <td>1337.000000</td>\n",
              "      <td>1338.000000</td>\n",
              "      <td>1327.000000</td>\n",
              "    </tr>\n",
              "    <tr>\n",
              "      <th>mean</th>\n",
              "      <td>30.845808</td>\n",
              "      <td>1.127803</td>\n",
              "      <td>13251.386466</td>\n",
              "    </tr>\n",
              "    <tr>\n",
              "      <th>std</th>\n",
              "      <td>8.745771</td>\n",
              "      <td>1.701587</td>\n",
              "      <td>12115.053915</td>\n",
              "    </tr>\n",
              "    <tr>\n",
              "      <th>min</th>\n",
              "      <td>0.000000</td>\n",
              "      <td>-1.000000</td>\n",
              "      <td>1121.873900</td>\n",
              "    </tr>\n",
              "    <tr>\n",
              "      <th>25%</th>\n",
              "      <td>26.220000</td>\n",
              "      <td>0.000000</td>\n",
              "      <td>4729.002375</td>\n",
              "    </tr>\n",
              "    <tr>\n",
              "      <th>50%</th>\n",
              "      <td>30.400000</td>\n",
              "      <td>1.000000</td>\n",
              "      <td>9304.701900</td>\n",
              "    </tr>\n",
              "    <tr>\n",
              "      <th>75%</th>\n",
              "      <td>34.700000</td>\n",
              "      <td>2.000000</td>\n",
              "      <td>16582.138605</td>\n",
              "    </tr>\n",
              "    <tr>\n",
              "      <th>max</th>\n",
              "      <td>231.600000</td>\n",
              "      <td>45.000000</td>\n",
              "      <td>63770.428010</td>\n",
              "    </tr>\n",
              "  </tbody>\n",
              "</table>\n",
              "</div>"
            ],
            "text/plain": [
              "               bmi     children       charges\n",
              "count  1337.000000  1338.000000   1327.000000\n",
              "mean     30.845808     1.127803  13251.386466\n",
              "std       8.745771     1.701587  12115.053915\n",
              "min       0.000000    -1.000000   1121.873900\n",
              "25%      26.220000     0.000000   4729.002375\n",
              "50%      30.400000     1.000000   9304.701900\n",
              "75%      34.700000     2.000000  16582.138605\n",
              "max     231.600000    45.000000  63770.428010"
            ]
          },
          "execution_count": 366,
          "metadata": {},
          "output_type": "execute_result"
        }
      ],
      "source": [
        "df.describe()"
      ]
    },
    {
      "cell_type": "markdown",
      "metadata": {},
      "source": [
        "The ```isnull()``` method returns a DataFrame object where all the values are replaced with a Boolean value True for NULL values, and otherwise False.\n",
        "\n",
        "and then I use ```sum()``` for see number null values for each column"
      ]
    },
    {
      "cell_type": "code",
      "execution_count": 367,
      "metadata": {},
      "outputs": [
        {
          "data": {
            "text/plain": [
              "age          0\n",
              "sex          4\n",
              "bmi          1\n",
              "children     0\n",
              "smoker       0\n",
              "region       3\n",
              "charges     11\n",
              "dtype: int64"
            ]
          },
          "execution_count": 367,
          "metadata": {},
          "output_type": "execute_result"
        }
      ],
      "source": [
        "df.isnull().sum()"
      ]
    },
    {
      "cell_type": "markdown",
      "metadata": {},
      "source": [
        "Now we use ```value_counts()``` method for check different values for each column "
      ]
    },
    {
      "cell_type": "code",
      "execution_count": 368,
      "metadata": {},
      "outputs": [
        {
          "data": {
            "text/plain": [
              "sex\n",
              "male      675\n",
              "female    658\n",
              "femle       1\n",
              "Name: count, dtype: int64"
            ]
          },
          "execution_count": 368,
          "metadata": {},
          "output_type": "execute_result"
        }
      ],
      "source": [
        "#We can see we have one column with value of femle (it's maybe a spelling mistake)\n",
        "df['sex'].value_counts()"
      ]
    },
    {
      "cell_type": "code",
      "execution_count": 369,
      "metadata": {},
      "outputs": [
        {
          "data": {
            "text/plain": [
              "age\n",
              "18               69\n",
              "19               68\n",
              "50               29\n",
              "20               29\n",
              "45               29\n",
              "51               29\n",
              "52               29\n",
              "47               29\n",
              "46               29\n",
              "49               28\n",
              "22               28\n",
              "21               28\n",
              "54               28\n",
              "24               28\n",
              "25               28\n",
              "26               28\n",
              "48               28\n",
              "27               28\n",
              "28               28\n",
              "23               28\n",
              "31               27\n",
              "40               27\n",
              "43               27\n",
              "29               27\n",
              "30               27\n",
              "53               27\n",
              "42               27\n",
              "44               27\n",
              "33               26\n",
              "57               26\n",
              "32               26\n",
              "41               26\n",
              "55               26\n",
              "34               26\n",
              "56               26\n",
              "39               25\n",
              "38               25\n",
              "58               25\n",
              "35               25\n",
              "59               25\n",
              "37               25\n",
              "36               24\n",
              "61               23\n",
              "63               23\n",
              "62               23\n",
              "60               23\n",
              "64               22\n",
              "no                1\n",
              "fifty - three     1\n",
              "36.5              1\n",
              "241               1\n",
              "Name: count, dtype: int64"
            ]
          },
          "execution_count": 369,
          "metadata": {},
          "output_type": "execute_result"
        }
      ],
      "source": [
        "#We can see we have some columns with abnormal values\n",
        "df['age'].value_counts()"
      ]
    },
    {
      "cell_type": "code",
      "execution_count": 370,
      "metadata": {},
      "outputs": [
        {
          "data": {
            "text/plain": [
              "bmi\n",
              "32.300    13\n",
              "28.310     9\n",
              "30.875     8\n",
              "31.350     8\n",
              "28.880     8\n",
              "          ..\n",
              "46.700     1\n",
              "46.200     1\n",
              "23.800     1\n",
              "44.770     1\n",
              "30.970     1\n",
              "Name: count, Length: 551, dtype: int64"
            ]
          },
          "execution_count": 370,
          "metadata": {},
          "output_type": "execute_result"
        }
      ],
      "source": [
        "#This column is maybe have normal values\n",
        "df['bmi'].value_counts()"
      ]
    },
    {
      "cell_type": "code",
      "execution_count": 371,
      "metadata": {},
      "outputs": [
        {
          "data": {
            "text/plain": [
              "children\n",
              " 0     572\n",
              " 1     324\n",
              " 2     240\n",
              " 3     157\n",
              " 4      25\n",
              " 5      18\n",
              " 45      1\n",
              "-1       1\n",
              "Name: count, dtype: int64"
            ]
          },
          "execution_count": 371,
          "metadata": {},
          "output_type": "execute_result"
        }
      ],
      "source": [
        "#We can see , we have -1 value in one column , it's maybe wrong value\n",
        "df['children'].value_counts()"
      ]
    },
    {
      "cell_type": "code",
      "execution_count": 372,
      "metadata": {},
      "outputs": [
        {
          "data": {
            "text/plain": [
              "charges\n",
              "1639.56310     2\n",
              "16884.92400    1\n",
              "13555.00490    1\n",
              "48673.55880    1\n",
              "8688.85885     1\n",
              "              ..\n",
              "7512.26700     1\n",
              "4762.32900     1\n",
              "5910.94400     1\n",
              "11454.02150    1\n",
              "29141.36030    1\n",
              "Name: count, Length: 1326, dtype: int64"
            ]
          },
          "execution_count": 372,
          "metadata": {},
          "output_type": "execute_result"
        }
      ],
      "source": [
        "#This column is maybe have normal values\n",
        "df['charges'].value_counts()"
      ]
    },
    {
      "cell_type": "code",
      "execution_count": 373,
      "metadata": {},
      "outputs": [
        {
          "data": {
            "text/plain": [
              "region\n",
              "southeast    362\n",
              "northwest    325\n",
              "southwest    324\n",
              "northeast    312\n",
              "NE             6\n",
              "ne             2\n",
              "northest       1\n",
              "north          1\n",
              "eastnorth      1\n",
              "norteast       1\n",
              "Name: count, dtype: int64"
            ]
          },
          "execution_count": 373,
          "metadata": {},
          "output_type": "execute_result"
        }
      ],
      "source": [
        "#We can see we have one column with value of femle (it's maybe a spelling mistake)\n",
        "df['region'].value_counts()"
      ]
    },
    {
      "cell_type": "code",
      "execution_count": 374,
      "metadata": {},
      "outputs": [
        {
          "data": {
            "text/plain": [
              "smoker\n",
              "no          1056\n",
              "yes          272\n",
              "0              5\n",
              "not sure       1\n",
              "YES            1\n",
              "n              1\n",
              "ye             1\n",
              "No             1\n",
              "Name: count, dtype: int64"
            ]
          },
          "execution_count": 374,
          "metadata": {},
          "output_type": "execute_result"
        }
      ],
      "source": [
        "#We see this column have very unusuall values , so i will clean it in data cleaning part\n",
        "df['smoker'].value_counts()"
      ]
    },
    {
      "cell_type": "markdown",
      "metadata": {
        "id": "uqu3nCKqtAlW"
      },
      "source": [
        "At last, you need to split the data to train, validation, and test splits. \n",
        "\n",
        "<font color='#D61E85' size='+2'>**Q5:**</font> Why we do this and what is the use of each of them?\n",
        "\n",
        "Rememeber from now on, you must only consider training and validation sets in your analysis and you are not allowed to use the test set except for prediction."
      ]
    },
    {
      "cell_type": "markdown",
      "metadata": {
        "id": "dfl_mJnq3V6t"
      },
      "source": [
        "<font color='#8FCF26' size='+2'>**A5:**</font>\n",
        "\n",
        "<b> Training Dataset: </b> \n",
        "\n",
        "The sample of data used to fit the model.\n",
        "\n",
        "<b> Validation Dataset: </b> \n",
        "\n",
        "The sample of data used to provide an unbiased evaluation of a model fit on the training dataset while tuning model hyperparameters. The evaluation becomes more biased as skill on the validation dataset is incorporated into the model configuration.\n",
        "\n",
        "<b> Test Dataset: </b>\n",
        "\n",
        "The sample of data used to provide an unbiased evaluation of a final model fit on the training dataset."
      ]
    },
    {
      "cell_type": "markdown",
      "metadata": {
        "id": "6CNuy1HG3c7k"
      },
      "source": [
        "<font color='#D61E85' size='+2'>**Q6:**</font> Split the dataset into training, validation, and test sets using the following ratios: 70% for training, 10% for validation, and 20% for testing.\n",
        "\n",
        "<font color='#8FCF26' size='+2'>**A6:**</font> Create some cell down below to write and run your code."
      ]
    },
    {
      "cell_type": "code",
      "execution_count": 375,
      "metadata": {},
      "outputs": [],
      "source": [
        "from sklearn.model_selection import train_test_split\n",
        "\n",
        "# train_set: Training data and labels (70% of the original data).\n",
        "# valid_set: Validation data and labels (10% of the original data).\n",
        "# final_test_set: Test data and labels (20% of the original data).\n",
        "\n",
        "train_set, test_set = train_test_split(df, test_size=0.3, random_state=42)\n",
        "valid_set,final_test_set = train_test_split(test_set, test_size=0.65, random_state=42)"
      ]
    },
    {
      "cell_type": "markdown",
      "metadata": {
        "id": "PVLGSv19-tAa"
      },
      "source": [
        "##\tExplore and Visualize the Data to Gain Insights\n",
        "\n",
        "What we did so far was just a quick glance on the data. Now, it's time to get deeper insights about the data.\n"
      ]
    },
    {
      "cell_type": "markdown",
      "metadata": {
        "id": "IEYnHQeI_1oh"
      },
      "source": [
        "### Visualizing Geographical Data\n",
        "\n",
        "Histograms, boxplot, pie charts, doughnut charts, line charts, multi-series line charts, bar charts, column charts, stacked bar charts, area charts, scatter plots, bubble charts, etc, are among the charts and diagrams you can draw for the dataset.\n",
        "\n",
        "<font color='#D61E85' size='+2'>**Q7:**</font> Draw some charts and diagrams. You don't need to use all of them, just the ones that will help you to understand the dataset better.\n",
        "\n",
        "<font color='#8FCF26' size='+2'>**A7:**</font> Create some cell down below to write and run your code."
      ]
    },
    {
      "cell_type": "markdown",
      "metadata": {},
      "source": [
        "Histogram based on Numerical columns"
      ]
    },
    {
      "cell_type": "code",
      "execution_count": 376,
      "metadata": {},
      "outputs": [
        {
          "data": {
            "image/png": "[encoded data removed]",
            "text/plain": [
              "<Figure size 1200x800 with 4 Axes>"
            ]
          },
          "metadata": {},
          "output_type": "display_data"
        }
      ],
      "source": [
        "df.hist(bins=50, figsize=(12, 8))\n",
        "plt.show()"
      ]
    },
    {
      "cell_type": "markdown",
      "metadata": {},
      "source": [
        "A Pie plot based on ```sex``` column"
      ]
    },
    {
      "cell_type": "code",
      "execution_count": 377,
      "metadata": {},
      "outputs": [
        {
          "data": {
            "image/png": "[encoded data removed]",
            "text/plain": [
              "<Figure size 640x480 with 1 Axes>"
            ]
          },
          "metadata": {},
          "output_type": "display_data"
        }
      ],
      "source": [
        "data = df['sex'].value_counts()\n",
        "data.plot.pie(autopct='%1.1f%%')\n",
        "plt.show()"
      ]
    },
    {
      "cell_type": "code",
      "execution_count": 378,
      "metadata": {},
      "outputs": [
        {
          "data": {
            "text/plain": [
              "Index([0, 1, 2, 3, 4, 5, 45, -1], dtype='int64', name='children')"
            ]
          },
          "execution_count": 378,
          "metadata": {},
          "output_type": "execute_result"
        },
        {
          "data": {
            "image/png": "[encoded data removed]",
            "text/plain": [
              "<Figure size 640x480 with 1 Axes>"
            ]
          },
          "metadata": {},
          "output_type": "display_data"
        }
      ],
      "source": [
        "fig, ax = plt.subplots()\n",
        "data = df['children'].value_counts()\n",
        "#I dont show the outliers\n",
        "ax.barh([0,1,2,3,4,5,6,7], data)\n",
        "fig.suptitle(\"Bar chart based on number of children\")\n",
        "ax.set_xlabel(\"value\")\n",
        "ax.set_ylabel(\"number of children\")\n",
        "data.index\n"
      ]
    },
    {
      "cell_type": "markdown",
      "metadata": {
        "id": "f9IP08ecbgqv"
      },
      "source": [
        "## Prepare the Data for Machine Learning Algorithms\n",
        "\n"
      ]
    },
    {
      "cell_type": "markdown",
      "metadata": {
        "id": "6YAgQjwwD2xQ"
      },
      "source": [
        "### Data Cleaning\n",
        "\n",
        "Missing values in datasets pose a significant challenge in machine learning. The presence of dirty data, which requires cleaning, can be categorized into various origins, including inconsistent and incomplete data. Inconsistency encompass different forms of the same word, such as \"US,\" \"USA,\" \"United States,\" and so on.\n",
        "Incompleteness, another category of dirty data, refers to missing or insufficient information. For instance, consider a dataset containing information about individuals, including their age, gender, and occupation. If some entries have missing age values, it exemplifies the issue of incompleteness within the dataset.\n",
        "\n",
        "<font color='#D61E85' size='+2'>**Q11:**</font> Dirty data have other origins, such as duplicate, incorrect, and inaccurate data. Try to explain the latter two with the help of examples.\n"
      ]
    },
    {
      "cell_type": "markdown",
      "metadata": {
        "id": "ZVmOfQwqpqJd"
      },
      "source": [
        "<font color='#8FCF26' size='+2'>**A11:**</font>\n",
        "\n",
        "<b>Duplicate Data :</b>\n",
        "\n",
        "Duplicate data means rows that all (or part) of its columns are duplicates, of course, this may indicate a mistake and sometimes such data has been entered into the database on purpose.\n",
        "\n",
        "example : add two same data about one person in above dataset (insurance.csv)\n",
        "\n",
        "<b>Incorrect Data :</b>\n",
        "\n",
        "Incorrect data means data that has been incorrectly calculated or incorrectly entered in the dataset.\n",
        "\n",
        "example :\n",
        "Enter a person's age as a negative number or an unrealistic number (for example, 200, of course, this number is possible, but it is very abnormal).\n",
        "\n",
        "<b>Inaccurate Data :</b>\n",
        "\n",
        "Data that have been incorrectly estimated or that an inaccurate amount has been recorded.\n",
        "\n",
        "example :\n",
        "Suppose in a data frame, our goal is to record the weight in kilograms, but we mistakenly record it in grams, this is an example of inaccurate data."
      ]
    },
    {
      "cell_type": "markdown",
      "metadata": {
        "id": "hJ0R8OT7tuJD"
      },
      "source": [
        "<font color='#D61E85' size='+2'>**Q12:**</font> There are two strategies for dealing with incomplete/missing data: *preserving* data points and *ignoring* the missing data. *Ignoring* missing data by dropping rows and columns containing the missing value is destructive. A better solution could be to try to fill these missing values. What are our options for filling these cells in the data?"
      ]
    },
    {
      "cell_type": "markdown",
      "metadata": {
        "id": "8Hol-Gjn0bdy"
      },
      "source": [
        "<font color='#8FCF26' size='+2'>**A12:**</font>\n",
        "\n",
        "This has different cases, for example, in textual data, the values of some columns may have misspellings, in such cases, we can use some methods (such as regex or according to our own judgment) to correct these values.\n",
        "In the case of inaccurate data, we can correct these columns or convert them into an expression (for example, the weight example I mentioned above, if we incorrectly recorded the weight in grams instead of kilograms, we can easily correct this too)\n",
        "For some columns that have strange values or even zero values, we can fill these columns with the same value (so that we don't have problems when using the algorithm) or for numerical values, we can use various types of statistics (such as average, use minimum and ...).\n",
        "\n",
        "Conclusion :\n",
        "\n",
        "In general, the solution of this problem depends on the type of data and the type of error, and it is not possible to consider a fixed approach for it"
      ]
    },
    {
      "cell_type": "markdown",
      "metadata": {
        "id": "-s7MNrb4DGu_"
      },
      "source": [
        "An essential step in data cleaning is to check for validity. What is considered invalid data? check [this link](https://en.wikipedia.org/wiki/Data_cleansing#Data_quality) to find out.\n",
        "\n",
        "<font color='#D61E85' size='+2'>**Q13:**</font> Using the information provided untill now, try to clean the data provided for this exercise. Try to use `fillna()`, `SimpleImputer`, `KNNImputer`, and `IterativeImputer` as *preserving* approaches. What is your preferred strategy? \"most_frequent\", \"mean\", \"median\", ... . Explain your decision."
      ]
    },
    {
      "cell_type": "markdown",
      "metadata": {
        "id": "250l3lnSDOfv"
      },
      "source": [
        "<font color='#8FCF26' size='+2'>**A13:**</font> Create some cell down below to write and run your code."
      ]
    },
    {
      "cell_type": "markdown",
      "metadata": {},
      "source": [
        "First I see diffrent values for each column , then decided to fix them (Cleaned it)"
      ]
    },
    {
      "cell_type": "markdown",
      "metadata": {},
      "source": [
        "```age``` column :\n",
        "\n",
        "first we look at diffrent values"
      ]
    },
    {
      "cell_type": "code",
      "execution_count": 379,
      "metadata": {},
      "outputs": [
        {
          "data": {
            "text/plain": [
              "age\n",
              "18               69\n",
              "19               68\n",
              "50               29\n",
              "20               29\n",
              "45               29\n",
              "51               29\n",
              "52               29\n",
              "47               29\n",
              "46               29\n",
              "49               28\n",
              "22               28\n",
              "21               28\n",
              "54               28\n",
              "24               28\n",
              "25               28\n",
              "26               28\n",
              "48               28\n",
              "27               28\n",
              "28               28\n",
              "23               28\n",
              "31               27\n",
              "40               27\n",
              "43               27\n",
              "29               27\n",
              "30               27\n",
              "53               27\n",
              "42               27\n",
              "44               27\n",
              "33               26\n",
              "57               26\n",
              "32               26\n",
              "41               26\n",
              "55               26\n",
              "34               26\n",
              "56               26\n",
              "39               25\n",
              "38               25\n",
              "58               25\n",
              "35               25\n",
              "59               25\n",
              "37               25\n",
              "36               24\n",
              "61               23\n",
              "63               23\n",
              "62               23\n",
              "60               23\n",
              "64               22\n",
              "no                1\n",
              "fifty - three     1\n",
              "36.5              1\n",
              "241               1\n",
              "Name: count, dtype: int64"
            ]
          },
          "execution_count": 379,
          "metadata": {},
          "output_type": "execute_result"
        }
      ],
      "source": [
        "df['age'].value_counts()"
      ]
    },
    {
      "cell_type": "markdown",
      "metadata": {},
      "source": [
        "some of values can replace with numerical value so I change it."
      ]
    },
    {
      "cell_type": "code",
      "execution_count": 380,
      "metadata": {},
      "outputs": [],
      "source": [
        "#These two columns can be fix by me \n",
        "df['age'] = df['age'].replace('fifty - three', 53)\n",
        "df['age'] = df['age'].replace('36.5', 36)"
      ]
    },
    {
      "cell_type": "markdown",
      "metadata": {},
      "source": [
        "Now , again we look to diffrent values"
      ]
    },
    {
      "cell_type": "code",
      "execution_count": 381,
      "metadata": {},
      "outputs": [
        {
          "data": {
            "text/plain": [
              "age\n",
              "18     69\n",
              "19     68\n",
              "50     29\n",
              "20     29\n",
              "45     29\n",
              "51     29\n",
              "52     29\n",
              "47     29\n",
              "46     29\n",
              "49     28\n",
              "22     28\n",
              "21     28\n",
              "54     28\n",
              "24     28\n",
              "25     28\n",
              "26     28\n",
              "48     28\n",
              "27     28\n",
              "28     28\n",
              "23     28\n",
              "31     27\n",
              "40     27\n",
              "43     27\n",
              "29     27\n",
              "30     27\n",
              "53     27\n",
              "42     27\n",
              "44     27\n",
              "33     26\n",
              "57     26\n",
              "32     26\n",
              "41     26\n",
              "55     26\n",
              "34     26\n",
              "56     26\n",
              "39     25\n",
              "38     25\n",
              "58     25\n",
              "35     25\n",
              "59     25\n",
              "37     25\n",
              "36     24\n",
              "61     23\n",
              "63     23\n",
              "62     23\n",
              "60     23\n",
              "64     22\n",
              "no      1\n",
              "53      1\n",
              "36      1\n",
              "241     1\n",
              "Name: count, dtype: int64"
            ]
          },
          "execution_count": 381,
          "metadata": {},
          "output_type": "execute_result"
        }
      ],
      "source": [
        "df['age'].value_counts()"
      ]
    },
    {
      "cell_type": "markdown",
      "metadata": {},
      "source": [
        "We have two values that not replaceable so I can remove the rows that have these values"
      ]
    },
    {
      "cell_type": "code",
      "execution_count": 382,
      "metadata": {},
      "outputs": [
        {
          "data": {
            "text/plain": [
              "age\n",
              "18    69\n",
              "19    68\n",
              "51    29\n",
              "20    29\n",
              "45    29\n",
              "47    29\n",
              "52    29\n",
              "46    29\n",
              "50    29\n",
              "25    28\n",
              "49    28\n",
              "23    28\n",
              "54    28\n",
              "27    28\n",
              "21    28\n",
              "48    28\n",
              "28    28\n",
              "24    28\n",
              "22    28\n",
              "26    28\n",
              "44    27\n",
              "43    27\n",
              "29    27\n",
              "31    27\n",
              "42    27\n",
              "30    27\n",
              "53    27\n",
              "40    27\n",
              "57    26\n",
              "41    26\n",
              "34    26\n",
              "33    26\n",
              "32    26\n",
              "55    26\n",
              "56    26\n",
              "59    25\n",
              "39    25\n",
              "37    25\n",
              "58    25\n",
              "35    25\n",
              "38    25\n",
              "36    24\n",
              "63    23\n",
              "62    23\n",
              "60    23\n",
              "61    23\n",
              "64    22\n",
              "53     1\n",
              "36     1\n",
              "Name: count, dtype: int64"
            ]
          },
          "execution_count": 382,
          "metadata": {},
          "output_type": "execute_result"
        }
      ],
      "source": [
        "#Two conditions that we create for remove unusual data\n",
        "condition_1 = df.age != '241'\n",
        "condition_2 = df.age != 'no'\n",
        "\n",
        "#Filter our dataframe\n",
        "df = df[condition_1 & condition_2]\n",
        "df['age'].value_counts()"
      ]
    },
    {
      "cell_type": "markdown",
      "metadata": {},
      "source": [
        "```region``` column :\n",
        "\n",
        "first we look at diffrent values"
      ]
    },
    {
      "cell_type": "code",
      "execution_count": 383,
      "metadata": {},
      "outputs": [
        {
          "data": {
            "text/plain": [
              "region\n",
              "southeast    361\n",
              "northwest    325\n",
              "southwest    323\n",
              "northeast    312\n",
              "NE             6\n",
              "ne             2\n",
              "northest       1\n",
              "north          1\n",
              "eastnorth      1\n",
              "norteast       1\n",
              "Name: count, dtype: int64"
            ]
          },
          "execution_count": 383,
          "metadata": {},
          "output_type": "execute_result"
        }
      ],
      "source": [
        "df['region'].value_counts()"
      ]
    },
    {
      "cell_type": "markdown",
      "metadata": {},
      "source": [
        "some of values can replace with correct values (because in this column we have alphabetic errors)."
      ]
    },
    {
      "cell_type": "code",
      "execution_count": 384,
      "metadata": {},
      "outputs": [],
      "source": [
        "df['region'] = df['region'].replace(dict.fromkeys(['NE', 'ne', 'northest', 'north', 'eastnorth', 'norteast'], 'northeast'))"
      ]
    },
    {
      "cell_type": "markdown",
      "metadata": {},
      "source": [
        "Now , we have just 4 diffrent values in this column (It's good)"
      ]
    },
    {
      "cell_type": "code",
      "execution_count": 385,
      "metadata": {},
      "outputs": [
        {
          "data": {
            "text/plain": [
              "region\n",
              "southeast    361\n",
              "northwest    325\n",
              "northeast    324\n",
              "southwest    323\n",
              "Name: count, dtype: int64"
            ]
          },
          "execution_count": 385,
          "metadata": {},
          "output_type": "execute_result"
        }
      ],
      "source": [
        "df['region'].value_counts()"
      ]
    },
    {
      "cell_type": "code",
      "execution_count": 386,
      "metadata": {},
      "outputs": [
        {
          "data": {
            "text/plain": [
              "sex\n",
              "male      673\n",
              "female    658\n",
              "femle       1\n",
              "Name: count, dtype: int64"
            ]
          },
          "execution_count": 386,
          "metadata": {},
          "output_type": "execute_result"
        }
      ],
      "source": [
        "df['sex'].value_counts()"
      ]
    },
    {
      "cell_type": "markdown",
      "metadata": {},
      "source": [
        "```sex``` column :\n",
        "\n",
        "first we look at diffrent values"
      ]
    },
    {
      "cell_type": "code",
      "execution_count": 387,
      "metadata": {},
      "outputs": [],
      "source": [
        "df['sex'] = df['sex'].replace('femle', 'female')"
      ]
    },
    {
      "cell_type": "markdown",
      "metadata": {},
      "source": [
        "Now , we have just 2 diffrent values in this column (It's good)"
      ]
    },
    {
      "cell_type": "code",
      "execution_count": 388,
      "metadata": {},
      "outputs": [
        {
          "data": {
            "text/plain": [
              "sex\n",
              "male      673\n",
              "female    659\n",
              "Name: count, dtype: int64"
            ]
          },
          "execution_count": 388,
          "metadata": {},
          "output_type": "execute_result"
        }
      ],
      "source": [
        "df['sex'].value_counts()"
      ]
    },
    {
      "cell_type": "markdown",
      "metadata": {},
      "source": [
        "```smoker``` column :\n",
        "\n",
        "first we look at diffrent values"
      ]
    },
    {
      "cell_type": "code",
      "execution_count": 389,
      "metadata": {},
      "outputs": [
        {
          "data": {
            "text/plain": [
              "smoker\n",
              "no          1055\n",
              "yes          271\n",
              "0              5\n",
              "not sure       1\n",
              "YES            1\n",
              "n              1\n",
              "ye             1\n",
              "No             1\n",
              "Name: count, dtype: int64"
            ]
          },
          "execution_count": 389,
          "metadata": {},
          "output_type": "execute_result"
        }
      ],
      "source": [
        "df['smoker'].value_counts()"
      ]
    },
    {
      "cell_type": "markdown",
      "metadata": {},
      "source": [
        "Some of values can replace with correct values (because in this column we have alphabetic errors)."
      ]
    },
    {
      "cell_type": "code",
      "execution_count": 390,
      "metadata": {},
      "outputs": [],
      "source": [
        "df['smoker'] = df['smoker'].replace(dict.fromkeys(['0', 'n', 'No'], 'no'))\n",
        "df['smoker'] = df['smoker'].replace(dict.fromkeys(['YES', 'ye'], 'yes'))"
      ]
    },
    {
      "cell_type": "markdown",
      "metadata": {},
      "source": [
        "We have one value that not replaceable so I can remove the rows that have this values"
      ]
    },
    {
      "cell_type": "code",
      "execution_count": 391,
      "metadata": {},
      "outputs": [
        {
          "data": {
            "text/plain": [
              "smoker\n",
              "no          1062\n",
              "yes          273\n",
              "not sure       1\n",
              "Name: count, dtype: int64"
            ]
          },
          "execution_count": 391,
          "metadata": {},
          "output_type": "execute_result"
        }
      ],
      "source": [
        "df['smoker'].value_counts()"
      ]
    },
    {
      "cell_type": "markdown",
      "metadata": {},
      "source": [
        "Now , we have just 2 diffrent values in this column (It's good)"
      ]
    },
    {
      "cell_type": "code",
      "execution_count": 392,
      "metadata": {},
      "outputs": [
        {
          "data": {
            "text/plain": [
              "smoker\n",
              "no     1062\n",
              "yes     273\n",
              "Name: count, dtype: int64"
            ]
          },
          "execution_count": 392,
          "metadata": {},
          "output_type": "execute_result"
        }
      ],
      "source": [
        "#condition that we create for remove unusual data\n",
        "condition_1 = df.smoker != 'not sure'\n",
        "\n",
        "#Filter our dataframe\n",
        "df = df[condition_1]\n",
        "df['smoker'].value_counts()"
      ]
    },
    {
      "cell_type": "markdown",
      "metadata": {},
      "source": [
        "Now , we take a look again to null values"
      ]
    },
    {
      "cell_type": "code",
      "execution_count": 393,
      "metadata": {},
      "outputs": [
        {
          "data": {
            "text/plain": [
              "age          0\n",
              "sex          4\n",
              "bmi          1\n",
              "children     0\n",
              "smoker       0\n",
              "region       3\n",
              "charges     11\n",
              "dtype: int64"
            ]
          },
          "execution_count": 393,
          "metadata": {},
          "output_type": "execute_result"
        }
      ],
      "source": [
        "df.isnull().sum()"
      ]
    },
    {
      "cell_type": "markdown",
      "metadata": {},
      "source": [
        "Now , take a look Types of all Columns"
      ]
    },
    {
      "cell_type": "code",
      "execution_count": 394,
      "metadata": {},
      "outputs": [
        {
          "data": {
            "text/plain": [
              "age          object\n",
              "sex          object\n",
              "bmi         float64\n",
              "children      int64\n",
              "smoker       object\n",
              "region       object\n",
              "charges     float64\n",
              "dtype: object"
            ]
          },
          "execution_count": 394,
          "metadata": {},
          "output_type": "execute_result"
        }
      ],
      "source": [
        "df.dtypes"
      ]
    },
    {
      "cell_type": "markdown",
      "metadata": {},
      "source": [
        "Now we convert the columns whose non-numeric values can be into numbers"
      ]
    },
    {
      "cell_type": "markdown",
      "metadata": {},
      "source": [
        "```age``` column :\n",
        "\n",
        "convert ```object``` to ```int```"
      ]
    },
    {
      "cell_type": "code",
      "execution_count": 395,
      "metadata": {},
      "outputs": [],
      "source": [
        "df['age'] = pd.to_numeric(df['age'])"
      ]
    },
    {
      "cell_type": "markdown",
      "metadata": {},
      "source": [
        "Now we see that the value of the ```age``` column has been converted ```int```"
      ]
    },
    {
      "cell_type": "code",
      "execution_count": 396,
      "metadata": {},
      "outputs": [
        {
          "data": {
            "text/plain": [
              "age           int64\n",
              "sex          object\n",
              "bmi         float64\n",
              "children      int64\n",
              "smoker       object\n",
              "region       object\n",
              "charges     float64\n",
              "dtype: object"
            ]
          },
          "execution_count": 396,
          "metadata": {},
          "output_type": "execute_result"
        }
      ],
      "source": [
        "df.dtypes"
      ]
    },
    {
      "cell_type": "markdown",
      "metadata": {},
      "source": [
        "***Handle Nan Values***"
      ]
    },
    {
      "cell_type": "code",
      "execution_count": 397,
      "metadata": {},
      "outputs": [
        {
          "data": {
            "text/plain": [
              "age          0\n",
              "sex          4\n",
              "bmi          1\n",
              "children     0\n",
              "smoker       0\n",
              "region       3\n",
              "charges     11\n",
              "dtype: int64"
            ]
          },
          "execution_count": 397,
          "metadata": {},
          "output_type": "execute_result"
        }
      ],
      "source": [
        "df.isnull().sum()"
      ]
    },
    {
      "cell_type": "markdown",
      "metadata": {},
      "source": [
        "The preferred strategy would depend on the characteristics of the data:\n",
        "\n",
        "If the missing data is relatively small and randomly distributed, ```SimpleImputer``` with the \"most_frequent\" strategy or\n",
        "\n",
        "```fillna()``` with the mean, median, or mode might be sufficient.\n",
        "\n",
        "If there's a pattern or correlation between missing values and other features, ```KNNImputer``` could be a good choice.\n",
        "\n",
        "If the dataset is complex and there are non-linear relationships between variables, ```IterativeImputer``` might be the best option, despite being computationally more expensive.\n",
        "\n",
        "Ultimately, the choice should be based on a combination of domain knowledge, exploration of the data, and the specific characteristics of the dataset. It's often a good practice to try multiple methods and evaluate their impact on the model performance through cross-validation. This allows you to choose the strategy that provides the best results for your specific dataset and problem."
      ]
    },
    {
      "cell_type": "markdown",
      "metadata": {},
      "source": [
        "I use ```SimpleImputer``` because our data not very complex and it's a usual way"
      ]
    },
    {
      "cell_type": "code",
      "execution_count": 398,
      "metadata": {},
      "outputs": [
        {
          "data": {
            "text/html": [
              "<div>\n",
              "<style scoped>\n",
              "    .dataframe tbody tr th:only-of-type {\n",
              "        vertical-align: middle;\n",
              "    }\n",
              "\n",
              "    .dataframe tbody tr th {\n",
              "        vertical-align: top;\n",
              "    }\n",
              "\n",
              "    .dataframe thead th {\n",
              "        text-align: right;\n",
              "    }\n",
              "</style>\n",
              "<table border=\"1\" class=\"dataframe\">\n",
              "  <thead>\n",
              "    <tr style=\"text-align: right;\">\n",
              "      <th></th>\n",
              "      <th>age</th>\n",
              "      <th>sex</th>\n",
              "      <th>bmi</th>\n",
              "      <th>children</th>\n",
              "      <th>smoker</th>\n",
              "      <th>region</th>\n",
              "      <th>charges</th>\n",
              "    </tr>\n",
              "  </thead>\n",
              "  <tbody>\n",
              "    <tr>\n",
              "      <th>0</th>\n",
              "      <td>19.0</td>\n",
              "      <td>female</td>\n",
              "      <td>27.900</td>\n",
              "      <td>0.0</td>\n",
              "      <td>yes</td>\n",
              "      <td>southwest</td>\n",
              "      <td>16884.92400</td>\n",
              "    </tr>\n",
              "    <tr>\n",
              "      <th>1</th>\n",
              "      <td>18.0</td>\n",
              "      <td>male</td>\n",
              "      <td>33.770</td>\n",
              "      <td>1.0</td>\n",
              "      <td>no</td>\n",
              "      <td>southeast</td>\n",
              "      <td>1725.55230</td>\n",
              "    </tr>\n",
              "    <tr>\n",
              "      <th>2</th>\n",
              "      <td>28.0</td>\n",
              "      <td>male</td>\n",
              "      <td>33.000</td>\n",
              "      <td>3.0</td>\n",
              "      <td>no</td>\n",
              "      <td>southeast</td>\n",
              "      <td>4449.46200</td>\n",
              "    </tr>\n",
              "    <tr>\n",
              "      <th>3</th>\n",
              "      <td>33.0</td>\n",
              "      <td>male</td>\n",
              "      <td>22.705</td>\n",
              "      <td>0.0</td>\n",
              "      <td>no</td>\n",
              "      <td>northwest</td>\n",
              "      <td>21984.47061</td>\n",
              "    </tr>\n",
              "    <tr>\n",
              "      <th>4</th>\n",
              "      <td>32.0</td>\n",
              "      <td>male</td>\n",
              "      <td>28.880</td>\n",
              "      <td>0.0</td>\n",
              "      <td>no</td>\n",
              "      <td>northwest</td>\n",
              "      <td>3866.85520</td>\n",
              "    </tr>\n",
              "    <tr>\n",
              "      <th>...</th>\n",
              "      <td>...</td>\n",
              "      <td>...</td>\n",
              "      <td>...</td>\n",
              "      <td>...</td>\n",
              "      <td>...</td>\n",
              "      <td>...</td>\n",
              "      <td>...</td>\n",
              "    </tr>\n",
              "    <tr>\n",
              "      <th>1333</th>\n",
              "      <td>50.0</td>\n",
              "      <td>male</td>\n",
              "      <td>30.970</td>\n",
              "      <td>3.0</td>\n",
              "      <td>no</td>\n",
              "      <td>northwest</td>\n",
              "      <td>10600.54830</td>\n",
              "    </tr>\n",
              "    <tr>\n",
              "      <th>1334</th>\n",
              "      <td>18.0</td>\n",
              "      <td>female</td>\n",
              "      <td>31.920</td>\n",
              "      <td>0.0</td>\n",
              "      <td>no</td>\n",
              "      <td>northeast</td>\n",
              "      <td>2205.98080</td>\n",
              "    </tr>\n",
              "    <tr>\n",
              "      <th>1335</th>\n",
              "      <td>18.0</td>\n",
              "      <td>NaN</td>\n",
              "      <td>36.850</td>\n",
              "      <td>0.0</td>\n",
              "      <td>no</td>\n",
              "      <td>southeast</td>\n",
              "      <td>1629.83350</td>\n",
              "    </tr>\n",
              "    <tr>\n",
              "      <th>1336</th>\n",
              "      <td>21.0</td>\n",
              "      <td>female</td>\n",
              "      <td>25.800</td>\n",
              "      <td>0.0</td>\n",
              "      <td>no</td>\n",
              "      <td>southwest</td>\n",
              "      <td>2007.94500</td>\n",
              "    </tr>\n",
              "    <tr>\n",
              "      <th>1337</th>\n",
              "      <td>61.0</td>\n",
              "      <td>female</td>\n",
              "      <td>29.070</td>\n",
              "      <td>0.0</td>\n",
              "      <td>yes</td>\n",
              "      <td>northwest</td>\n",
              "      <td>29141.36030</td>\n",
              "    </tr>\n",
              "  </tbody>\n",
              "</table>\n",
              "<p>1335 rows × 7 columns</p>\n",
              "</div>"
            ],
            "text/plain": [
              "       age     sex     bmi  children smoker     region      charges\n",
              "0     19.0  female  27.900       0.0    yes  southwest  16884.92400\n",
              "1     18.0    male  33.770       1.0     no  southeast   1725.55230\n",
              "2     28.0    male  33.000       3.0     no  southeast   4449.46200\n",
              "3     33.0    male  22.705       0.0     no  northwest  21984.47061\n",
              "4     32.0    male  28.880       0.0     no  northwest   3866.85520\n",
              "...    ...     ...     ...       ...    ...        ...          ...\n",
              "1333  50.0    male  30.970       3.0     no  northwest  10600.54830\n",
              "1334  18.0  female  31.920       0.0     no  northeast   2205.98080\n",
              "1335  18.0     NaN  36.850       0.0     no  southeast   1629.83350\n",
              "1336  21.0  female  25.800       0.0     no  southwest   2007.94500\n",
              "1337  61.0  female  29.070       0.0    yes  northwest  29141.36030\n",
              "\n",
              "[1335 rows x 7 columns]"
            ]
          },
          "execution_count": 398,
          "metadata": {},
          "output_type": "execute_result"
        }
      ],
      "source": [
        "from sklearn.impute import SimpleImputer\n",
        "\n",
        "#use median strategy\n",
        "imputer = SimpleImputer(strategy=\"median\")\n",
        "#select numerical types from dataframe\n",
        "insurance_num = df.select_dtypes(include=[np.number])\n",
        "#fit imputer on our numerical data\n",
        "imputer.fit(insurance_num)\n",
        "\n",
        "#transform and fill Nan values\n",
        "X = imputer.transform(insurance_num)\n",
        "insurance_data = pd.DataFrame(X, columns=insurance_num.columns,index=insurance_num.index)\n",
        "df[['age', 'bmi', 'children', 'charges']] = insurance_data\n",
        "insurance_data = df.copy()\n",
        "insurance_data"
      ]
    },
    {
      "cell_type": "markdown",
      "metadata": {},
      "source": [
        "Now we can see , just in region and sex column we have Null values \n",
        "I choose most_frequent method for fillna"
      ]
    },
    {
      "cell_type": "code",
      "execution_count": 399,
      "metadata": {},
      "outputs": [
        {
          "data": {
            "text/plain": [
              "age         0\n",
              "sex         4\n",
              "bmi         0\n",
              "children    0\n",
              "smoker      0\n",
              "region      3\n",
              "charges     0\n",
              "dtype: int64"
            ]
          },
          "execution_count": 399,
          "metadata": {},
          "output_type": "execute_result"
        }
      ],
      "source": [
        "insurance_data.isnull().sum()"
      ]
    },
    {
      "cell_type": "markdown",
      "metadata": {},
      "source": [
        "Fill Nan values with ```mode```"
      ]
    },
    {
      "cell_type": "code",
      "execution_count": 400,
      "metadata": {},
      "outputs": [],
      "source": [
        "insurance_data = insurance_data.fillna(insurance_data.mode().iloc[0])"
      ]
    },
    {
      "cell_type": "markdown",
      "metadata": {},
      "source": [
        "Now we dont have any null values"
      ]
    },
    {
      "cell_type": "code",
      "execution_count": 401,
      "metadata": {},
      "outputs": [
        {
          "data": {
            "text/plain": [
              "age         0\n",
              "sex         0\n",
              "bmi         0\n",
              "children    0\n",
              "smoker      0\n",
              "region      0\n",
              "charges     0\n",
              "dtype: int64"
            ]
          },
          "execution_count": 401,
          "metadata": {},
          "output_type": "execute_result"
        }
      ],
      "source": [
        "insurance_data.isnull().sum()"
      ]
    },
    {
      "cell_type": "markdown",
      "metadata": {},
      "source": [
        "But in children column we have two incorrect values , we can drop this column\n",
        "\n",
        "45 and -1"
      ]
    },
    {
      "cell_type": "code",
      "execution_count": 402,
      "metadata": {},
      "outputs": [
        {
          "data": {
            "text/plain": [
              "children\n",
              " 0.0     571\n",
              " 1.0     323\n",
              " 2.0     239\n",
              " 3.0     157\n",
              " 4.0      25\n",
              " 5.0      18\n",
              " 45.0      1\n",
              "-1.0       1\n",
              "Name: count, dtype: int64"
            ]
          },
          "execution_count": 402,
          "metadata": {},
          "output_type": "execute_result"
        }
      ],
      "source": [
        "df['children'].value_counts()"
      ]
    },
    {
      "cell_type": "code",
      "execution_count": 403,
      "metadata": {},
      "outputs": [
        {
          "data": {
            "text/plain": [
              "children\n",
              "0.0    571\n",
              "1.0    323\n",
              "2.0    239\n",
              "3.0    157\n",
              "4.0     25\n",
              "5.0     18\n",
              "Name: count, dtype: int64"
            ]
          },
          "execution_count": 403,
          "metadata": {},
          "output_type": "execute_result"
        }
      ],
      "source": [
        "#condition that we create for remove unusual data\n",
        "condition_1 = insurance_data.children >= 0\n",
        "condition_2 = insurance_data.children <= 5\n",
        "#Filter our dataframe\n",
        "insurance_data = insurance_data[condition_1 & condition_2]\n",
        "\n",
        "insurance_data['children'].value_counts()"
      ]
    },
    {
      "cell_type": "markdown",
      "metadata": {
        "id": "L-2WMNyHD84q"
      },
      "source": [
        "### Handling Text and Categorical Attributes\n",
        "\n",
        "Machine learning algorithms typically require numerical inputs. By encoding categorical variables into numerical representations, we can include them in our models and leverage their information for predictions and analysis.\n",
        "\n",
        "<font color='#D61E85' size='+2'>**Q14:**</font> Using categorical encoding and one-hot encoding try to transform your dataset, so the model can take advantage of non-numerical attributes. The choice between these two techniques depends on the specific characteristics of the dataset. When would you prefer using one-hot encoding over categorical encoding, or vice versa?\n"
      ]
    },
    {
      "cell_type": "markdown",
      "metadata": {
        "id": "8Ob5fnEZIXiC"
      },
      "source": [
        "<font color='#8FCF26' size='+2'>**A14:**</font> Create some cell down below to write and run your code."
      ]
    },
    {
      "cell_type": "markdown",
      "metadata": {},
      "source": [
        "For columns that have a lot of unique values, we use Categorical encoding. For other columns that contain unique values have a limited range, we use One-hot encoding. The main reason is not to increase the number of columns in our dataset too much (as one-hot-encoding creates new columns). But overall, both approaches can be used."
      ]
    },
    {
      "cell_type": "markdown",
      "metadata": {},
      "source": [
        "For ```sex``` and ```region``` column I use one-hot encoding because :\n",
        "\n",
        " In most cases, gender categories like \"Male\", \"Female\", and \"Other\" are considered nominal categories. This means they don't have a natural order or hierarchy. One-hot encoding is specifically designed for handling nominal data, as it creates binary columns for each category.\n",
        " "
      ]
    },
    {
      "cell_type": "code",
      "execution_count": 404,
      "metadata": {},
      "outputs": [
        {
          "data": {
            "text/html": [
              "<div>\n",
              "<style scoped>\n",
              "    .dataframe tbody tr th:only-of-type {\n",
              "        vertical-align: middle;\n",
              "    }\n",
              "\n",
              "    .dataframe tbody tr th {\n",
              "        vertical-align: top;\n",
              "    }\n",
              "\n",
              "    .dataframe thead th {\n",
              "        text-align: right;\n",
              "    }\n",
              "</style>\n",
              "<table border=\"1\" class=\"dataframe\">\n",
              "  <thead>\n",
              "    <tr style=\"text-align: right;\">\n",
              "      <th></th>\n",
              "      <th>age</th>\n",
              "      <th>sex</th>\n",
              "      <th>bmi</th>\n",
              "      <th>children</th>\n",
              "      <th>smoker</th>\n",
              "      <th>region</th>\n",
              "      <th>charges</th>\n",
              "      <th>sex_female</th>\n",
              "      <th>sex_male</th>\n",
              "      <th>region_northeast</th>\n",
              "      <th>region_northwest</th>\n",
              "      <th>region_southeast</th>\n",
              "      <th>region_southwest</th>\n",
              "    </tr>\n",
              "  </thead>\n",
              "  <tbody>\n",
              "    <tr>\n",
              "      <th>0</th>\n",
              "      <td>19.0</td>\n",
              "      <td>female</td>\n",
              "      <td>27.900</td>\n",
              "      <td>0.0</td>\n",
              "      <td>yes</td>\n",
              "      <td>southwest</td>\n",
              "      <td>16884.92400</td>\n",
              "      <td>True</td>\n",
              "      <td>False</td>\n",
              "      <td>False</td>\n",
              "      <td>False</td>\n",
              "      <td>False</td>\n",
              "      <td>True</td>\n",
              "    </tr>\n",
              "    <tr>\n",
              "      <th>1</th>\n",
              "      <td>18.0</td>\n",
              "      <td>male</td>\n",
              "      <td>33.770</td>\n",
              "      <td>1.0</td>\n",
              "      <td>no</td>\n",
              "      <td>southeast</td>\n",
              "      <td>1725.55230</td>\n",
              "      <td>False</td>\n",
              "      <td>True</td>\n",
              "      <td>False</td>\n",
              "      <td>False</td>\n",
              "      <td>True</td>\n",
              "      <td>False</td>\n",
              "    </tr>\n",
              "    <tr>\n",
              "      <th>2</th>\n",
              "      <td>28.0</td>\n",
              "      <td>male</td>\n",
              "      <td>33.000</td>\n",
              "      <td>3.0</td>\n",
              "      <td>no</td>\n",
              "      <td>southeast</td>\n",
              "      <td>4449.46200</td>\n",
              "      <td>False</td>\n",
              "      <td>True</td>\n",
              "      <td>False</td>\n",
              "      <td>False</td>\n",
              "      <td>True</td>\n",
              "      <td>False</td>\n",
              "    </tr>\n",
              "    <tr>\n",
              "      <th>3</th>\n",
              "      <td>33.0</td>\n",
              "      <td>male</td>\n",
              "      <td>22.705</td>\n",
              "      <td>0.0</td>\n",
              "      <td>no</td>\n",
              "      <td>northwest</td>\n",
              "      <td>21984.47061</td>\n",
              "      <td>False</td>\n",
              "      <td>True</td>\n",
              "      <td>False</td>\n",
              "      <td>True</td>\n",
              "      <td>False</td>\n",
              "      <td>False</td>\n",
              "    </tr>\n",
              "    <tr>\n",
              "      <th>4</th>\n",
              "      <td>32.0</td>\n",
              "      <td>male</td>\n",
              "      <td>28.880</td>\n",
              "      <td>0.0</td>\n",
              "      <td>no</td>\n",
              "      <td>northwest</td>\n",
              "      <td>3866.85520</td>\n",
              "      <td>False</td>\n",
              "      <td>True</td>\n",
              "      <td>False</td>\n",
              "      <td>True</td>\n",
              "      <td>False</td>\n",
              "      <td>False</td>\n",
              "    </tr>\n",
              "    <tr>\n",
              "      <th>...</th>\n",
              "      <td>...</td>\n",
              "      <td>...</td>\n",
              "      <td>...</td>\n",
              "      <td>...</td>\n",
              "      <td>...</td>\n",
              "      <td>...</td>\n",
              "      <td>...</td>\n",
              "      <td>...</td>\n",
              "      <td>...</td>\n",
              "      <td>...</td>\n",
              "      <td>...</td>\n",
              "      <td>...</td>\n",
              "      <td>...</td>\n",
              "    </tr>\n",
              "    <tr>\n",
              "      <th>1333</th>\n",
              "      <td>50.0</td>\n",
              "      <td>male</td>\n",
              "      <td>30.970</td>\n",
              "      <td>3.0</td>\n",
              "      <td>no</td>\n",
              "      <td>northwest</td>\n",
              "      <td>10600.54830</td>\n",
              "      <td>False</td>\n",
              "      <td>True</td>\n",
              "      <td>False</td>\n",
              "      <td>True</td>\n",
              "      <td>False</td>\n",
              "      <td>False</td>\n",
              "    </tr>\n",
              "    <tr>\n",
              "      <th>1334</th>\n",
              "      <td>18.0</td>\n",
              "      <td>female</td>\n",
              "      <td>31.920</td>\n",
              "      <td>0.0</td>\n",
              "      <td>no</td>\n",
              "      <td>northeast</td>\n",
              "      <td>2205.98080</td>\n",
              "      <td>True</td>\n",
              "      <td>False</td>\n",
              "      <td>True</td>\n",
              "      <td>False</td>\n",
              "      <td>False</td>\n",
              "      <td>False</td>\n",
              "    </tr>\n",
              "    <tr>\n",
              "      <th>1335</th>\n",
              "      <td>18.0</td>\n",
              "      <td>NaN</td>\n",
              "      <td>36.850</td>\n",
              "      <td>0.0</td>\n",
              "      <td>no</td>\n",
              "      <td>southeast</td>\n",
              "      <td>1629.83350</td>\n",
              "      <td>False</td>\n",
              "      <td>False</td>\n",
              "      <td>False</td>\n",
              "      <td>False</td>\n",
              "      <td>True</td>\n",
              "      <td>False</td>\n",
              "    </tr>\n",
              "    <tr>\n",
              "      <th>1336</th>\n",
              "      <td>21.0</td>\n",
              "      <td>female</td>\n",
              "      <td>25.800</td>\n",
              "      <td>0.0</td>\n",
              "      <td>no</td>\n",
              "      <td>southwest</td>\n",
              "      <td>2007.94500</td>\n",
              "      <td>True</td>\n",
              "      <td>False</td>\n",
              "      <td>False</td>\n",
              "      <td>False</td>\n",
              "      <td>False</td>\n",
              "      <td>True</td>\n",
              "    </tr>\n",
              "    <tr>\n",
              "      <th>1337</th>\n",
              "      <td>61.0</td>\n",
              "      <td>female</td>\n",
              "      <td>29.070</td>\n",
              "      <td>0.0</td>\n",
              "      <td>yes</td>\n",
              "      <td>northwest</td>\n",
              "      <td>29141.36030</td>\n",
              "      <td>True</td>\n",
              "      <td>False</td>\n",
              "      <td>False</td>\n",
              "      <td>True</td>\n",
              "      <td>False</td>\n",
              "      <td>False</td>\n",
              "    </tr>\n",
              "  </tbody>\n",
              "</table>\n",
              "<p>1335 rows × 13 columns</p>\n",
              "</div>"
            ],
            "text/plain": [
              "       age     sex     bmi  children smoker     region      charges  \\\n",
              "0     19.0  female  27.900       0.0    yes  southwest  16884.92400   \n",
              "1     18.0    male  33.770       1.0     no  southeast   1725.55230   \n",
              "2     28.0    male  33.000       3.0     no  southeast   4449.46200   \n",
              "3     33.0    male  22.705       0.0     no  northwest  21984.47061   \n",
              "4     32.0    male  28.880       0.0     no  northwest   3866.85520   \n",
              "...    ...     ...     ...       ...    ...        ...          ...   \n",
              "1333  50.0    male  30.970       3.0     no  northwest  10600.54830   \n",
              "1334  18.0  female  31.920       0.0     no  northeast   2205.98080   \n",
              "1335  18.0     NaN  36.850       0.0     no  southeast   1629.83350   \n",
              "1336  21.0  female  25.800       0.0     no  southwest   2007.94500   \n",
              "1337  61.0  female  29.070       0.0    yes  northwest  29141.36030   \n",
              "\n",
              "      sex_female  sex_male  region_northeast  region_northwest  \\\n",
              "0           True     False             False             False   \n",
              "1          False      True             False             False   \n",
              "2          False      True             False             False   \n",
              "3          False      True             False              True   \n",
              "4          False      True             False              True   \n",
              "...          ...       ...               ...               ...   \n",
              "1333       False      True             False              True   \n",
              "1334        True     False              True             False   \n",
              "1335       False     False             False             False   \n",
              "1336        True     False             False             False   \n",
              "1337        True     False             False              True   \n",
              "\n",
              "      region_southeast  region_southwest  \n",
              "0                False              True  \n",
              "1                 True             False  \n",
              "2                 True             False  \n",
              "3                False             False  \n",
              "4                False             False  \n",
              "...                ...               ...  \n",
              "1333             False             False  \n",
              "1334             False             False  \n",
              "1335              True             False  \n",
              "1336             False              True  \n",
              "1337             False             False  \n",
              "\n",
              "[1335 rows x 13 columns]"
            ]
          },
          "execution_count": 404,
          "metadata": {},
          "output_type": "execute_result"
        }
      ],
      "source": [
        "dummies = pd.get_dummies(df[['sex', 'region']])\n",
        "insurance_data = pd.concat([df, dummies], axis=1)\n",
        "insurance_data"
      ]
    },
    {
      "cell_type": "markdown",
      "metadata": {},
      "source": [
        "In ```smoke``` column i dont use one-hot encoder :\n",
        "\n",
        "because for a binary column with \"Yes\" and \"No\" values, using a label encoder or a binary encoder would be more appropriate than a one-hot encoder or an ordinal encoder.\n",
        "\n",
        "Label Encoder:\n",
        "\n",
        "A label encoder assigns a unique numerical value to each category. In this case, \"Yes\" might be encoded as 1 and \"No\" as 0."
      ]
    },
    {
      "cell_type": "code",
      "execution_count": 405,
      "metadata": {},
      "outputs": [
        {
          "data": {
            "text/html": [
              "<div>\n",
              "<style scoped>\n",
              "    .dataframe tbody tr th:only-of-type {\n",
              "        vertical-align: middle;\n",
              "    }\n",
              "\n",
              "    .dataframe tbody tr th {\n",
              "        vertical-align: top;\n",
              "    }\n",
              "\n",
              "    .dataframe thead th {\n",
              "        text-align: right;\n",
              "    }\n",
              "</style>\n",
              "<table border=\"1\" class=\"dataframe\">\n",
              "  <thead>\n",
              "    <tr style=\"text-align: right;\">\n",
              "      <th></th>\n",
              "      <th>age</th>\n",
              "      <th>sex</th>\n",
              "      <th>bmi</th>\n",
              "      <th>children</th>\n",
              "      <th>smoker</th>\n",
              "      <th>region</th>\n",
              "      <th>charges</th>\n",
              "      <th>sex_female</th>\n",
              "      <th>sex_male</th>\n",
              "      <th>region_northeast</th>\n",
              "      <th>region_northwest</th>\n",
              "      <th>region_southeast</th>\n",
              "      <th>region_southwest</th>\n",
              "    </tr>\n",
              "  </thead>\n",
              "  <tbody>\n",
              "    <tr>\n",
              "      <th>0</th>\n",
              "      <td>19.0</td>\n",
              "      <td>female</td>\n",
              "      <td>27.900</td>\n",
              "      <td>0.0</td>\n",
              "      <td>1</td>\n",
              "      <td>southwest</td>\n",
              "      <td>16884.92400</td>\n",
              "      <td>True</td>\n",
              "      <td>False</td>\n",
              "      <td>False</td>\n",
              "      <td>False</td>\n",
              "      <td>False</td>\n",
              "      <td>True</td>\n",
              "    </tr>\n",
              "    <tr>\n",
              "      <th>1</th>\n",
              "      <td>18.0</td>\n",
              "      <td>male</td>\n",
              "      <td>33.770</td>\n",
              "      <td>1.0</td>\n",
              "      <td>0</td>\n",
              "      <td>southeast</td>\n",
              "      <td>1725.55230</td>\n",
              "      <td>False</td>\n",
              "      <td>True</td>\n",
              "      <td>False</td>\n",
              "      <td>False</td>\n",
              "      <td>True</td>\n",
              "      <td>False</td>\n",
              "    </tr>\n",
              "    <tr>\n",
              "      <th>2</th>\n",
              "      <td>28.0</td>\n",
              "      <td>male</td>\n",
              "      <td>33.000</td>\n",
              "      <td>3.0</td>\n",
              "      <td>0</td>\n",
              "      <td>southeast</td>\n",
              "      <td>4449.46200</td>\n",
              "      <td>False</td>\n",
              "      <td>True</td>\n",
              "      <td>False</td>\n",
              "      <td>False</td>\n",
              "      <td>True</td>\n",
              "      <td>False</td>\n",
              "    </tr>\n",
              "    <tr>\n",
              "      <th>3</th>\n",
              "      <td>33.0</td>\n",
              "      <td>male</td>\n",
              "      <td>22.705</td>\n",
              "      <td>0.0</td>\n",
              "      <td>0</td>\n",
              "      <td>northwest</td>\n",
              "      <td>21984.47061</td>\n",
              "      <td>False</td>\n",
              "      <td>True</td>\n",
              "      <td>False</td>\n",
              "      <td>True</td>\n",
              "      <td>False</td>\n",
              "      <td>False</td>\n",
              "    </tr>\n",
              "    <tr>\n",
              "      <th>4</th>\n",
              "      <td>32.0</td>\n",
              "      <td>male</td>\n",
              "      <td>28.880</td>\n",
              "      <td>0.0</td>\n",
              "      <td>0</td>\n",
              "      <td>northwest</td>\n",
              "      <td>3866.85520</td>\n",
              "      <td>False</td>\n",
              "      <td>True</td>\n",
              "      <td>False</td>\n",
              "      <td>True</td>\n",
              "      <td>False</td>\n",
              "      <td>False</td>\n",
              "    </tr>\n",
              "    <tr>\n",
              "      <th>...</th>\n",
              "      <td>...</td>\n",
              "      <td>...</td>\n",
              "      <td>...</td>\n",
              "      <td>...</td>\n",
              "      <td>...</td>\n",
              "      <td>...</td>\n",
              "      <td>...</td>\n",
              "      <td>...</td>\n",
              "      <td>...</td>\n",
              "      <td>...</td>\n",
              "      <td>...</td>\n",
              "      <td>...</td>\n",
              "      <td>...</td>\n",
              "    </tr>\n",
              "    <tr>\n",
              "      <th>1330</th>\n",
              "      <td>50.0</td>\n",
              "      <td>male</td>\n",
              "      <td>30.970</td>\n",
              "      <td>3.0</td>\n",
              "      <td>0</td>\n",
              "      <td>northwest</td>\n",
              "      <td>10600.54830</td>\n",
              "      <td>False</td>\n",
              "      <td>True</td>\n",
              "      <td>False</td>\n",
              "      <td>True</td>\n",
              "      <td>False</td>\n",
              "      <td>False</td>\n",
              "    </tr>\n",
              "    <tr>\n",
              "      <th>1331</th>\n",
              "      <td>18.0</td>\n",
              "      <td>female</td>\n",
              "      <td>31.920</td>\n",
              "      <td>0.0</td>\n",
              "      <td>0</td>\n",
              "      <td>northeast</td>\n",
              "      <td>2205.98080</td>\n",
              "      <td>True</td>\n",
              "      <td>False</td>\n",
              "      <td>True</td>\n",
              "      <td>False</td>\n",
              "      <td>False</td>\n",
              "      <td>False</td>\n",
              "    </tr>\n",
              "    <tr>\n",
              "      <th>1332</th>\n",
              "      <td>18.0</td>\n",
              "      <td>NaN</td>\n",
              "      <td>36.850</td>\n",
              "      <td>0.0</td>\n",
              "      <td>0</td>\n",
              "      <td>southeast</td>\n",
              "      <td>1629.83350</td>\n",
              "      <td>False</td>\n",
              "      <td>False</td>\n",
              "      <td>False</td>\n",
              "      <td>False</td>\n",
              "      <td>True</td>\n",
              "      <td>False</td>\n",
              "    </tr>\n",
              "    <tr>\n",
              "      <th>1333</th>\n",
              "      <td>21.0</td>\n",
              "      <td>female</td>\n",
              "      <td>25.800</td>\n",
              "      <td>0.0</td>\n",
              "      <td>0</td>\n",
              "      <td>southwest</td>\n",
              "      <td>2007.94500</td>\n",
              "      <td>True</td>\n",
              "      <td>False</td>\n",
              "      <td>False</td>\n",
              "      <td>False</td>\n",
              "      <td>False</td>\n",
              "      <td>True</td>\n",
              "    </tr>\n",
              "    <tr>\n",
              "      <th>1334</th>\n",
              "      <td>61.0</td>\n",
              "      <td>female</td>\n",
              "      <td>29.070</td>\n",
              "      <td>0.0</td>\n",
              "      <td>1</td>\n",
              "      <td>northwest</td>\n",
              "      <td>29141.36030</td>\n",
              "      <td>True</td>\n",
              "      <td>False</td>\n",
              "      <td>False</td>\n",
              "      <td>True</td>\n",
              "      <td>False</td>\n",
              "      <td>False</td>\n",
              "    </tr>\n",
              "  </tbody>\n",
              "</table>\n",
              "<p>1335 rows × 13 columns</p>\n",
              "</div>"
            ],
            "text/plain": [
              "       age     sex     bmi  children  smoker     region      charges  \\\n",
              "0     19.0  female  27.900       0.0       1  southwest  16884.92400   \n",
              "1     18.0    male  33.770       1.0       0  southeast   1725.55230   \n",
              "2     28.0    male  33.000       3.0       0  southeast   4449.46200   \n",
              "3     33.0    male  22.705       0.0       0  northwest  21984.47061   \n",
              "4     32.0    male  28.880       0.0       0  northwest   3866.85520   \n",
              "...    ...     ...     ...       ...     ...        ...          ...   \n",
              "1330  50.0    male  30.970       3.0       0  northwest  10600.54830   \n",
              "1331  18.0  female  31.920       0.0       0  northeast   2205.98080   \n",
              "1332  18.0     NaN  36.850       0.0       0  southeast   1629.83350   \n",
              "1333  21.0  female  25.800       0.0       0  southwest   2007.94500   \n",
              "1334  61.0  female  29.070       0.0       1  northwest  29141.36030   \n",
              "\n",
              "      sex_female  sex_male  region_northeast  region_northwest  \\\n",
              "0           True     False             False             False   \n",
              "1          False      True             False             False   \n",
              "2          False      True             False             False   \n",
              "3          False      True             False              True   \n",
              "4          False      True             False              True   \n",
              "...          ...       ...               ...               ...   \n",
              "1330       False      True             False              True   \n",
              "1331        True     False              True             False   \n",
              "1332       False     False             False             False   \n",
              "1333        True     False             False             False   \n",
              "1334        True     False             False              True   \n",
              "\n",
              "      region_southeast  region_southwest  \n",
              "0                False              True  \n",
              "1                 True             False  \n",
              "2                 True             False  \n",
              "3                False             False  \n",
              "4                False             False  \n",
              "...                ...               ...  \n",
              "1330             False             False  \n",
              "1331             False             False  \n",
              "1332              True             False  \n",
              "1333             False              True  \n",
              "1334             False             False  \n",
              "\n",
              "[1335 rows x 13 columns]"
            ]
          },
          "execution_count": 405,
          "metadata": {},
          "output_type": "execute_result"
        }
      ],
      "source": [
        "insurance_data['smoker'] = insurance_data['smoker'].replace('yes', 1)\n",
        "insurance_data['smoker'] = insurance_data['smoker'].replace('no', 0)\n",
        "insurance_data.reset_index(inplace=True)\n",
        "insurance_data = insurance_data.drop(columns=['index'])\n",
        "insurance_data"
      ]
    },
    {
      "cell_type": "markdown",
      "metadata": {},
      "source": [
        "###\tLook for Correlations\n",
        "\n",
        "At first, what is correlation? You can use the video provided below to learn more about Pearson Correlation.\n",
        "\n",
        "[Pearson's Correlation, Clearly Explained!!!](https://www.youtube.com/watch?v=xZ_z8KWkhXE)\n",
        "\n",
        "<font color='#D61E85' size='+2'>**Q8:**</font> Try to find the correlation between the `charges` column which we want to predict and every other columns using `corr` method. What is the interpretation of these numbers?\n",
        "\n",
        "<font color='#8FCF26' size='+2'>**A8:**</font> Create some cell down below to write and run your code."
      ]
    },
    {
      "cell_type": "code",
      "execution_count": 406,
      "metadata": {},
      "outputs": [
        {
          "data": {
            "text/html": [
              "<style type=\"text/css\">\n",
              "#T_563e8_row0_col0, #T_563e8_row1_col1, #T_563e8_row2_col2, #T_563e8_row3_col3, #T_563e8_row4_col4, #T_563e8_row5_col5, #T_563e8_row6_col6, #T_563e8_row7_col7, #T_563e8_row8_col8, #T_563e8_row9_col9, #T_563e8_row10_col10 {\n",
              "  background-color: #b40426;\n",
              "  color: #f1f1f1;\n",
              "}\n",
              "#T_563e8_row0_col1, #T_563e8_row1_col4, #T_563e8_row1_col7, #T_563e8_row1_col8 {\n",
              "  background-color: #7396f5;\n",
              "  color: #f1f1f1;\n",
              "}\n",
              "#T_563e8_row0_col2, #T_563e8_row1_col3, #T_563e8_row6_col2 {\n",
              "  background-color: #4e68d8;\n",
              "  color: #f1f1f1;\n",
              "}\n",
              "#T_563e8_row0_col3, #T_563e8_row5_col0 {\n",
              "  background-color: #4961d2;\n",
              "  color: #f1f1f1;\n",
              "}\n",
              "#T_563e8_row0_col4 {\n",
              "  background-color: #abc8fd;\n",
              "  color: #000000;\n",
              "}\n",
              "#T_563e8_row0_col5, #T_563e8_row1_col6 {\n",
              "  background-color: #dfdbd9;\n",
              "  color: #000000;\n",
              "}\n",
              "#T_563e8_row0_col6, #T_563e8_row1_col5 {\n",
              "  background-color: #d9dce1;\n",
              "  color: #000000;\n",
              "}\n",
              "#T_563e8_row0_col7, #T_563e8_row0_col8, #T_563e8_row5_col7, #T_563e8_row6_col7 {\n",
              "  background-color: #8fb1fe;\n",
              "  color: #000000;\n",
              "}\n",
              "#T_563e8_row0_col9, #T_563e8_row6_col8 {\n",
              "  background-color: #8caffe;\n",
              "  color: #000000;\n",
              "}\n",
              "#T_563e8_row0_col10, #T_563e8_row9_col1 {\n",
              "  background-color: #92b4fe;\n",
              "  color: #000000;\n",
              "}\n",
              "#T_563e8_row1_col0, #T_563e8_row2_col3, #T_563e8_row6_col4 {\n",
              "  background-color: #5d7ce6;\n",
              "  color: #f1f1f1;\n",
              "}\n",
              "#T_563e8_row1_col2, #T_563e8_row8_col2, #T_563e8_row8_col3, #T_563e8_row10_col0, #T_563e8_row10_col3 {\n",
              "  background-color: #455cce;\n",
              "  color: #f1f1f1;\n",
              "}\n",
              "#T_563e8_row1_col9 {\n",
              "  background-color: #bed2f6;\n",
              "  color: #000000;\n",
              "}\n",
              "#T_563e8_row1_col10 {\n",
              "  background-color: #96b7ff;\n",
              "  color: #000000;\n",
              "}\n",
              "#T_563e8_row2_col0 {\n",
              "  background-color: #4b64d5;\n",
              "  color: #f1f1f1;\n",
              "}\n",
              "#T_563e8_row2_col1 {\n",
              "  background-color: #5a78e4;\n",
              "  color: #f1f1f1;\n",
              "}\n",
              "#T_563e8_row2_col4 {\n",
              "  background-color: #5e7de7;\n",
              "  color: #f1f1f1;\n",
              "}\n",
              "#T_563e8_row2_col5 {\n",
              "  background-color: #d8dce2;\n",
              "  color: #000000;\n",
              "}\n",
              "#T_563e8_row2_col6 {\n",
              "  background-color: #e0dbd8;\n",
              "  color: #000000;\n",
              "}\n",
              "#T_563e8_row2_col7, #T_563e8_row2_col9 {\n",
              "  background-color: #88abfd;\n",
              "  color: #000000;\n",
              "}\n",
              "#T_563e8_row2_col8, #T_563e8_row3_col7, #T_563e8_row4_col7, #T_563e8_row5_col10 {\n",
              "  background-color: #90b2fe;\n",
              "  color: #000000;\n",
              "}\n",
              "#T_563e8_row2_col10 {\n",
              "  background-color: #9dbdff;\n",
              "  color: #000000;\n",
              "}\n",
              "#T_563e8_row3_col0, #T_563e8_row5_col2, #T_563e8_row5_col3, #T_563e8_row5_col4, #T_563e8_row5_col6, #T_563e8_row6_col0, #T_563e8_row6_col5, #T_563e8_row7_col1, #T_563e8_row7_col2, #T_563e8_row7_col9, #T_563e8_row8_col1, #T_563e8_row8_col9, #T_563e8_row9_col7, #T_563e8_row9_col8, #T_563e8_row9_col10, #T_563e8_row10_col9 {\n",
              "  background-color: #3b4cc0;\n",
              "  color: #f1f1f1;\n",
              "}\n",
              "#T_563e8_row3_col1 {\n",
              "  background-color: #5673e0;\n",
              "  color: #f1f1f1;\n",
              "}\n",
              "#T_563e8_row3_col2, #T_563e8_row7_col3 {\n",
              "  background-color: #516ddb;\n",
              "  color: #f1f1f1;\n",
              "}\n",
              "#T_563e8_row3_col4, #T_563e8_row4_col3 {\n",
              "  background-color: #ee8468;\n",
              "  color: #f1f1f1;\n",
              "}\n",
              "#T_563e8_row3_col5 {\n",
              "  background-color: #d2dbe8;\n",
              "  color: #000000;\n",
              "}\n",
              "#T_563e8_row3_col6 {\n",
              "  background-color: #e6d7cf;\n",
              "  color: #000000;\n",
              "}\n",
              "#T_563e8_row3_col8, #T_563e8_row3_col10, #T_563e8_row4_col8 {\n",
              "  background-color: #85a8fc;\n",
              "  color: #f1f1f1;\n",
              "}\n",
              "#T_563e8_row3_col9 {\n",
              "  background-color: #9fbfff;\n",
              "  color: #000000;\n",
              "}\n",
              "#T_563e8_row4_col0 {\n",
              "  background-color: #a3c2fe;\n",
              "  color: #000000;\n",
              "}\n",
              "#T_563e8_row4_col1 {\n",
              "  background-color: #80a3fa;\n",
              "  color: #f1f1f1;\n",
              "}\n",
              "#T_563e8_row4_col2 {\n",
              "  background-color: #5572df;\n",
              "  color: #f1f1f1;\n",
              "}\n",
              "#T_563e8_row4_col5 {\n",
              "  background-color: #d4dbe6;\n",
              "  color: #000000;\n",
              "}\n",
              "#T_563e8_row4_col6 {\n",
              "  background-color: #e4d9d2;\n",
              "  color: #000000;\n",
              "}\n",
              "#T_563e8_row4_col9 {\n",
              "  background-color: #a1c0ff;\n",
              "  color: #000000;\n",
              "}\n",
              "#T_563e8_row4_col10 {\n",
              "  background-color: #82a6fb;\n",
              "  color: #f1f1f1;\n",
              "}\n",
              "#T_563e8_row5_col1 {\n",
              "  background-color: #506bda;\n",
              "  color: #f1f1f1;\n",
              "}\n",
              "#T_563e8_row5_col8 {\n",
              "  background-color: #93b5fe;\n",
              "  color: #000000;\n",
              "}\n",
              "#T_563e8_row5_col9 {\n",
              "  background-color: #8badfd;\n",
              "  color: #000000;\n",
              "}\n",
              "#T_563e8_row6_col1, #T_563e8_row10_col1 {\n",
              "  background-color: #5f7fe8;\n",
              "  color: #f1f1f1;\n",
              "}\n",
              "#T_563e8_row6_col3 {\n",
              "  background-color: #6788ee;\n",
              "  color: #f1f1f1;\n",
              "}\n",
              "#T_563e8_row6_col9 {\n",
              "  background-color: #94b6ff;\n",
              "  color: #000000;\n",
              "}\n",
              "#T_563e8_row6_col10 {\n",
              "  background-color: #8db0fe;\n",
              "  color: #000000;\n",
              "}\n",
              "#T_563e8_row7_col0, #T_563e8_row8_col0 {\n",
              "  background-color: #4257c9;\n",
              "  color: #f1f1f1;\n",
              "}\n",
              "#T_563e8_row7_col4 {\n",
              "  background-color: #4c66d6;\n",
              "  color: #f1f1f1;\n",
              "}\n",
              "#T_563e8_row7_col5, #T_563e8_row7_col6 {\n",
              "  background-color: #dcdddd;\n",
              "  color: #000000;\n",
              "}\n",
              "#T_563e8_row7_col8, #T_563e8_row7_col10, #T_563e8_row8_col7, #T_563e8_row8_col10, #T_563e8_row10_col7, #T_563e8_row10_col8 {\n",
              "  background-color: #3f53c6;\n",
              "  color: #f1f1f1;\n",
              "}\n",
              "#T_563e8_row8_col4 {\n",
              "  background-color: #4055c8;\n",
              "  color: #f1f1f1;\n",
              "}\n",
              "#T_563e8_row8_col5, #T_563e8_row9_col6 {\n",
              "  background-color: #dedcdb;\n",
              "  color: #000000;\n",
              "}\n",
              "#T_563e8_row8_col6, #T_563e8_row10_col6 {\n",
              "  background-color: #dbdcde;\n",
              "  color: #000000;\n",
              "}\n",
              "#T_563e8_row9_col0, #T_563e8_row10_col4 {\n",
              "  background-color: #3e51c5;\n",
              "  color: #f1f1f1;\n",
              "}\n",
              "#T_563e8_row9_col2 {\n",
              "  background-color: #3c4ec2;\n",
              "  color: #f1f1f1;\n",
              "}\n",
              "#T_563e8_row9_col3 {\n",
              "  background-color: #6384eb;\n",
              "  color: #f1f1f1;\n",
              "}\n",
              "#T_563e8_row9_col4 {\n",
              "  background-color: #6180e9;\n",
              "  color: #f1f1f1;\n",
              "}\n",
              "#T_563e8_row9_col5 {\n",
              "  background-color: #dadce0;\n",
              "  color: #000000;\n",
              "}\n",
              "#T_563e8_row10_col2 {\n",
              "  background-color: #536edd;\n",
              "  color: #f1f1f1;\n",
              "}\n",
              "#T_563e8_row10_col5 {\n",
              "  background-color: #dddcdc;\n",
              "  color: #000000;\n",
              "}\n",
              "</style>\n",
              "<table id=\"T_563e8\">\n",
              "  <thead>\n",
              "    <tr>\n",
              "      <th class=\"blank level0\" >&nbsp;</th>\n",
              "      <th id=\"T_563e8_level0_col0\" class=\"col_heading level0 col0\" >age</th>\n",
              "      <th id=\"T_563e8_level0_col1\" class=\"col_heading level0 col1\" >bmi</th>\n",
              "      <th id=\"T_563e8_level0_col2\" class=\"col_heading level0 col2\" >children</th>\n",
              "      <th id=\"T_563e8_level0_col3\" class=\"col_heading level0 col3\" >smoker</th>\n",
              "      <th id=\"T_563e8_level0_col4\" class=\"col_heading level0 col4\" >charges</th>\n",
              "      <th id=\"T_563e8_level0_col5\" class=\"col_heading level0 col5\" >sex_female</th>\n",
              "      <th id=\"T_563e8_level0_col6\" class=\"col_heading level0 col6\" >sex_male</th>\n",
              "      <th id=\"T_563e8_level0_col7\" class=\"col_heading level0 col7\" >region_northeast</th>\n",
              "      <th id=\"T_563e8_level0_col8\" class=\"col_heading level0 col8\" >region_northwest</th>\n",
              "      <th id=\"T_563e8_level0_col9\" class=\"col_heading level0 col9\" >region_southeast</th>\n",
              "      <th id=\"T_563e8_level0_col10\" class=\"col_heading level0 col10\" >region_southwest</th>\n",
              "    </tr>\n",
              "  </thead>\n",
              "  <tbody>\n",
              "    <tr>\n",
              "      <th id=\"T_563e8_level0_row0\" class=\"row_heading level0 row0\" >age</th>\n",
              "      <td id=\"T_563e8_row0_col0\" class=\"data row0 col0\" >1.000000</td>\n",
              "      <td id=\"T_563e8_row0_col1\" class=\"data row0 col1\" >0.087191</td>\n",
              "      <td id=\"T_563e8_row0_col2\" class=\"data row0 col2\" >0.033867</td>\n",
              "      <td id=\"T_563e8_row0_col3\" class=\"data row0 col3\" >-0.025732</td>\n",
              "      <td id=\"T_563e8_row0_col4\" class=\"data row0 col4\" >0.298285</td>\n",
              "      <td id=\"T_563e8_row0_col5\" class=\"data row0 col5\" >0.024796</td>\n",
              "      <td id=\"T_563e8_row0_col6\" class=\"data row0 col6\" >-0.023434</td>\n",
              "      <td id=\"T_563e8_row0_col7\" class=\"data row0 col7\" >0.002063</td>\n",
              "      <td id=\"T_563e8_row0_col8\" class=\"data row0 col8\" >0.000148</td>\n",
              "      <td id=\"T_563e8_row0_col9\" class=\"data row0 col9\" >-0.012209</td>\n",
              "      <td id=\"T_563e8_row0_col10\" class=\"data row0 col10\" >0.012017</td>\n",
              "    </tr>\n",
              "    <tr>\n",
              "      <th id=\"T_563e8_level0_row1\" class=\"row_heading level0 row1\" >bmi</th>\n",
              "      <td id=\"T_563e8_row1_col0\" class=\"data row1 col0\" >0.087191</td>\n",
              "      <td id=\"T_563e8_row1_col1\" class=\"data row1 col1\" >1.000000</td>\n",
              "      <td id=\"T_563e8_row1_col2\" class=\"data row1 col2\" >0.005085</td>\n",
              "      <td id=\"T_563e8_row1_col3\" class=\"data row1 col3\" >-0.007607</td>\n",
              "      <td id=\"T_563e8_row1_col4\" class=\"data row1 col4\" >0.128443</td>\n",
              "      <td id=\"T_563e8_row1_col5\" class=\"data row1 col5\" >-0.025511</td>\n",
              "      <td id=\"T_563e8_row1_col6\" class=\"data row1 col6\" >0.025467</td>\n",
              "      <td id=\"T_563e8_row1_col7\" class=\"data row1 col7\" >-0.107512</td>\n",
              "      <td id=\"T_563e8_row1_col8\" class=\"data row1 col8\" >-0.106993</td>\n",
              "      <td id=\"T_563e8_row1_col9\" class=\"data row1 col9\" >0.183313</td>\n",
              "      <td id=\"T_563e8_row1_col10\" class=\"data row1 col10\" >0.023670</td>\n",
              "    </tr>\n",
              "    <tr>\n",
              "      <th id=\"T_563e8_level0_row2\" class=\"row_heading level0 row2\" >children</th>\n",
              "      <td id=\"T_563e8_row2_col0\" class=\"data row2 col0\" >0.033867</td>\n",
              "      <td id=\"T_563e8_row2_col1\" class=\"data row2 col1\" >0.005085</td>\n",
              "      <td id=\"T_563e8_row2_col2\" class=\"data row2 col2\" >1.000000</td>\n",
              "      <td id=\"T_563e8_row2_col3\" class=\"data row2 col3\" >0.044762</td>\n",
              "      <td id=\"T_563e8_row2_col4\" class=\"data row2 col4\" >0.060666</td>\n",
              "      <td id=\"T_563e8_row2_col5\" class=\"data row2 col5\" >-0.032045</td>\n",
              "      <td id=\"T_563e8_row2_col6\" class=\"data row2 col6\" >0.033374</td>\n",
              "      <td id=\"T_563e8_row2_col7\" class=\"data row2 col7\" >-0.028123</td>\n",
              "      <td id=\"T_563e8_row2_col8\" class=\"data row2 col8\" >0.006532</td>\n",
              "      <td id=\"T_563e8_row2_col9\" class=\"data row2 col9\" >-0.026985</td>\n",
              "      <td id=\"T_563e8_row2_col10\" class=\"data row2 col10\" >0.052015</td>\n",
              "    </tr>\n",
              "    <tr>\n",
              "      <th id=\"T_563e8_level0_row3\" class=\"row_heading level0 row3\" >smoker</th>\n",
              "      <td id=\"T_563e8_row3_col0\" class=\"data row3 col0\" >-0.025732</td>\n",
              "      <td id=\"T_563e8_row3_col1\" class=\"data row3 col1\" >-0.007607</td>\n",
              "      <td id=\"T_563e8_row3_col2\" class=\"data row3 col2\" >0.044762</td>\n",
              "      <td id=\"T_563e8_row3_col3\" class=\"data row3 col3\" >1.000000</td>\n",
              "      <td id=\"T_563e8_row3_col4\" class=\"data row3 col4\" >0.784762</td>\n",
              "      <td id=\"T_563e8_row3_col5\" class=\"data row3 col5\" >-0.077123</td>\n",
              "      <td id=\"T_563e8_row3_col6\" class=\"data row3 col6\" >0.076443</td>\n",
              "      <td id=\"T_563e8_row3_col7\" class=\"data row3 col7\" >0.004112</td>\n",
              "      <td id=\"T_563e8_row3_col8\" class=\"data row3 col8\" >-0.036613</td>\n",
              "      <td id=\"T_563e8_row3_col9\" class=\"data row3 col9\" >0.063461</td>\n",
              "      <td id=\"T_563e8_row3_col10\" class=\"data row3 col10\" >-0.039253</td>\n",
              "    </tr>\n",
              "    <tr>\n",
              "      <th id=\"T_563e8_level0_row4\" class=\"row_heading level0 row4\" >charges</th>\n",
              "      <td id=\"T_563e8_row4_col0\" class=\"data row4 col0\" >0.298285</td>\n",
              "      <td id=\"T_563e8_row4_col1\" class=\"data row4 col1\" >0.128443</td>\n",
              "      <td id=\"T_563e8_row4_col2\" class=\"data row4 col2\" >0.060666</td>\n",
              "      <td id=\"T_563e8_row4_col3\" class=\"data row4 col3\" >0.784762</td>\n",
              "      <td id=\"T_563e8_row4_col4\" class=\"data row4 col4\" >1.000000</td>\n",
              "      <td id=\"T_563e8_row4_col5\" class=\"data row4 col5\" >-0.060826</td>\n",
              "      <td id=\"T_563e8_row4_col6\" class=\"data row4 col6\" >0.058553</td>\n",
              "      <td id=\"T_563e8_row4_col7\" class=\"data row4 col7\" >0.003413</td>\n",
              "      <td id=\"T_563e8_row4_col8\" class=\"data row4 col8\" >-0.038520</td>\n",
              "      <td id=\"T_563e8_row4_col9\" class=\"data row4 col9\" >0.068507</td>\n",
              "      <td id=\"T_563e8_row4_col10\" class=\"data row4 col10\" >-0.046086</td>\n",
              "    </tr>\n",
              "    <tr>\n",
              "      <th id=\"T_563e8_level0_row5\" class=\"row_heading level0 row5\" >sex_female</th>\n",
              "      <td id=\"T_563e8_row5_col0\" class=\"data row5 col0\" >0.024796</td>\n",
              "      <td id=\"T_563e8_row5_col1\" class=\"data row5 col1\" >-0.025511</td>\n",
              "      <td id=\"T_563e8_row5_col2\" class=\"data row5 col2\" >-0.032045</td>\n",
              "      <td id=\"T_563e8_row5_col3\" class=\"data row5 col3\" >-0.077123</td>\n",
              "      <td id=\"T_563e8_row5_col4\" class=\"data row5 col4\" >-0.060826</td>\n",
              "      <td id=\"T_563e8_row5_col5\" class=\"data row5 col5\" >1.000000</td>\n",
              "      <td id=\"T_563e8_row5_col6\" class=\"data row5 col6\" >-0.994025</td>\n",
              "      <td id=\"T_563e8_row5_col7\" class=\"data row5 col7\" >0.001947</td>\n",
              "      <td id=\"T_563e8_row5_col8\" class=\"data row5 col8\" >0.012461</td>\n",
              "      <td id=\"T_563e8_row5_col9\" class=\"data row5 col9\" >-0.017545</td>\n",
              "      <td id=\"T_563e8_row5_col10\" class=\"data row5 col10\" >0.005446</td>\n",
              "    </tr>\n",
              "    <tr>\n",
              "      <th id=\"T_563e8_level0_row6\" class=\"row_heading level0 row6\" >sex_male</th>\n",
              "      <td id=\"T_563e8_row6_col0\" class=\"data row6 col0\" >-0.023434</td>\n",
              "      <td id=\"T_563e8_row6_col1\" class=\"data row6 col1\" >0.025467</td>\n",
              "      <td id=\"T_563e8_row6_col2\" class=\"data row6 col2\" >0.033374</td>\n",
              "      <td id=\"T_563e8_row6_col3\" class=\"data row6 col3\" >0.076443</td>\n",
              "      <td id=\"T_563e8_row6_col4\" class=\"data row6 col4\" >0.058553</td>\n",
              "      <td id=\"T_563e8_row6_col5\" class=\"data row6 col5\" >-0.994025</td>\n",
              "      <td id=\"T_563e8_row6_col6\" class=\"data row6 col6\" >1.000000</td>\n",
              "      <td id=\"T_563e8_row6_col7\" class=\"data row6 col7\" >-0.002060</td>\n",
              "      <td id=\"T_563e8_row6_col8\" class=\"data row6 col8\" >-0.012552</td>\n",
              "      <td id=\"T_563e8_row6_col9\" class=\"data row6 col9\" >0.017820</td>\n",
              "      <td id=\"T_563e8_row6_col10\" class=\"data row6 col10\" >-0.005558</td>\n",
              "    </tr>\n",
              "    <tr>\n",
              "      <th id=\"T_563e8_level0_row7\" class=\"row_heading level0 row7\" >region_northeast</th>\n",
              "      <td id=\"T_563e8_row7_col0\" class=\"data row7 col0\" >0.002063</td>\n",
              "      <td id=\"T_563e8_row7_col1\" class=\"data row7 col1\" >-0.107512</td>\n",
              "      <td id=\"T_563e8_row7_col2\" class=\"data row7 col2\" >-0.028123</td>\n",
              "      <td id=\"T_563e8_row7_col3\" class=\"data row7 col3\" >0.004112</td>\n",
              "      <td id=\"T_563e8_row7_col4\" class=\"data row7 col4\" >0.003413</td>\n",
              "      <td id=\"T_563e8_row7_col5\" class=\"data row7 col5\" >0.001947</td>\n",
              "      <td id=\"T_563e8_row7_col6\" class=\"data row7 col6\" >-0.002060</td>\n",
              "      <td id=\"T_563e8_row7_col7\" class=\"data row7 col7\" >1.000000</td>\n",
              "      <td id=\"T_563e8_row7_col8\" class=\"data row7 col8\" >-0.320473</td>\n",
              "      <td id=\"T_563e8_row7_col9\" class=\"data row7 col9\" >-0.343942</td>\n",
              "      <td id=\"T_563e8_row7_col10\" class=\"data row7 col10\" >-0.319170</td>\n",
              "    </tr>\n",
              "    <tr>\n",
              "      <th id=\"T_563e8_level0_row8\" class=\"row_heading level0 row8\" >region_northwest</th>\n",
              "      <td id=\"T_563e8_row8_col0\" class=\"data row8 col0\" >0.000148</td>\n",
              "      <td id=\"T_563e8_row8_col1\" class=\"data row8 col1\" >-0.106993</td>\n",
              "      <td id=\"T_563e8_row8_col2\" class=\"data row8 col2\" >0.006532</td>\n",
              "      <td id=\"T_563e8_row8_col3\" class=\"data row8 col3\" >-0.036613</td>\n",
              "      <td id=\"T_563e8_row8_col4\" class=\"data row8 col4\" >-0.038520</td>\n",
              "      <td id=\"T_563e8_row8_col5\" class=\"data row8 col5\" >0.012461</td>\n",
              "      <td id=\"T_563e8_row8_col6\" class=\"data row8 col6\" >-0.012552</td>\n",
              "      <td id=\"T_563e8_row8_col7\" class=\"data row8 col7\" >-0.320473</td>\n",
              "      <td id=\"T_563e8_row8_col8\" class=\"data row8 col8\" >1.000000</td>\n",
              "      <td id=\"T_563e8_row8_col9\" class=\"data row8 col9\" >-0.345347</td>\n",
              "      <td id=\"T_563e8_row8_col10\" class=\"data row8 col10\" >-0.320473</td>\n",
              "    </tr>\n",
              "    <tr>\n",
              "      <th id=\"T_563e8_level0_row9\" class=\"row_heading level0 row9\" >region_southeast</th>\n",
              "      <td id=\"T_563e8_row9_col0\" class=\"data row9 col0\" >-0.012209</td>\n",
              "      <td id=\"T_563e8_row9_col1\" class=\"data row9 col1\" >0.183313</td>\n",
              "      <td id=\"T_563e8_row9_col2\" class=\"data row9 col2\" >-0.026985</td>\n",
              "      <td id=\"T_563e8_row9_col3\" class=\"data row9 col3\" >0.063461</td>\n",
              "      <td id=\"T_563e8_row9_col4\" class=\"data row9 col4\" >0.068507</td>\n",
              "      <td id=\"T_563e8_row9_col5\" class=\"data row9 col5\" >-0.017545</td>\n",
              "      <td id=\"T_563e8_row9_col6\" class=\"data row9 col6\" >0.017820</td>\n",
              "      <td id=\"T_563e8_row9_col7\" class=\"data row9 col7\" >-0.343942</td>\n",
              "      <td id=\"T_563e8_row9_col8\" class=\"data row9 col8\" >-0.345347</td>\n",
              "      <td id=\"T_563e8_row9_col9\" class=\"data row9 col9\" >1.000000</td>\n",
              "      <td id=\"T_563e8_row9_col10\" class=\"data row9 col10\" >-0.343942</td>\n",
              "    </tr>\n",
              "    <tr>\n",
              "      <th id=\"T_563e8_level0_row10\" class=\"row_heading level0 row10\" >region_southwest</th>\n",
              "      <td id=\"T_563e8_row10_col0\" class=\"data row10 col0\" >0.012017</td>\n",
              "      <td id=\"T_563e8_row10_col1\" class=\"data row10 col1\" >0.023670</td>\n",
              "      <td id=\"T_563e8_row10_col2\" class=\"data row10 col2\" >0.052015</td>\n",
              "      <td id=\"T_563e8_row10_col3\" class=\"data row10 col3\" >-0.039253</td>\n",
              "      <td id=\"T_563e8_row10_col4\" class=\"data row10 col4\" >-0.046086</td>\n",
              "      <td id=\"T_563e8_row10_col5\" class=\"data row10 col5\" >0.005446</td>\n",
              "      <td id=\"T_563e8_row10_col6\" class=\"data row10 col6\" >-0.005558</td>\n",
              "      <td id=\"T_563e8_row10_col7\" class=\"data row10 col7\" >-0.319170</td>\n",
              "      <td id=\"T_563e8_row10_col8\" class=\"data row10 col8\" >-0.320473</td>\n",
              "      <td id=\"T_563e8_row10_col9\" class=\"data row10 col9\" >-0.343942</td>\n",
              "      <td id=\"T_563e8_row10_col10\" class=\"data row10 col10\" >1.000000</td>\n",
              "    </tr>\n",
              "  </tbody>\n",
              "</table>\n"
            ],
            "text/plain": [
              "<pandas.io.formats.style.Styler at 0x1affa80af00>"
            ]
          },
          "execution_count": 406,
          "metadata": {},
          "output_type": "execute_result"
        }
      ],
      "source": [
        "columns = ['age', 'bmi', 'children', 'smoker', 'charges', 'sex_female', 'sex_male', 'region_northeast', 'region_northwest', 'region_southeast', 'region_southwest']\n",
        "corr_matrix = insurance_data[columns].corr()\n",
        "corr_matrix.style.background_gradient(cmap='coolwarm')"
      ]
    },
    {
      "cell_type": "markdown",
      "metadata": {},
      "source": [
        "The correlation coefficient ranges from –1 to 1. When it is close to 1, it means that\n",
        "there is a strong positive correlation; for example, the ```charges``` value tends to\n",
        "go up when the ```smoker``` goes up. When the coefficient is close to –1, it means\n",
        "that there is a strong negative correlation; you can see a small negative correlation\n",
        "between the ```charges``` and ```sex_female```. Finally, coefficients close to 0 mean that there is no\n",
        "linear correlation."
      ]
    },
    {
      "cell_type": "code",
      "execution_count": 407,
      "metadata": {},
      "outputs": [
        {
          "data": {
            "text/plain": [
              "charges             1.000000\n",
              "smoker              0.784762\n",
              "age                 0.298285\n",
              "bmi                 0.128443\n",
              "region_southeast    0.068507\n",
              "children            0.060666\n",
              "sex_male            0.058553\n",
              "region_northeast    0.003413\n",
              "region_northwest   -0.038520\n",
              "region_southwest   -0.046086\n",
              "sex_female         -0.060826\n",
              "Name: charges, dtype: float64"
            ]
          },
          "execution_count": 407,
          "metadata": {},
          "output_type": "execute_result"
        }
      ],
      "source": [
        "corr_matrix[\"charges\"].sort_values(ascending=False)"
      ]
    },
    {
      "cell_type": "markdown",
      "metadata": {},
      "source": [
        "<font color='#D61E85' size='+2'>**Q9:**</font> This time use `scatter_matrix()` function to find correlation between different columns. Choose four columns of your choice. Try to interpret the diagram you draw. The explanations is more important than the diagram.\n",
        "\n",
        "<font color='#8FCF26' size='+2'>**A9:**</font> Create some cell down below to write and run your code."
      ]
    },
    {
      "cell_type": "code",
      "execution_count": 408,
      "metadata": {},
      "outputs": [
        {
          "data": {
            "image/png": "[encoded data removed]",
            "text/plain": [
              "<Figure size 1200x800 with 16 Axes>"
            ]
          },
          "metadata": {},
          "output_type": "display_data"
        }
      ],
      "source": [
        "from pandas.plotting import scatter_matrix\n",
        "\n",
        "#first select attributes for create plot\n",
        "attributes = [\"charges\", \"smoker\", \"age\",\"bmi\"]\n",
        "scatter_matrix(insurance_data[attributes], figsize=(12, 8))\n",
        "plt.show()"
      ]
    },
    {
      "cell_type": "markdown",
      "metadata": {},
      "source": [
        "From the output of the graphs, it can be understood that, for example, being a ```smoker``` has a direct relationship with the amount of the ```charges``` column, and the ```age``` column also has a direct relationship (that is, with increasing ```age```, the amount of ```charges``` usually increases), although the ```bmi``` column may not have such a direct relationship with the ```charges``` column."
      ]
    },
    {
      "cell_type": "markdown",
      "metadata": {},
      "source": [
        "### Experiment with Attribute Combinations\n",
        "\n",
        "Feature engineering involves creating new features by transforming, combining, or deriving information from existing features in order to improve the performance of a machine learning model. This process aims to enhance the predictive power or capture specific patterns or relationships that may not be apparent in the original features alone.\n",
        "\n",
        "<font color='#D61E85' size='+2'>**Q10:**</font> Try to perform feature engineering for our dataset. After creating these new features, it is important to analyze their correlations with the previous features in the dataset. By employing feature engineering methods and examining correlations, we can effectively expand the feature space and potentially uncover meaningful patterns and relationships within the dataset.\n",
        "\n",
        "**Hint:** One straightforward method is using the division operator to derive new features.\n",
        "\n",
        "<font color='#8FCF26' size='+2'>**A10:**</font> Create some cell down below to write and run your code."
      ]
    },
    {
      "cell_type": "markdown",
      "metadata": {},
      "source": [
        "Since the ```bmi``` column has a continuous value, and on the other hand, the ```bmi``` number itself is not that valuable (according to the nature of ```bmi```, this number indicates the body mass index, and maybe the classification obtained is more valuable than this number) , we can get a new column from ```bmi```"
      ]
    },
    {
      "cell_type": "markdown",
      "metadata": {},
      "source": [
        "If ```bmi``` is greater than 30 it's related to fat person.\n",
        "\n",
        "I use this point for feature engineering"
      ]
    },
    {
      "cell_type": "code",
      "execution_count": 409,
      "metadata": {},
      "outputs": [
        {
          "data": {
            "text/html": [
              "<div>\n",
              "<style scoped>\n",
              "    .dataframe tbody tr th:only-of-type {\n",
              "        vertical-align: middle;\n",
              "    }\n",
              "\n",
              "    .dataframe tbody tr th {\n",
              "        vertical-align: top;\n",
              "    }\n",
              "\n",
              "    .dataframe thead th {\n",
              "        text-align: right;\n",
              "    }\n",
              "</style>\n",
              "<table border=\"1\" class=\"dataframe\">\n",
              "  <thead>\n",
              "    <tr style=\"text-align: right;\">\n",
              "      <th></th>\n",
              "      <th>smoker</th>\n",
              "      <th>obese</th>\n",
              "      <th>obese_smoker</th>\n",
              "    </tr>\n",
              "  </thead>\n",
              "  <tbody>\n",
              "    <tr>\n",
              "      <th>0</th>\n",
              "      <td>1</td>\n",
              "      <td>0</td>\n",
              "      <td>3</td>\n",
              "    </tr>\n",
              "    <tr>\n",
              "      <th>1</th>\n",
              "      <td>0</td>\n",
              "      <td>1</td>\n",
              "      <td>2</td>\n",
              "    </tr>\n",
              "    <tr>\n",
              "      <th>2</th>\n",
              "      <td>0</td>\n",
              "      <td>1</td>\n",
              "      <td>2</td>\n",
              "    </tr>\n",
              "    <tr>\n",
              "      <th>3</th>\n",
              "      <td>0</td>\n",
              "      <td>0</td>\n",
              "      <td>1</td>\n",
              "    </tr>\n",
              "    <tr>\n",
              "      <th>4</th>\n",
              "      <td>0</td>\n",
              "      <td>0</td>\n",
              "      <td>1</td>\n",
              "    </tr>\n",
              "    <tr>\n",
              "      <th>...</th>\n",
              "      <td>...</td>\n",
              "      <td>...</td>\n",
              "      <td>...</td>\n",
              "    </tr>\n",
              "    <tr>\n",
              "      <th>1330</th>\n",
              "      <td>0</td>\n",
              "      <td>1</td>\n",
              "      <td>2</td>\n",
              "    </tr>\n",
              "    <tr>\n",
              "      <th>1331</th>\n",
              "      <td>0</td>\n",
              "      <td>1</td>\n",
              "      <td>2</td>\n",
              "    </tr>\n",
              "    <tr>\n",
              "      <th>1332</th>\n",
              "      <td>0</td>\n",
              "      <td>1</td>\n",
              "      <td>2</td>\n",
              "    </tr>\n",
              "    <tr>\n",
              "      <th>1333</th>\n",
              "      <td>0</td>\n",
              "      <td>0</td>\n",
              "      <td>1</td>\n",
              "    </tr>\n",
              "    <tr>\n",
              "      <th>1334</th>\n",
              "      <td>1</td>\n",
              "      <td>0</td>\n",
              "      <td>3</td>\n",
              "    </tr>\n",
              "  </tbody>\n",
              "</table>\n",
              "<p>1335 rows × 3 columns</p>\n",
              "</div>"
            ],
            "text/plain": [
              "      smoker  obese  obese_smoker\n",
              "0          1      0             3\n",
              "1          0      1             2\n",
              "2          0      1             2\n",
              "3          0      0             1\n",
              "4          0      0             1\n",
              "...      ...    ...           ...\n",
              "1330       0      1             2\n",
              "1331       0      1             2\n",
              "1332       0      1             2\n",
              "1333       0      0             1\n",
              "1334       1      0             3\n",
              "\n",
              "[1335 rows x 3 columns]"
            ]
          },
          "execution_count": 409,
          "metadata": {},
          "output_type": "execute_result"
        }
      ],
      "source": [
        "#function for check if anyone have bmi larger than 30\n",
        "def is_obese(row):\n",
        "    if row > 30:\n",
        "        return 1\n",
        "    return 0\n",
        "\n",
        "#create new column based on above function\n",
        "insurance_data['obese'] = insurance_data['bmi'].apply(is_obese)\n",
        "\n",
        "#function for classificate based on smoker and obese\n",
        "#4 is very bad\n",
        "#3 is bad\n",
        "#2 is normal\n",
        "#1 is good\n",
        "def is_obese_and_smoker(row):\n",
        "    if row['obese'] == 1 and row['smoker'] == 1:\n",
        "        return 4\n",
        "    elif row['obese'] != 1 and row['smoker'] == 1:\n",
        "        return 3\n",
        "    elif row['obese'] == 1 and row['smoker'] != 1:\n",
        "        return 2\n",
        "    return 1\n",
        "\n",
        "#create new column based on above function\n",
        "insurance_data['obese_smoker'] = insurance_data.apply(is_obese_and_smoker, axis=1)\n",
        "insurance_data[['smoker', 'obese', 'obese_smoker']]"
      ]
    },
    {
      "cell_type": "markdown",
      "metadata": {},
      "source": [
        "Now , we use corr again to check our feature engineering result"
      ]
    },
    {
      "cell_type": "code",
      "execution_count": 410,
      "metadata": {},
      "outputs": [
        {
          "data": {
            "text/html": [
              "<style type=\"text/css\">\n",
              "#T_4007c_row0_col0, #T_4007c_row1_col1, #T_4007c_row2_col2, #T_4007c_row3_col3, #T_4007c_row4_col4, #T_4007c_row5_col5, #T_4007c_row6_col6, #T_4007c_row7_col7, #T_4007c_row8_col8, #T_4007c_row9_col9, #T_4007c_row10_col10, #T_4007c_row11_col11, #T_4007c_row12_col12 {\n",
              "  background-color: #b40426;\n",
              "  color: #f1f1f1;\n",
              "}\n",
              "#T_4007c_row0_col1, #T_4007c_row1_col4, #T_4007c_row1_col7, #T_4007c_row1_col8 {\n",
              "  background-color: #7396f5;\n",
              "  color: #f1f1f1;\n",
              "}\n",
              "#T_4007c_row0_col2, #T_4007c_row1_col3, #T_4007c_row6_col2 {\n",
              "  background-color: #4e68d8;\n",
              "  color: #f1f1f1;\n",
              "}\n",
              "#T_4007c_row0_col3, #T_4007c_row5_col0, #T_4007c_row12_col0 {\n",
              "  background-color: #4961d2;\n",
              "  color: #f1f1f1;\n",
              "}\n",
              "#T_4007c_row0_col4 {\n",
              "  background-color: #abc8fd;\n",
              "  color: #000000;\n",
              "}\n",
              "#T_4007c_row0_col5, #T_4007c_row1_col6 {\n",
              "  background-color: #dfdbd9;\n",
              "  color: #000000;\n",
              "}\n",
              "#T_4007c_row0_col6, #T_4007c_row1_col5 {\n",
              "  background-color: #d9dce1;\n",
              "  color: #000000;\n",
              "}\n",
              "#T_4007c_row0_col7, #T_4007c_row0_col8, #T_4007c_row5_col7, #T_4007c_row6_col7, #T_4007c_row11_col10 {\n",
              "  background-color: #8fb1fe;\n",
              "  color: #000000;\n",
              "}\n",
              "#T_4007c_row0_col9, #T_4007c_row6_col8 {\n",
              "  background-color: #8caffe;\n",
              "  color: #000000;\n",
              "}\n",
              "#T_4007c_row0_col10, #T_4007c_row9_col1 {\n",
              "  background-color: #92b4fe;\n",
              "  color: #000000;\n",
              "}\n",
              "#T_4007c_row0_col11 {\n",
              "  background-color: #6f92f3;\n",
              "  color: #f1f1f1;\n",
              "}\n",
              "#T_4007c_row0_col12, #T_4007c_row2_col1 {\n",
              "  background-color: #5a78e4;\n",
              "  color: #f1f1f1;\n",
              "}\n",
              "#T_4007c_row1_col0, #T_4007c_row2_col3, #T_4007c_row2_col12, #T_4007c_row6_col4, #T_4007c_row11_col0 {\n",
              "  background-color: #5d7ce6;\n",
              "  color: #f1f1f1;\n",
              "}\n",
              "#T_4007c_row1_col2, #T_4007c_row8_col2, #T_4007c_row8_col3, #T_4007c_row10_col0, #T_4007c_row10_col3 {\n",
              "  background-color: #455cce;\n",
              "  color: #f1f1f1;\n",
              "}\n",
              "#T_4007c_row1_col9 {\n",
              "  background-color: #bed2f6;\n",
              "  color: #000000;\n",
              "}\n",
              "#T_4007c_row1_col10 {\n",
              "  background-color: #96b7ff;\n",
              "  color: #000000;\n",
              "}\n",
              "#T_4007c_row1_col11 {\n",
              "  background-color: #f4c5ad;\n",
              "  color: #000000;\n",
              "}\n",
              "#T_4007c_row1_col12 {\n",
              "  background-color: #b2ccfb;\n",
              "  color: #000000;\n",
              "}\n",
              "#T_4007c_row2_col0 {\n",
              "  background-color: #4b64d5;\n",
              "  color: #f1f1f1;\n",
              "}\n",
              "#T_4007c_row2_col4 {\n",
              "  background-color: #5e7de7;\n",
              "  color: #f1f1f1;\n",
              "}\n",
              "#T_4007c_row2_col5 {\n",
              "  background-color: #d8dce2;\n",
              "  color: #000000;\n",
              "}\n",
              "#T_4007c_row2_col6 {\n",
              "  background-color: #e0dbd8;\n",
              "  color: #000000;\n",
              "}\n",
              "#T_4007c_row2_col7, #T_4007c_row2_col9 {\n",
              "  background-color: #88abfd;\n",
              "  color: #000000;\n",
              "}\n",
              "#T_4007c_row2_col8, #T_4007c_row3_col7, #T_4007c_row4_col7, #T_4007c_row5_col10 {\n",
              "  background-color: #90b2fe;\n",
              "  color: #000000;\n",
              "}\n",
              "#T_4007c_row2_col10 {\n",
              "  background-color: #9dbdff;\n",
              "  color: #000000;\n",
              "}\n",
              "#T_4007c_row2_col11, #T_4007c_row3_col2, #T_4007c_row7_col3 {\n",
              "  background-color: #516ddb;\n",
              "  color: #f1f1f1;\n",
              "}\n",
              "#T_4007c_row3_col0, #T_4007c_row5_col2, #T_4007c_row5_col3, #T_4007c_row5_col4, #T_4007c_row5_col6, #T_4007c_row5_col12, #T_4007c_row6_col0, #T_4007c_row6_col5, #T_4007c_row7_col1, #T_4007c_row7_col2, #T_4007c_row7_col9, #T_4007c_row7_col11, #T_4007c_row8_col1, #T_4007c_row8_col9, #T_4007c_row9_col7, #T_4007c_row9_col8, #T_4007c_row9_col10, #T_4007c_row10_col9 {\n",
              "  background-color: #3b4cc0;\n",
              "  color: #f1f1f1;\n",
              "}\n",
              "#T_4007c_row3_col1 {\n",
              "  background-color: #5673e0;\n",
              "  color: #f1f1f1;\n",
              "}\n",
              "#T_4007c_row3_col4, #T_4007c_row4_col3 {\n",
              "  background-color: #ee8468;\n",
              "  color: #f1f1f1;\n",
              "}\n",
              "#T_4007c_row3_col5 {\n",
              "  background-color: #d2dbe8;\n",
              "  color: #000000;\n",
              "}\n",
              "#T_4007c_row3_col6 {\n",
              "  background-color: #e6d7cf;\n",
              "  color: #000000;\n",
              "}\n",
              "#T_4007c_row3_col8, #T_4007c_row3_col10, #T_4007c_row4_col8 {\n",
              "  background-color: #85a8fc;\n",
              "  color: #f1f1f1;\n",
              "}\n",
              "#T_4007c_row3_col9 {\n",
              "  background-color: #9fbfff;\n",
              "  color: #000000;\n",
              "}\n",
              "#T_4007c_row3_col11, #T_4007c_row4_col2, #T_4007c_row10_col11 {\n",
              "  background-color: #5572df;\n",
              "  color: #f1f1f1;\n",
              "}\n",
              "#T_4007c_row3_col12, #T_4007c_row12_col3 {\n",
              "  background-color: #e16751;\n",
              "  color: #f1f1f1;\n",
              "}\n",
              "#T_4007c_row4_col0 {\n",
              "  background-color: #a3c2fe;\n",
              "  color: #000000;\n",
              "}\n",
              "#T_4007c_row4_col1, #T_4007c_row9_col12 {\n",
              "  background-color: #80a3fa;\n",
              "  color: #f1f1f1;\n",
              "}\n",
              "#T_4007c_row4_col5 {\n",
              "  background-color: #d4dbe6;\n",
              "  color: #000000;\n",
              "}\n",
              "#T_4007c_row4_col6 {\n",
              "  background-color: #e4d9d2;\n",
              "  color: #000000;\n",
              "}\n",
              "#T_4007c_row4_col9 {\n",
              "  background-color: #a1c0ff;\n",
              "  color: #000000;\n",
              "}\n",
              "#T_4007c_row4_col10, #T_4007c_row12_col7 {\n",
              "  background-color: #82a6fb;\n",
              "  color: #f1f1f1;\n",
              "}\n",
              "#T_4007c_row4_col11, #T_4007c_row6_col9 {\n",
              "  background-color: #94b6ff;\n",
              "  color: #000000;\n",
              "}\n",
              "#T_4007c_row4_col12 {\n",
              "  background-color: #ef886b;\n",
              "  color: #f1f1f1;\n",
              "}\n",
              "#T_4007c_row5_col1, #T_4007c_row11_col3 {\n",
              "  background-color: #506bda;\n",
              "  color: #f1f1f1;\n",
              "}\n",
              "#T_4007c_row5_col8 {\n",
              "  background-color: #93b5fe;\n",
              "  color: #000000;\n",
              "}\n",
              "#T_4007c_row5_col9, #T_4007c_row9_col11, #T_4007c_row11_col4 {\n",
              "  background-color: #8badfd;\n",
              "  color: #000000;\n",
              "}\n",
              "#T_4007c_row5_col11 {\n",
              "  background-color: #485fd1;\n",
              "  color: #f1f1f1;\n",
              "}\n",
              "#T_4007c_row6_col1, #T_4007c_row10_col1 {\n",
              "  background-color: #5f7fe8;\n",
              "  color: #f1f1f1;\n",
              "}\n",
              "#T_4007c_row6_col3 {\n",
              "  background-color: #6788ee;\n",
              "  color: #f1f1f1;\n",
              "}\n",
              "#T_4007c_row6_col10 {\n",
              "  background-color: #8db0fe;\n",
              "  color: #000000;\n",
              "}\n",
              "#T_4007c_row6_col11 {\n",
              "  background-color: #6282ea;\n",
              "  color: #f1f1f1;\n",
              "}\n",
              "#T_4007c_row6_col12 {\n",
              "  background-color: #6e90f2;\n",
              "  color: #f1f1f1;\n",
              "}\n",
              "#T_4007c_row7_col0, #T_4007c_row8_col0 {\n",
              "  background-color: #4257c9;\n",
              "  color: #f1f1f1;\n",
              "}\n",
              "#T_4007c_row7_col4, #T_4007c_row12_col2 {\n",
              "  background-color: #4c66d6;\n",
              "  color: #f1f1f1;\n",
              "}\n",
              "#T_4007c_row7_col5, #T_4007c_row7_col6 {\n",
              "  background-color: #dcdddd;\n",
              "  color: #000000;\n",
              "}\n",
              "#T_4007c_row7_col8, #T_4007c_row7_col10, #T_4007c_row8_col7, #T_4007c_row8_col10, #T_4007c_row10_col7, #T_4007c_row10_col8, #T_4007c_row11_col2 {\n",
              "  background-color: #3f53c6;\n",
              "  color: #f1f1f1;\n",
              "}\n",
              "#T_4007c_row7_col12 {\n",
              "  background-color: #465ecf;\n",
              "  color: #f1f1f1;\n",
              "}\n",
              "#T_4007c_row8_col4 {\n",
              "  background-color: #4055c8;\n",
              "  color: #f1f1f1;\n",
              "}\n",
              "#T_4007c_row8_col5, #T_4007c_row9_col6 {\n",
              "  background-color: #dedcdb;\n",
              "  color: #000000;\n",
              "}\n",
              "#T_4007c_row8_col6, #T_4007c_row10_col6 {\n",
              "  background-color: #dbdcde;\n",
              "  color: #000000;\n",
              "}\n",
              "#T_4007c_row8_col11, #T_4007c_row8_col12, #T_4007c_row9_col0, #T_4007c_row10_col4 {\n",
              "  background-color: #3e51c5;\n",
              "  color: #f1f1f1;\n",
              "}\n",
              "#T_4007c_row9_col2 {\n",
              "  background-color: #3c4ec2;\n",
              "  color: #f1f1f1;\n",
              "}\n",
              "#T_4007c_row9_col3 {\n",
              "  background-color: #6384eb;\n",
              "  color: #f1f1f1;\n",
              "}\n",
              "#T_4007c_row9_col4 {\n",
              "  background-color: #6180e9;\n",
              "  color: #f1f1f1;\n",
              "}\n",
              "#T_4007c_row9_col5 {\n",
              "  background-color: #dadce0;\n",
              "  color: #000000;\n",
              "}\n",
              "#T_4007c_row10_col2 {\n",
              "  background-color: #536edd;\n",
              "  color: #f1f1f1;\n",
              "}\n",
              "#T_4007c_row10_col5 {\n",
              "  background-color: #dddcdc;\n",
              "  color: #000000;\n",
              "}\n",
              "#T_4007c_row10_col12 {\n",
              "  background-color: #4a63d3;\n",
              "  color: #f1f1f1;\n",
              "}\n",
              "#T_4007c_row11_col1 {\n",
              "  background-color: #f5c4ac;\n",
              "  color: #000000;\n",
              "}\n",
              "#T_4007c_row11_col5 {\n",
              "  background-color: #d6dce4;\n",
              "  color: #000000;\n",
              "}\n",
              "#T_4007c_row11_col6 {\n",
              "  background-color: #e2dad5;\n",
              "  color: #000000;\n",
              "}\n",
              "#T_4007c_row11_col7 {\n",
              "  background-color: #7699f6;\n",
              "  color: #f1f1f1;\n",
              "}\n",
              "#T_4007c_row11_col8 {\n",
              "  background-color: #7a9df8;\n",
              "  color: #f1f1f1;\n",
              "}\n",
              "#T_4007c_row11_col9 {\n",
              "  background-color: #bbd1f8;\n",
              "  color: #000000;\n",
              "}\n",
              "#T_4007c_row11_col12 {\n",
              "  background-color: #ecd3c5;\n",
              "  color: #000000;\n",
              "}\n",
              "#T_4007c_row12_col1 {\n",
              "  background-color: #b6cefa;\n",
              "  color: #000000;\n",
              "}\n",
              "#T_4007c_row12_col4 {\n",
              "  background-color: #f08a6c;\n",
              "  color: #f1f1f1;\n",
              "}\n",
              "#T_4007c_row12_col5 {\n",
              "  background-color: #d1dae9;\n",
              "  color: #000000;\n",
              "}\n",
              "#T_4007c_row12_col6 {\n",
              "  background-color: #e7d7ce;\n",
              "  color: #000000;\n",
              "}\n",
              "#T_4007c_row12_col8 {\n",
              "  background-color: #7b9ff9;\n",
              "  color: #f1f1f1;\n",
              "}\n",
              "#T_4007c_row12_col9 {\n",
              "  background-color: #b5cdfa;\n",
              "  color: #000000;\n",
              "}\n",
              "#T_4007c_row12_col10 {\n",
              "  background-color: #86a9fc;\n",
              "  color: #f1f1f1;\n",
              "}\n",
              "#T_4007c_row12_col11 {\n",
              "  background-color: #edd2c3;\n",
              "  color: #000000;\n",
              "}\n",
              "</style>\n",
              "<table id=\"T_4007c\">\n",
              "  <thead>\n",
              "    <tr>\n",
              "      <th class=\"blank level0\" >&nbsp;</th>\n",
              "      <th id=\"T_4007c_level0_col0\" class=\"col_heading level0 col0\" >age</th>\n",
              "      <th id=\"T_4007c_level0_col1\" class=\"col_heading level0 col1\" >bmi</th>\n",
              "      <th id=\"T_4007c_level0_col2\" class=\"col_heading level0 col2\" >children</th>\n",
              "      <th id=\"T_4007c_level0_col3\" class=\"col_heading level0 col3\" >smoker</th>\n",
              "      <th id=\"T_4007c_level0_col4\" class=\"col_heading level0 col4\" >charges</th>\n",
              "      <th id=\"T_4007c_level0_col5\" class=\"col_heading level0 col5\" >sex_female</th>\n",
              "      <th id=\"T_4007c_level0_col6\" class=\"col_heading level0 col6\" >sex_male</th>\n",
              "      <th id=\"T_4007c_level0_col7\" class=\"col_heading level0 col7\" >region_northeast</th>\n",
              "      <th id=\"T_4007c_level0_col8\" class=\"col_heading level0 col8\" >region_northwest</th>\n",
              "      <th id=\"T_4007c_level0_col9\" class=\"col_heading level0 col9\" >region_southeast</th>\n",
              "      <th id=\"T_4007c_level0_col10\" class=\"col_heading level0 col10\" >region_southwest</th>\n",
              "      <th id=\"T_4007c_level0_col11\" class=\"col_heading level0 col11\" >obese</th>\n",
              "      <th id=\"T_4007c_level0_col12\" class=\"col_heading level0 col12\" >obese_smoker</th>\n",
              "    </tr>\n",
              "  </thead>\n",
              "  <tbody>\n",
              "    <tr>\n",
              "      <th id=\"T_4007c_level0_row0\" class=\"row_heading level0 row0\" >age</th>\n",
              "      <td id=\"T_4007c_row0_col0\" class=\"data row0 col0\" >1.000000</td>\n",
              "      <td id=\"T_4007c_row0_col1\" class=\"data row0 col1\" >0.087191</td>\n",
              "      <td id=\"T_4007c_row0_col2\" class=\"data row0 col2\" >0.033867</td>\n",
              "      <td id=\"T_4007c_row0_col3\" class=\"data row0 col3\" >-0.025732</td>\n",
              "      <td id=\"T_4007c_row0_col4\" class=\"data row0 col4\" >0.298285</td>\n",
              "      <td id=\"T_4007c_row0_col5\" class=\"data row0 col5\" >0.024796</td>\n",
              "      <td id=\"T_4007c_row0_col6\" class=\"data row0 col6\" >-0.023434</td>\n",
              "      <td id=\"T_4007c_row0_col7\" class=\"data row0 col7\" >0.002063</td>\n",
              "      <td id=\"T_4007c_row0_col8\" class=\"data row0 col8\" >0.000148</td>\n",
              "      <td id=\"T_4007c_row0_col9\" class=\"data row0 col9\" >-0.012209</td>\n",
              "      <td id=\"T_4007c_row0_col10\" class=\"data row0 col10\" >0.012017</td>\n",
              "      <td id=\"T_4007c_row0_col11\" class=\"data row0 col11\" >0.087732</td>\n",
              "      <td id=\"T_4007c_row0_col12\" class=\"data row0 col12\" >0.024289</td>\n",
              "    </tr>\n",
              "    <tr>\n",
              "      <th id=\"T_4007c_level0_row1\" class=\"row_heading level0 row1\" >bmi</th>\n",
              "      <td id=\"T_4007c_row1_col0\" class=\"data row1 col0\" >0.087191</td>\n",
              "      <td id=\"T_4007c_row1_col1\" class=\"data row1 col1\" >1.000000</td>\n",
              "      <td id=\"T_4007c_row1_col2\" class=\"data row1 col2\" >0.005085</td>\n",
              "      <td id=\"T_4007c_row1_col3\" class=\"data row1 col3\" >-0.007607</td>\n",
              "      <td id=\"T_4007c_row1_col4\" class=\"data row1 col4\" >0.128443</td>\n",
              "      <td id=\"T_4007c_row1_col5\" class=\"data row1 col5\" >-0.025511</td>\n",
              "      <td id=\"T_4007c_row1_col6\" class=\"data row1 col6\" >0.025467</td>\n",
              "      <td id=\"T_4007c_row1_col7\" class=\"data row1 col7\" >-0.107512</td>\n",
              "      <td id=\"T_4007c_row1_col8\" class=\"data row1 col8\" >-0.106993</td>\n",
              "      <td id=\"T_4007c_row1_col9\" class=\"data row1 col9\" >0.183313</td>\n",
              "      <td id=\"T_4007c_row1_col10\" class=\"data row1 col10\" >0.023670</td>\n",
              "      <td id=\"T_4007c_row1_col11\" class=\"data row1 col11\" >0.585358</td>\n",
              "      <td id=\"T_4007c_row1_col12\" class=\"data row1 col12\" >0.301570</td>\n",
              "    </tr>\n",
              "    <tr>\n",
              "      <th id=\"T_4007c_level0_row2\" class=\"row_heading level0 row2\" >children</th>\n",
              "      <td id=\"T_4007c_row2_col0\" class=\"data row2 col0\" >0.033867</td>\n",
              "      <td id=\"T_4007c_row2_col1\" class=\"data row2 col1\" >0.005085</td>\n",
              "      <td id=\"T_4007c_row2_col2\" class=\"data row2 col2\" >1.000000</td>\n",
              "      <td id=\"T_4007c_row2_col3\" class=\"data row2 col3\" >0.044762</td>\n",
              "      <td id=\"T_4007c_row2_col4\" class=\"data row2 col4\" >0.060666</td>\n",
              "      <td id=\"T_4007c_row2_col5\" class=\"data row2 col5\" >-0.032045</td>\n",
              "      <td id=\"T_4007c_row2_col6\" class=\"data row2 col6\" >0.033374</td>\n",
              "      <td id=\"T_4007c_row2_col7\" class=\"data row2 col7\" >-0.028123</td>\n",
              "      <td id=\"T_4007c_row2_col8\" class=\"data row2 col8\" >0.006532</td>\n",
              "      <td id=\"T_4007c_row2_col9\" class=\"data row2 col9\" >-0.026985</td>\n",
              "      <td id=\"T_4007c_row2_col10\" class=\"data row2 col10\" >0.052015</td>\n",
              "      <td id=\"T_4007c_row2_col11\" class=\"data row2 col11\" >-0.012493</td>\n",
              "      <td id=\"T_4007c_row2_col12\" class=\"data row2 col12\" >0.031485</td>\n",
              "    </tr>\n",
              "    <tr>\n",
              "      <th id=\"T_4007c_level0_row3\" class=\"row_heading level0 row3\" >smoker</th>\n",
              "      <td id=\"T_4007c_row3_col0\" class=\"data row3 col0\" >-0.025732</td>\n",
              "      <td id=\"T_4007c_row3_col1\" class=\"data row3 col1\" >-0.007607</td>\n",
              "      <td id=\"T_4007c_row3_col2\" class=\"data row3 col2\" >0.044762</td>\n",
              "      <td id=\"T_4007c_row3_col3\" class=\"data row3 col3\" >1.000000</td>\n",
              "      <td id=\"T_4007c_row3_col4\" class=\"data row3 col4\" >0.784762</td>\n",
              "      <td id=\"T_4007c_row3_col5\" class=\"data row3 col5\" >-0.077123</td>\n",
              "      <td id=\"T_4007c_row3_col6\" class=\"data row3 col6\" >0.076443</td>\n",
              "      <td id=\"T_4007c_row3_col7\" class=\"data row3 col7\" >0.004112</td>\n",
              "      <td id=\"T_4007c_row3_col8\" class=\"data row3 col8\" >-0.036613</td>\n",
              "      <td id=\"T_4007c_row3_col9\" class=\"data row3 col9\" >0.063461</td>\n",
              "      <td id=\"T_4007c_row3_col10\" class=\"data row3 col10\" >-0.039253</td>\n",
              "      <td id=\"T_4007c_row3_col11\" class=\"data row3 col11\" >0.000134</td>\n",
              "      <td id=\"T_4007c_row3_col12\" class=\"data row3 col12\" >0.850337</td>\n",
              "    </tr>\n",
              "    <tr>\n",
              "      <th id=\"T_4007c_level0_row4\" class=\"row_heading level0 row4\" >charges</th>\n",
              "      <td id=\"T_4007c_row4_col0\" class=\"data row4 col0\" >0.298285</td>\n",
              "      <td id=\"T_4007c_row4_col1\" class=\"data row4 col1\" >0.128443</td>\n",
              "      <td id=\"T_4007c_row4_col2\" class=\"data row4 col2\" >0.060666</td>\n",
              "      <td id=\"T_4007c_row4_col3\" class=\"data row4 col3\" >0.784762</td>\n",
              "      <td id=\"T_4007c_row4_col4\" class=\"data row4 col4\" >1.000000</td>\n",
              "      <td id=\"T_4007c_row4_col5\" class=\"data row4 col5\" >-0.060826</td>\n",
              "      <td id=\"T_4007c_row4_col6\" class=\"data row4 col6\" >0.058553</td>\n",
              "      <td id=\"T_4007c_row4_col7\" class=\"data row4 col7\" >0.003413</td>\n",
              "      <td id=\"T_4007c_row4_col8\" class=\"data row4 col8\" >-0.038520</td>\n",
              "      <td id=\"T_4007c_row4_col9\" class=\"data row4 col9\" >0.068507</td>\n",
              "      <td id=\"T_4007c_row4_col10\" class=\"data row4 col10\" >-0.046086</td>\n",
              "      <td id=\"T_4007c_row4_col11\" class=\"data row4 col11\" >0.200061</td>\n",
              "      <td id=\"T_4007c_row4_col12\" class=\"data row4 col12\" >0.772537</td>\n",
              "    </tr>\n",
              "    <tr>\n",
              "      <th id=\"T_4007c_level0_row5\" class=\"row_heading level0 row5\" >sex_female</th>\n",
              "      <td id=\"T_4007c_row5_col0\" class=\"data row5 col0\" >0.024796</td>\n",
              "      <td id=\"T_4007c_row5_col1\" class=\"data row5 col1\" >-0.025511</td>\n",
              "      <td id=\"T_4007c_row5_col2\" class=\"data row5 col2\" >-0.032045</td>\n",
              "      <td id=\"T_4007c_row5_col3\" class=\"data row5 col3\" >-0.077123</td>\n",
              "      <td id=\"T_4007c_row5_col4\" class=\"data row5 col4\" >-0.060826</td>\n",
              "      <td id=\"T_4007c_row5_col5\" class=\"data row5 col5\" >1.000000</td>\n",
              "      <td id=\"T_4007c_row5_col6\" class=\"data row5 col6\" >-0.994025</td>\n",
              "      <td id=\"T_4007c_row5_col7\" class=\"data row5 col7\" >0.001947</td>\n",
              "      <td id=\"T_4007c_row5_col8\" class=\"data row5 col8\" >0.012461</td>\n",
              "      <td id=\"T_4007c_row5_col9\" class=\"data row5 col9\" >-0.017545</td>\n",
              "      <td id=\"T_4007c_row5_col10\" class=\"data row5 col10\" >0.005446</td>\n",
              "      <td id=\"T_4007c_row5_col11\" class=\"data row5 col11\" >-0.046568</td>\n",
              "      <td id=\"T_4007c_row5_col12\" class=\"data row5 col12\" >-0.090081</td>\n",
              "    </tr>\n",
              "    <tr>\n",
              "      <th id=\"T_4007c_level0_row6\" class=\"row_heading level0 row6\" >sex_male</th>\n",
              "      <td id=\"T_4007c_row6_col0\" class=\"data row6 col0\" >-0.023434</td>\n",
              "      <td id=\"T_4007c_row6_col1\" class=\"data row6 col1\" >0.025467</td>\n",
              "      <td id=\"T_4007c_row6_col2\" class=\"data row6 col2\" >0.033374</td>\n",
              "      <td id=\"T_4007c_row6_col3\" class=\"data row6 col3\" >0.076443</td>\n",
              "      <td id=\"T_4007c_row6_col4\" class=\"data row6 col4\" >0.058553</td>\n",
              "      <td id=\"T_4007c_row6_col5\" class=\"data row6 col5\" >-0.994025</td>\n",
              "      <td id=\"T_4007c_row6_col6\" class=\"data row6 col6\" >1.000000</td>\n",
              "      <td id=\"T_4007c_row6_col7\" class=\"data row6 col7\" >-0.002060</td>\n",
              "      <td id=\"T_4007c_row6_col8\" class=\"data row6 col8\" >-0.012552</td>\n",
              "      <td id=\"T_4007c_row6_col9\" class=\"data row6 col9\" >0.017820</td>\n",
              "      <td id=\"T_4007c_row6_col10\" class=\"data row6 col10\" >-0.005558</td>\n",
              "      <td id=\"T_4007c_row6_col11\" class=\"data row6 col11\" >0.043893</td>\n",
              "      <td id=\"T_4007c_row6_col12\" class=\"data row6 col12\" >0.088095</td>\n",
              "    </tr>\n",
              "    <tr>\n",
              "      <th id=\"T_4007c_level0_row7\" class=\"row_heading level0 row7\" >region_northeast</th>\n",
              "      <td id=\"T_4007c_row7_col0\" class=\"data row7 col0\" >0.002063</td>\n",
              "      <td id=\"T_4007c_row7_col1\" class=\"data row7 col1\" >-0.107512</td>\n",
              "      <td id=\"T_4007c_row7_col2\" class=\"data row7 col2\" >-0.028123</td>\n",
              "      <td id=\"T_4007c_row7_col3\" class=\"data row7 col3\" >0.004112</td>\n",
              "      <td id=\"T_4007c_row7_col4\" class=\"data row7 col4\" >0.003413</td>\n",
              "      <td id=\"T_4007c_row7_col5\" class=\"data row7 col5\" >0.001947</td>\n",
              "      <td id=\"T_4007c_row7_col6\" class=\"data row7 col6\" >-0.002060</td>\n",
              "      <td id=\"T_4007c_row7_col7\" class=\"data row7 col7\" >1.000000</td>\n",
              "      <td id=\"T_4007c_row7_col8\" class=\"data row7 col8\" >-0.320473</td>\n",
              "      <td id=\"T_4007c_row7_col9\" class=\"data row7 col9\" >-0.343942</td>\n",
              "      <td id=\"T_4007c_row7_col10\" class=\"data row7 col10\" >-0.319170</td>\n",
              "      <td id=\"T_4007c_row7_col11\" class=\"data row7 col11\" >-0.095752</td>\n",
              "      <td id=\"T_4007c_row7_col12\" class=\"data row7 col12\" >-0.046891</td>\n",
              "    </tr>\n",
              "    <tr>\n",
              "      <th id=\"T_4007c_level0_row8\" class=\"row_heading level0 row8\" >region_northwest</th>\n",
              "      <td id=\"T_4007c_row8_col0\" class=\"data row8 col0\" >0.000148</td>\n",
              "      <td id=\"T_4007c_row8_col1\" class=\"data row8 col1\" >-0.106993</td>\n",
              "      <td id=\"T_4007c_row8_col2\" class=\"data row8 col2\" >0.006532</td>\n",
              "      <td id=\"T_4007c_row8_col3\" class=\"data row8 col3\" >-0.036613</td>\n",
              "      <td id=\"T_4007c_row8_col4\" class=\"data row8 col4\" >-0.038520</td>\n",
              "      <td id=\"T_4007c_row8_col5\" class=\"data row8 col5\" >0.012461</td>\n",
              "      <td id=\"T_4007c_row8_col6\" class=\"data row8 col6\" >-0.012552</td>\n",
              "      <td id=\"T_4007c_row8_col7\" class=\"data row8 col7\" >-0.320473</td>\n",
              "      <td id=\"T_4007c_row8_col8\" class=\"data row8 col8\" >1.000000</td>\n",
              "      <td id=\"T_4007c_row8_col9\" class=\"data row8 col9\" >-0.345347</td>\n",
              "      <td id=\"T_4007c_row8_col10\" class=\"data row8 col10\" >-0.320473</td>\n",
              "      <td id=\"T_4007c_row8_col11\" class=\"data row8 col11\" >-0.081758</td>\n",
              "      <td id=\"T_4007c_row8_col12\" class=\"data row8 col12\" >-0.074155</td>\n",
              "    </tr>\n",
              "    <tr>\n",
              "      <th id=\"T_4007c_level0_row9\" class=\"row_heading level0 row9\" >region_southeast</th>\n",
              "      <td id=\"T_4007c_row9_col0\" class=\"data row9 col0\" >-0.012209</td>\n",
              "      <td id=\"T_4007c_row9_col1\" class=\"data row9 col1\" >0.183313</td>\n",
              "      <td id=\"T_4007c_row9_col2\" class=\"data row9 col2\" >-0.026985</td>\n",
              "      <td id=\"T_4007c_row9_col3\" class=\"data row9 col3\" >0.063461</td>\n",
              "      <td id=\"T_4007c_row9_col4\" class=\"data row9 col4\" >0.068507</td>\n",
              "      <td id=\"T_4007c_row9_col5\" class=\"data row9 col5\" >-0.017545</td>\n",
              "      <td id=\"T_4007c_row9_col6\" class=\"data row9 col6\" >0.017820</td>\n",
              "      <td id=\"T_4007c_row9_col7\" class=\"data row9 col7\" >-0.343942</td>\n",
              "      <td id=\"T_4007c_row9_col8\" class=\"data row9 col8\" >-0.345347</td>\n",
              "      <td id=\"T_4007c_row9_col9\" class=\"data row9 col9\" >1.000000</td>\n",
              "      <td id=\"T_4007c_row9_col10\" class=\"data row9 col10\" >-0.343942</td>\n",
              "      <td id=\"T_4007c_row9_col11\" class=\"data row9 col11\" >0.171023</td>\n",
              "      <td id=\"T_4007c_row9_col12\" class=\"data row9 col12\" >0.143958</td>\n",
              "    </tr>\n",
              "    <tr>\n",
              "      <th id=\"T_4007c_level0_row10\" class=\"row_heading level0 row10\" >region_southwest</th>\n",
              "      <td id=\"T_4007c_row10_col0\" class=\"data row10 col0\" >0.012017</td>\n",
              "      <td id=\"T_4007c_row10_col1\" class=\"data row10 col1\" >0.023670</td>\n",
              "      <td id=\"T_4007c_row10_col2\" class=\"data row10 col2\" >0.052015</td>\n",
              "      <td id=\"T_4007c_row10_col3\" class=\"data row10 col3\" >-0.039253</td>\n",
              "      <td id=\"T_4007c_row10_col4\" class=\"data row10 col4\" >-0.046086</td>\n",
              "      <td id=\"T_4007c_row10_col5\" class=\"data row10 col5\" >0.005446</td>\n",
              "      <td id=\"T_4007c_row10_col6\" class=\"data row10 col6\" >-0.005558</td>\n",
              "      <td id=\"T_4007c_row10_col7\" class=\"data row10 col7\" >-0.319170</td>\n",
              "      <td id=\"T_4007c_row10_col8\" class=\"data row10 col8\" >-0.320473</td>\n",
              "      <td id=\"T_4007c_row10_col9\" class=\"data row10 col9\" >-0.343942</td>\n",
              "      <td id=\"T_4007c_row10_col10\" class=\"data row10 col10\" >1.000000</td>\n",
              "      <td id=\"T_4007c_row10_col11\" class=\"data row10 col11\" >-0.001160</td>\n",
              "      <td id=\"T_4007c_row10_col12\" class=\"data row10 col12\" >-0.033986</td>\n",
              "    </tr>\n",
              "    <tr>\n",
              "      <th id=\"T_4007c_level0_row11\" class=\"row_heading level0 row11\" >obese</th>\n",
              "      <td id=\"T_4007c_row11_col0\" class=\"data row11 col0\" >0.087732</td>\n",
              "      <td id=\"T_4007c_row11_col1\" class=\"data row11 col1\" >0.585358</td>\n",
              "      <td id=\"T_4007c_row11_col2\" class=\"data row11 col2\" >-0.012493</td>\n",
              "      <td id=\"T_4007c_row11_col3\" class=\"data row11 col3\" >0.000134</td>\n",
              "      <td id=\"T_4007c_row11_col4\" class=\"data row11 col4\" >0.200061</td>\n",
              "      <td id=\"T_4007c_row11_col5\" class=\"data row11 col5\" >-0.046568</td>\n",
              "      <td id=\"T_4007c_row11_col6\" class=\"data row11 col6\" >0.043893</td>\n",
              "      <td id=\"T_4007c_row11_col7\" class=\"data row11 col7\" >-0.095752</td>\n",
              "      <td id=\"T_4007c_row11_col8\" class=\"data row11 col8\" >-0.081758</td>\n",
              "      <td id=\"T_4007c_row11_col9\" class=\"data row11 col9\" >0.171023</td>\n",
              "      <td id=\"T_4007c_row11_col10\" class=\"data row11 col10\" >-0.001160</td>\n",
              "      <td id=\"T_4007c_row11_col11\" class=\"data row11 col11\" >1.000000</td>\n",
              "      <td id=\"T_4007c_row11_col12\" class=\"data row11 col12\" >0.526352</td>\n",
              "    </tr>\n",
              "    <tr>\n",
              "      <th id=\"T_4007c_level0_row12\" class=\"row_heading level0 row12\" >obese_smoker</th>\n",
              "      <td id=\"T_4007c_row12_col0\" class=\"data row12 col0\" >0.024289</td>\n",
              "      <td id=\"T_4007c_row12_col1\" class=\"data row12 col1\" >0.301570</td>\n",
              "      <td id=\"T_4007c_row12_col2\" class=\"data row12 col2\" >0.031485</td>\n",
              "      <td id=\"T_4007c_row12_col3\" class=\"data row12 col3\" >0.850337</td>\n",
              "      <td id=\"T_4007c_row12_col4\" class=\"data row12 col4\" >0.772537</td>\n",
              "      <td id=\"T_4007c_row12_col5\" class=\"data row12 col5\" >-0.090081</td>\n",
              "      <td id=\"T_4007c_row12_col6\" class=\"data row12 col6\" >0.088095</td>\n",
              "      <td id=\"T_4007c_row12_col7\" class=\"data row12 col7\" >-0.046891</td>\n",
              "      <td id=\"T_4007c_row12_col8\" class=\"data row12 col8\" >-0.074155</td>\n",
              "      <td id=\"T_4007c_row12_col9\" class=\"data row12 col9\" >0.143958</td>\n",
              "      <td id=\"T_4007c_row12_col10\" class=\"data row12 col10\" >-0.033986</td>\n",
              "      <td id=\"T_4007c_row12_col11\" class=\"data row12 col11\" >0.526352</td>\n",
              "      <td id=\"T_4007c_row12_col12\" class=\"data row12 col12\" >1.000000</td>\n",
              "    </tr>\n",
              "  </tbody>\n",
              "</table>\n"
            ],
            "text/plain": [
              "<pandas.io.formats.style.Styler at 0x1aff90b23f0>"
            ]
          },
          "execution_count": 410,
          "metadata": {},
          "output_type": "execute_result"
        }
      ],
      "source": [
        "columns = ['age', 'bmi', 'children', 'smoker', 'charges', 'sex_female', 'sex_male', 'region_northeast', 'region_northwest', 'region_southeast', 'region_southwest', 'obese', 'obese_smoker']\n",
        "corr_matrix = insurance_data[columns].corr()\n",
        "corr_matrix.style.background_gradient(cmap='coolwarm')"
      ]
    },
    {
      "cell_type": "markdown",
      "metadata": {},
      "source": [
        "We can see the obese_smoker is a new column that have correlation is near 0.78 , It's good."
      ]
    },
    {
      "cell_type": "code",
      "execution_count": 411,
      "metadata": {},
      "outputs": [
        {
          "data": {
            "text/plain": [
              "charges             1.000000\n",
              "smoker              0.784762\n",
              "obese_smoker        0.772537\n",
              "age                 0.298285\n",
              "obese               0.200061\n",
              "bmi                 0.128443\n",
              "region_southeast    0.068507\n",
              "children            0.060666\n",
              "sex_male            0.058553\n",
              "region_northeast    0.003413\n",
              "region_northwest   -0.038520\n",
              "region_southwest   -0.046086\n",
              "sex_female         -0.060826\n",
              "Name: charges, dtype: float64"
            ]
          },
          "execution_count": 411,
          "metadata": {},
          "output_type": "execute_result"
        }
      ],
      "source": [
        "corr_matrix[\"charges\"].sort_values(ascending=False)"
      ]
    },
    {
      "cell_type": "code",
      "execution_count": 412,
      "metadata": {},
      "outputs": [
        {
          "data": {
            "image/png": "[encoded data removed]",
            "text/plain": [
              "<Figure size 1200x800 with 25 Axes>"
            ]
          },
          "metadata": {},
          "output_type": "display_data"
        }
      ],
      "source": [
        "from pandas.plotting import scatter_matrix\n",
        "\n",
        "#first select attributes for create plot\n",
        "attributes = [\"charges\", \"smoker\", \"age\",\"bmi\",'obese_smoker']\n",
        "scatter_matrix(insurance_data[attributes], figsize=(12, 8))\n",
        "plt.show()"
      ]
    },
    {
      "cell_type": "markdown",
      "metadata": {
        "id": "f7I1Dv0bIyCU"
      },
      "source": [
        "### Feature Scaling and Transformation\n",
        "\n",
        "According to book:\n",
        "\"There are two common ways to get all attributes to have the same scale: min-max scaling (normalization) and standardization.\"\n",
        "\n",
        "<font color='#D61E85' size='+2'>**Q15:**</font> Why we need feature scaling at all? Between these two common ways which one is more robust to outlier? What happened if we don’t do this in terms of convergence of the model?"
      ]
    },
    {
      "cell_type": "markdown",
      "metadata": {
        "id": "dytyP3X0Qotx"
      },
      "source": [
        "<font color='#8FCF26' size='+2'>**A15:**</font>\n",
        "\n",
        "<b>First question :</b>\n",
        "\n",
        "Feature scaling is the process of normalizing the range of features in a dataset.\n",
        "\n",
        "Real-world datasets often contain features that are varying in degrees of magnitude, range, and units. Therefore, in order for machine learning models to interpret these features on the same scale, we need to perform feature scaling.\n",
        "\n",
        "<b>Second question :</b>\n",
        "\n",
        "Standardization does not restrict values to a specific range and it is much less affected by outliers\n",
        "\n",
        "Unlike min-max scaling, standardization does not restrict values to a specific range. However, standardization is much\n",
        "less affected by outliers.\n",
        "\n",
        "<b>Third question :</b>\n",
        "\n",
        "With few exceptions, machine learning algorithms don’t perform well when\n",
        "the input numerical attributes have very different scales"
      ]
    },
    {
      "cell_type": "markdown",
      "metadata": {
        "id": "D9eDhVZ-RLXz"
      },
      "source": [
        "<font color='#D61E85' size='+2'>**Q16:**</font> Try to perform feature scaling to our dataset."
      ]
    },
    {
      "cell_type": "markdown",
      "metadata": {
        "id": "pdYdkX4fRYGL"
      },
      "source": [
        "<font color='#8FCF26' size='+2'>**A16:**</font>"
      ]
    },
    {
      "cell_type": "code",
      "execution_count": 413,
      "metadata": {},
      "outputs": [],
      "source": [
        "from sklearn.preprocessing import StandardScaler\n",
        "#use standard scaling\n",
        "std_scaler = StandardScaler()\n",
        "\n",
        "#select insuranace_num (because it's for numerical values)\n",
        "#fit transformer to numerical values\n",
        "insurance_num_std_scaled = std_scaler.fit_transform(insurance_num)"
      ]
    },
    {
      "cell_type": "markdown",
      "metadata": {
        "id": "Gjq7hIcIRwu3"
      },
      "source": [
        "###\tCustom Transformers\n",
        "\n",
        "\n",
        "*Transformers* definition:\n",
        "\n",
        "> Some estimators (such as a `SimpleImputer`) can also transform a dataset; these are called *transformers*. Once again, the API is simple: the transformation is performed by the `transform()` method with the dataset to transform as a parameter. It returns the transformed dataset. This transformation generally relies on the learned parameters, as is the case for a `SimpleImputer`. All transformers also have a convenience method called `fit_transform()`, which is equivalent to calling `fit()` and then `transform()` (but sometimes `fit_transform()` is optimized and runs much faster).\n",
        "\n",
        "Although Scikit-Learn provides many useful transformers, you will need to write your own for tasks such as custom transformations, cleanup operations, or combining specific attributes. For transformations that don’t require any training, you can just write a function that takes a NumPy array as input and outputs the transformed array. Scikit-learn provides us with `FunctionTransformer` class for these scenarios. Logarithm transformer is one of them which does not need any training.  \n",
        "\n",
        "<font color='#D61E85' size='+2'>**Q17:**</font> What is the use case of logarithm transformer? Try to implement it using `FunctionTransformer` and then use it on our dataset."
      ]
    },
    {
      "cell_type": "markdown",
      "metadata": {
        "id": "mAsAk-PuRaoM"
      },
      "source": [
        "<font color='#8FCF26' size='+2'>**A17:**</font> Create some cell down below to write and run your code."
      ]
    },
    {
      "cell_type": "code",
      "execution_count": 414,
      "metadata": {},
      "outputs": [
        {
          "name": "stderr",
          "output_type": "stream",
          "text": [
            "d:\\Teias\\Usage\\Term-1\\Machine Learning\\Assignments\\env\\Lib\\site-packages\\pandas\\core\\internals\\blocks.py:366: RuntimeWarning: divide by zero encountered in log\n",
            "  result = func(self.values, **kwargs)\n"
          ]
        },
        {
          "data": {
            "text/html": [
              "<div>\n",
              "<style scoped>\n",
              "    .dataframe tbody tr th:only-of-type {\n",
              "        vertical-align: middle;\n",
              "    }\n",
              "\n",
              "    .dataframe tbody tr th {\n",
              "        vertical-align: top;\n",
              "    }\n",
              "\n",
              "    .dataframe thead th {\n",
              "        text-align: right;\n",
              "    }\n",
              "</style>\n",
              "<table border=\"1\" class=\"dataframe\">\n",
              "  <thead>\n",
              "    <tr style=\"text-align: right;\">\n",
              "      <th></th>\n",
              "      <th>age</th>\n",
              "      <th>bmi</th>\n",
              "      <th>charges</th>\n",
              "    </tr>\n",
              "  </thead>\n",
              "  <tbody>\n",
              "    <tr>\n",
              "      <th>0</th>\n",
              "      <td>2.944439</td>\n",
              "      <td>3.328627</td>\n",
              "      <td>9.734176</td>\n",
              "    </tr>\n",
              "    <tr>\n",
              "      <th>1</th>\n",
              "      <td>2.890372</td>\n",
              "      <td>3.519573</td>\n",
              "      <td>7.453302</td>\n",
              "    </tr>\n",
              "    <tr>\n",
              "      <th>2</th>\n",
              "      <td>3.332205</td>\n",
              "      <td>3.496508</td>\n",
              "      <td>8.400538</td>\n",
              "    </tr>\n",
              "    <tr>\n",
              "      <th>3</th>\n",
              "      <td>3.496508</td>\n",
              "      <td>3.122585</td>\n",
              "      <td>9.998092</td>\n",
              "    </tr>\n",
              "    <tr>\n",
              "      <th>4</th>\n",
              "      <td>3.465736</td>\n",
              "      <td>3.363149</td>\n",
              "      <td>8.260197</td>\n",
              "    </tr>\n",
              "    <tr>\n",
              "      <th>...</th>\n",
              "      <td>...</td>\n",
              "      <td>...</td>\n",
              "      <td>...</td>\n",
              "    </tr>\n",
              "    <tr>\n",
              "      <th>1330</th>\n",
              "      <td>3.912023</td>\n",
              "      <td>3.433019</td>\n",
              "      <td>9.268661</td>\n",
              "    </tr>\n",
              "    <tr>\n",
              "      <th>1331</th>\n",
              "      <td>2.890372</td>\n",
              "      <td>3.463233</td>\n",
              "      <td>7.698927</td>\n",
              "    </tr>\n",
              "    <tr>\n",
              "      <th>1332</th>\n",
              "      <td>2.890372</td>\n",
              "      <td>3.606856</td>\n",
              "      <td>7.396233</td>\n",
              "    </tr>\n",
              "    <tr>\n",
              "      <th>1333</th>\n",
              "      <td>3.044522</td>\n",
              "      <td>3.250374</td>\n",
              "      <td>7.604867</td>\n",
              "    </tr>\n",
              "    <tr>\n",
              "      <th>1334</th>\n",
              "      <td>4.110874</td>\n",
              "      <td>3.369707</td>\n",
              "      <td>10.279914</td>\n",
              "    </tr>\n",
              "  </tbody>\n",
              "</table>\n",
              "<p>1335 rows × 3 columns</p>\n",
              "</div>"
            ],
            "text/plain": [
              "           age       bmi    charges\n",
              "0     2.944439  3.328627   9.734176\n",
              "1     2.890372  3.519573   7.453302\n",
              "2     3.332205  3.496508   8.400538\n",
              "3     3.496508  3.122585   9.998092\n",
              "4     3.465736  3.363149   8.260197\n",
              "...        ...       ...        ...\n",
              "1330  3.912023  3.433019   9.268661\n",
              "1331  2.890372  3.463233   7.698927\n",
              "1332  2.890372  3.606856   7.396233\n",
              "1333  3.044522  3.250374   7.604867\n",
              "1334  4.110874  3.369707  10.279914\n",
              "\n",
              "[1335 rows x 3 columns]"
            ]
          },
          "execution_count": 414,
          "metadata": {},
          "output_type": "execute_result"
        }
      ],
      "source": [
        "from sklearn.preprocessing import FunctionTransformer\n",
        "log_transformer = FunctionTransformer(np.log, inverse_func=np.exp)\n",
        "log_pop = log_transformer.transform(insurance_data[['age', 'bmi', 'charges']])\n",
        "log_pop"
      ]
    },
    {
      "cell_type": "markdown",
      "metadata": {
        "id": "hcZyFHs-RaoC"
      },
      "source": [
        "`FunctionTransformer` is very handy, but what if you would like your transformer to be trainable, learning some parameters in the `fit()` method and using them later in the `transform()` method? For this, you need to write a custom class. Scikit-Learn relies on duck typing, so this class does not have to inherit from any particular base class. All it needs is three methods: `fit()` (which must return self), `transform()`, and `fit_transform()`.\n",
        "\n",
        "<font color='#D61E85' size='+2'>**Q18:**</font> Robust scaling is a technique that is less sensitive to outliers compared to standardization. This approach is useful when dealing with datasets that contain significant outliers. First, explain how it works and write down its formula. Then try to implement it from scratch by writing a custom class. In addition to `fit()` and `transform()` methods it should contains `inverse_transform()`: executing `scaler.inverse_transform(scaler.fit_transform(X))` should return an array very close to `X`. Then add support for feature names: set `feature_names_in_` in the `fit()` method if the input is a DataFrame. This attribute should be a NumPy array of column names. Lastly, implement the `get_feature_names_out()` method: it should have one optional `input_features=None` argument. If passed, the method should check that its length matches `n_features_in_`, and it should match `feature_names_in_` if it is defined; then `input_features` should be returned. If `input_features` is `None`, then the method should either return `feature_names_in_` if it is defined or `np.array([\"x0\", \"x1\", ...])` with length `n_features_in_` otherwise."
      ]
    },
    {
      "cell_type": "markdown",
      "metadata": {
        "id": "v14K1yEFgNTT"
      },
      "source": [
        "<font color='#8FCF26' size='+2'>**A18:**</font> Create some cell down below to write and run your code."
      ]
    },
    {
      "cell_type": "markdown",
      "metadata": {},
      "source": [
        "In the robust scaling method, the first, second and third quartiles of the data are used. This method of changing the scale or scaling the feature will be very efficient in situations where there are outlier data. The mathematical relationship for this conversion is as follows"
      ]
    },
    {
      "cell_type": "markdown",
      "metadata": {},
      "source": [
        "\n",
        "\\begin{align}\n",
        "x' =\\frac{x - Q_2(X)}{Q_3(X)-Q_1(X)}\n",
        "\\end{align}\n",
        "\n",
        "In this method, the median is set to zero, and the distance between the first quartile and the third quartile will be equal to one unit."
      ]
    },
    {
      "cell_type": "markdown",
      "metadata": {},
      "source": [
        "IN This part I get help from Chatgpt"
      ]
    },
    {
      "cell_type": "code",
      "execution_count": 415,
      "metadata": {},
      "outputs": [],
      "source": [
        "import numpy as np\n",
        "\n",
        "class CustomRobustScaler:\n",
        "\n",
        "    def fit(self, arr):\n",
        "        if hasattr(arr, 'columns'):\n",
        "            self.feature_names_in_ = np.array(arr.columns)\n",
        "        else:\n",
        "            self.feature_names_in_ = None\n",
        "        self.median = np.median(arr, axis=0)\n",
        "        self.IQR = np.percentile(arr, 75, axis=0) - np.percentile(arr, 25, axis=0)\n",
        "        return self\n",
        "    \n",
        "    def transform(self, arr):\n",
        "        return (arr - self.median) / self.IQR\n",
        "    \n",
        "    def inverse_transform(self, arr):\n",
        "        return arr * self.IQR + self.median\n",
        "    \n",
        "    def get_feature_names_out(self, input_features=None):\n",
        "        if input_features is not None:\n",
        "            if len(input_features) != len(self.feature_names_in_):\n",
        "                raise ValueError(\"Length of input_features don't match with n_features_in_\")\n",
        "            else:\n",
        "                return np.array(input_features)\n",
        "        else:\n",
        "            if self.feature_names_in_ is not None:\n",
        "                return self.feature_names_in_\n",
        "            else:\n",
        "                np.array([f'x{i}' for i in range(len(self.median))])"
      ]
    },
    {
      "cell_type": "code",
      "execution_count": 416,
      "metadata": {},
      "outputs": [
        {
          "name": "stdout",
          "output_type": "stream",
          "text": [
            "Scaled Data:\n",
            "           age       bmi   charges\n",
            "0    -0.816327 -0.294811  0.646070\n",
            "1    -0.857143  0.397406 -0.650823\n",
            "2    -0.448980  0.306604 -0.417791\n",
            "3    -0.244898 -0.907429  1.082339\n",
            "4    -0.285714 -0.179245 -0.467633\n",
            "...        ...       ...       ...\n",
            "1330  0.448980  0.067217  0.108438\n",
            "1331 -0.857143  0.179245 -0.609722\n",
            "1332 -0.857143  0.760613 -0.659011\n",
            "1333 -0.734694 -0.542453 -0.626664\n",
            "1334  0.897959 -0.156840  1.694615\n",
            "\n",
            "[1335 rows x 3 columns]\n",
            "Original Data (after inverse transform):\n",
            "       age     bmi      charges\n",
            "0     19.0  27.900  16884.92400\n",
            "1     18.0  33.770   1725.55230\n",
            "2     28.0  33.000   4449.46200\n",
            "3     33.0  22.705  21984.47061\n",
            "4     32.0  28.880   3866.85520\n",
            "...    ...     ...          ...\n",
            "1330  50.0  30.970  10600.54830\n",
            "1331  18.0  31.920   2205.98080\n",
            "1332  18.0  36.850   1629.83350\n",
            "1333  21.0  25.800   2007.94500\n",
            "1334  61.0  29.070  29141.36030\n",
            "\n",
            "[1335 rows x 3 columns]\n",
            "Feature Names:\n",
            "['age' 'bmi' 'charges']\n"
          ]
        }
      ],
      "source": [
        "data = insurance_data[['age', 'bmi', 'charges']]\n",
        "\n",
        "# Initialize and fit the scaler\n",
        "scaler = CustomRobustScaler()\n",
        "scaler.fit(data)\n",
        "\n",
        "# Transform the data\n",
        "scaled_data = scaler.transform(data)\n",
        "\n",
        "# Inverse transform to get back the original data\n",
        "original_data = scaler.inverse_transform(scaled_data)\n",
        "\n",
        "# Get the feature names\n",
        "feature_names = scaler.get_feature_names_out(input_features=data.columns)\n",
        "\n",
        "print(\"Scaled Data:\")\n",
        "print(scaled_data)\n",
        "\n",
        "print(\"Original Data (after inverse transform):\")\n",
        "print(original_data)\n",
        "\n",
        "print(\"Feature Names:\")\n",
        "print(feature_names)\n"
      ]
    },
    {
      "cell_type": "markdown",
      "metadata": {
        "id": "OxOZrW1HgRtO"
      },
      "source": [
        "### Transformation Pipelines\n",
        "\n",
        "As you can see, there are many data transformation steps that need to be executed in the right order. Scikit-learn provides the pipeline class to help with such sequence of transformations.\n",
        "\n",
        "<font color='#D61E85' size='+2'>**Q19:**</font> Write a pipeline for all the transformations you used so far and then call it. Compare your results with previous setup in which you perform the transformations one by one."
      ]
    },
    {
      "cell_type": "markdown",
      "metadata": {
        "id": "8FwVYbvLugg3"
      },
      "source": [
        "<font color='#8FCF26' size='+2'>**A19:**</font> Create some cell down below to write and run your code."
      ]
    },
    {
      "cell_type": "markdown",
      "metadata": {},
      "source": [
        "First I import used libraries for Sklearn Pipelines"
      ]
    },
    {
      "cell_type": "code",
      "execution_count": 417,
      "metadata": {},
      "outputs": [],
      "source": [
        "from sklearn.compose import ColumnTransformer\n",
        "from sklearn.pipeline import Pipeline\n",
        "from sklearn.preprocessing import StandardScaler, OneHotEncoder\n",
        "from sklearn.impute import SimpleImputer"
      ]
    },
    {
      "cell_type": "markdown",
      "metadata": {},
      "source": [
        "Lets look again to dataframe"
      ]
    },
    {
      "cell_type": "code",
      "execution_count": 418,
      "metadata": {},
      "outputs": [
        {
          "data": {
            "text/html": [
              "<div>\n",
              "<style scoped>\n",
              "    .dataframe tbody tr th:only-of-type {\n",
              "        vertical-align: middle;\n",
              "    }\n",
              "\n",
              "    .dataframe tbody tr th {\n",
              "        vertical-align: top;\n",
              "    }\n",
              "\n",
              "    .dataframe thead th {\n",
              "        text-align: right;\n",
              "    }\n",
              "</style>\n",
              "<table border=\"1\" class=\"dataframe\">\n",
              "  <thead>\n",
              "    <tr style=\"text-align: right;\">\n",
              "      <th></th>\n",
              "      <th>age</th>\n",
              "      <th>sex</th>\n",
              "      <th>bmi</th>\n",
              "      <th>children</th>\n",
              "      <th>smoker</th>\n",
              "      <th>region</th>\n",
              "      <th>charges</th>\n",
              "      <th>sex_female</th>\n",
              "      <th>sex_male</th>\n",
              "      <th>region_northeast</th>\n",
              "      <th>region_northwest</th>\n",
              "      <th>region_southeast</th>\n",
              "      <th>region_southwest</th>\n",
              "      <th>obese</th>\n",
              "      <th>obese_smoker</th>\n",
              "    </tr>\n",
              "  </thead>\n",
              "  <tbody>\n",
              "    <tr>\n",
              "      <th>0</th>\n",
              "      <td>19.0</td>\n",
              "      <td>female</td>\n",
              "      <td>27.900</td>\n",
              "      <td>0.0</td>\n",
              "      <td>1</td>\n",
              "      <td>southwest</td>\n",
              "      <td>16884.92400</td>\n",
              "      <td>True</td>\n",
              "      <td>False</td>\n",
              "      <td>False</td>\n",
              "      <td>False</td>\n",
              "      <td>False</td>\n",
              "      <td>True</td>\n",
              "      <td>0</td>\n",
              "      <td>3</td>\n",
              "    </tr>\n",
              "    <tr>\n",
              "      <th>1</th>\n",
              "      <td>18.0</td>\n",
              "      <td>male</td>\n",
              "      <td>33.770</td>\n",
              "      <td>1.0</td>\n",
              "      <td>0</td>\n",
              "      <td>southeast</td>\n",
              "      <td>1725.55230</td>\n",
              "      <td>False</td>\n",
              "      <td>True</td>\n",
              "      <td>False</td>\n",
              "      <td>False</td>\n",
              "      <td>True</td>\n",
              "      <td>False</td>\n",
              "      <td>1</td>\n",
              "      <td>2</td>\n",
              "    </tr>\n",
              "    <tr>\n",
              "      <th>2</th>\n",
              "      <td>28.0</td>\n",
              "      <td>male</td>\n",
              "      <td>33.000</td>\n",
              "      <td>3.0</td>\n",
              "      <td>0</td>\n",
              "      <td>southeast</td>\n",
              "      <td>4449.46200</td>\n",
              "      <td>False</td>\n",
              "      <td>True</td>\n",
              "      <td>False</td>\n",
              "      <td>False</td>\n",
              "      <td>True</td>\n",
              "      <td>False</td>\n",
              "      <td>1</td>\n",
              "      <td>2</td>\n",
              "    </tr>\n",
              "    <tr>\n",
              "      <th>3</th>\n",
              "      <td>33.0</td>\n",
              "      <td>male</td>\n",
              "      <td>22.705</td>\n",
              "      <td>0.0</td>\n",
              "      <td>0</td>\n",
              "      <td>northwest</td>\n",
              "      <td>21984.47061</td>\n",
              "      <td>False</td>\n",
              "      <td>True</td>\n",
              "      <td>False</td>\n",
              "      <td>True</td>\n",
              "      <td>False</td>\n",
              "      <td>False</td>\n",
              "      <td>0</td>\n",
              "      <td>1</td>\n",
              "    </tr>\n",
              "    <tr>\n",
              "      <th>4</th>\n",
              "      <td>32.0</td>\n",
              "      <td>male</td>\n",
              "      <td>28.880</td>\n",
              "      <td>0.0</td>\n",
              "      <td>0</td>\n",
              "      <td>northwest</td>\n",
              "      <td>3866.85520</td>\n",
              "      <td>False</td>\n",
              "      <td>True</td>\n",
              "      <td>False</td>\n",
              "      <td>True</td>\n",
              "      <td>False</td>\n",
              "      <td>False</td>\n",
              "      <td>0</td>\n",
              "      <td>1</td>\n",
              "    </tr>\n",
              "    <tr>\n",
              "      <th>...</th>\n",
              "      <td>...</td>\n",
              "      <td>...</td>\n",
              "      <td>...</td>\n",
              "      <td>...</td>\n",
              "      <td>...</td>\n",
              "      <td>...</td>\n",
              "      <td>...</td>\n",
              "      <td>...</td>\n",
              "      <td>...</td>\n",
              "      <td>...</td>\n",
              "      <td>...</td>\n",
              "      <td>...</td>\n",
              "      <td>...</td>\n",
              "      <td>...</td>\n",
              "      <td>...</td>\n",
              "    </tr>\n",
              "    <tr>\n",
              "      <th>1330</th>\n",
              "      <td>50.0</td>\n",
              "      <td>male</td>\n",
              "      <td>30.970</td>\n",
              "      <td>3.0</td>\n",
              "      <td>0</td>\n",
              "      <td>northwest</td>\n",
              "      <td>10600.54830</td>\n",
              "      <td>False</td>\n",
              "      <td>True</td>\n",
              "      <td>False</td>\n",
              "      <td>True</td>\n",
              "      <td>False</td>\n",
              "      <td>False</td>\n",
              "      <td>1</td>\n",
              "      <td>2</td>\n",
              "    </tr>\n",
              "    <tr>\n",
              "      <th>1331</th>\n",
              "      <td>18.0</td>\n",
              "      <td>female</td>\n",
              "      <td>31.920</td>\n",
              "      <td>0.0</td>\n",
              "      <td>0</td>\n",
              "      <td>northeast</td>\n",
              "      <td>2205.98080</td>\n",
              "      <td>True</td>\n",
              "      <td>False</td>\n",
              "      <td>True</td>\n",
              "      <td>False</td>\n",
              "      <td>False</td>\n",
              "      <td>False</td>\n",
              "      <td>1</td>\n",
              "      <td>2</td>\n",
              "    </tr>\n",
              "    <tr>\n",
              "      <th>1332</th>\n",
              "      <td>18.0</td>\n",
              "      <td>NaN</td>\n",
              "      <td>36.850</td>\n",
              "      <td>0.0</td>\n",
              "      <td>0</td>\n",
              "      <td>southeast</td>\n",
              "      <td>1629.83350</td>\n",
              "      <td>False</td>\n",
              "      <td>False</td>\n",
              "      <td>False</td>\n",
              "      <td>False</td>\n",
              "      <td>True</td>\n",
              "      <td>False</td>\n",
              "      <td>1</td>\n",
              "      <td>2</td>\n",
              "    </tr>\n",
              "    <tr>\n",
              "      <th>1333</th>\n",
              "      <td>21.0</td>\n",
              "      <td>female</td>\n",
              "      <td>25.800</td>\n",
              "      <td>0.0</td>\n",
              "      <td>0</td>\n",
              "      <td>southwest</td>\n",
              "      <td>2007.94500</td>\n",
              "      <td>True</td>\n",
              "      <td>False</td>\n",
              "      <td>False</td>\n",
              "      <td>False</td>\n",
              "      <td>False</td>\n",
              "      <td>True</td>\n",
              "      <td>0</td>\n",
              "      <td>1</td>\n",
              "    </tr>\n",
              "    <tr>\n",
              "      <th>1334</th>\n",
              "      <td>61.0</td>\n",
              "      <td>female</td>\n",
              "      <td>29.070</td>\n",
              "      <td>0.0</td>\n",
              "      <td>1</td>\n",
              "      <td>northwest</td>\n",
              "      <td>29141.36030</td>\n",
              "      <td>True</td>\n",
              "      <td>False</td>\n",
              "      <td>False</td>\n",
              "      <td>True</td>\n",
              "      <td>False</td>\n",
              "      <td>False</td>\n",
              "      <td>0</td>\n",
              "      <td>3</td>\n",
              "    </tr>\n",
              "  </tbody>\n",
              "</table>\n",
              "<p>1335 rows × 15 columns</p>\n",
              "</div>"
            ],
            "text/plain": [
              "       age     sex     bmi  children  smoker     region      charges  \\\n",
              "0     19.0  female  27.900       0.0       1  southwest  16884.92400   \n",
              "1     18.0    male  33.770       1.0       0  southeast   1725.55230   \n",
              "2     28.0    male  33.000       3.0       0  southeast   4449.46200   \n",
              "3     33.0    male  22.705       0.0       0  northwest  21984.47061   \n",
              "4     32.0    male  28.880       0.0       0  northwest   3866.85520   \n",
              "...    ...     ...     ...       ...     ...        ...          ...   \n",
              "1330  50.0    male  30.970       3.0       0  northwest  10600.54830   \n",
              "1331  18.0  female  31.920       0.0       0  northeast   2205.98080   \n",
              "1332  18.0     NaN  36.850       0.0       0  southeast   1629.83350   \n",
              "1333  21.0  female  25.800       0.0       0  southwest   2007.94500   \n",
              "1334  61.0  female  29.070       0.0       1  northwest  29141.36030   \n",
              "\n",
              "      sex_female  sex_male  region_northeast  region_northwest  \\\n",
              "0           True     False             False             False   \n",
              "1          False      True             False             False   \n",
              "2          False      True             False             False   \n",
              "3          False      True             False              True   \n",
              "4          False      True             False              True   \n",
              "...          ...       ...               ...               ...   \n",
              "1330       False      True             False              True   \n",
              "1331        True     False              True             False   \n",
              "1332       False     False             False             False   \n",
              "1333        True     False             False             False   \n",
              "1334        True     False             False              True   \n",
              "\n",
              "      region_southeast  region_southwest  obese  obese_smoker  \n",
              "0                False              True      0             3  \n",
              "1                 True             False      1             2  \n",
              "2                 True             False      1             2  \n",
              "3                False             False      0             1  \n",
              "4                False             False      0             1  \n",
              "...                ...               ...    ...           ...  \n",
              "1330             False             False      1             2  \n",
              "1331             False             False      1             2  \n",
              "1332              True             False      1             2  \n",
              "1333             False              True      0             1  \n",
              "1334             False             False      0             3  \n",
              "\n",
              "[1335 rows x 15 columns]"
            ]
          },
          "execution_count": 418,
          "metadata": {},
          "output_type": "execute_result"
        }
      ],
      "source": [
        "insurance_data"
      ]
    },
    {
      "cell_type": "markdown",
      "metadata": {},
      "source": [
        "Define pipelines"
      ]
    },
    {
      "cell_type": "code",
      "execution_count": 419,
      "metadata": {},
      "outputs": [],
      "source": [
        "# Define preprocessing steps for numerical and categorical features\n",
        "numerical_attribs = ['age', 'bmi', 'children']\n",
        "numeric_transformer = Pipeline(steps=[\n",
        "    ('imputer', SimpleImputer(strategy='median')),\n",
        "    ('scaler', StandardScaler()),\n",
        "    ('log', FunctionTransformer(np.log, inverse_func=np.exp))\n",
        "])\n",
        "\n",
        "categorical_attribs = ['sex', 'smoker', 'region']\n",
        "categorical_transformer = Pipeline(steps=[\n",
        "    ('imputer', SimpleImputer(strategy='constant', fill_value='missing')),\n",
        "    ('onehot', OneHotEncoder(handle_unknown='ignore'))\n",
        "])\n",
        "\n",
        "# Combine numerical and categorical transformers\n",
        "preprocessor = ColumnTransformer(\n",
        "    transformers=[\n",
        "        ('Numerical Values', numeric_transformer, numerical_attribs),\n",
        "        ('Categorical Values', categorical_transformer, categorical_attribs)\n",
        "    ])"
      ]
    },
    {
      "cell_type": "markdown",
      "metadata": {},
      "source": [
        "Look at pipeline result"
      ]
    },
    {
      "cell_type": "code",
      "execution_count": 420,
      "metadata": {},
      "outputs": [
        {
          "data": {
            "text/html": [
              "<style>#sk-container-id-7 {color: black;}#sk-container-id-7 pre{padding: 0;}#sk-container-id-7 div.sk-toggleable {background-color: white;}#sk-container-id-7 label.sk-toggleable__label {cursor: pointer;display: block;width: 100%;margin-bottom: 0;padding: 0.3em;box-sizing: border-box;text-align: center;}#sk-container-id-7 label.sk-toggleable__label-arrow:before {content: \"▸\";float: left;margin-right: 0.25em;color: #696969;}#sk-container-id-7 label.sk-toggleable__label-arrow:hover:before {color: black;}#sk-container-id-7 div.sk-estimator:hover label.sk-toggleable__label-arrow:before {color: black;}#sk-container-id-7 div.sk-toggleable__content {max-height: 0;max-width: 0;overflow: hidden;text-align: left;background-color: #f0f8ff;}#sk-container-id-7 div.sk-toggleable__content pre {margin: 0.2em;color: black;border-radius: 0.25em;background-color: #f0f8ff;}#sk-container-id-7 input.sk-toggleable__control:checked~div.sk-toggleable__content {max-height: 200px;max-width: 100%;overflow: auto;}#sk-container-id-7 input.sk-toggleable__control:checked~label.sk-toggleable__label-arrow:before {content: \"▾\";}#sk-container-id-7 div.sk-estimator input.sk-toggleable__control:checked~label.sk-toggleable__label {background-color: #d4ebff;}#sk-container-id-7 div.sk-label input.sk-toggleable__control:checked~label.sk-toggleable__label {background-color: #d4ebff;}#sk-container-id-7 input.sk-hidden--visually {border: 0;clip: rect(1px 1px 1px 1px);clip: rect(1px, 1px, 1px, 1px);height: 1px;margin: -1px;overflow: hidden;padding: 0;position: absolute;width: 1px;}#sk-container-id-7 div.sk-estimator {font-family: monospace;background-color: #f0f8ff;border: 1px dotted black;border-radius: 0.25em;box-sizing: border-box;margin-bottom: 0.5em;}#sk-container-id-7 div.sk-estimator:hover {background-color: #d4ebff;}#sk-container-id-7 div.sk-parallel-item::after {content: \"\";width: 100%;border-bottom: 1px solid gray;flex-grow: 1;}#sk-container-id-7 div.sk-label:hover label.sk-toggleable__label {background-color: #d4ebff;}#sk-container-id-7 div.sk-serial::before {content: \"\";position: absolute;border-left: 1px solid gray;box-sizing: border-box;top: 0;bottom: 0;left: 50%;z-index: 0;}#sk-container-id-7 div.sk-serial {display: flex;flex-direction: column;align-items: center;background-color: white;padding-right: 0.2em;padding-left: 0.2em;position: relative;}#sk-container-id-7 div.sk-item {position: relative;z-index: 1;}#sk-container-id-7 div.sk-parallel {display: flex;align-items: stretch;justify-content: center;background-color: white;position: relative;}#sk-container-id-7 div.sk-item::before, #sk-container-id-7 div.sk-parallel-item::before {content: \"\";position: absolute;border-left: 1px solid gray;box-sizing: border-box;top: 0;bottom: 0;left: 50%;z-index: -1;}#sk-container-id-7 div.sk-parallel-item {display: flex;flex-direction: column;z-index: 1;position: relative;background-color: white;}#sk-container-id-7 div.sk-parallel-item:first-child::after {align-self: flex-end;width: 50%;}#sk-container-id-7 div.sk-parallel-item:last-child::after {align-self: flex-start;width: 50%;}#sk-container-id-7 div.sk-parallel-item:only-child::after {width: 0;}#sk-container-id-7 div.sk-dashed-wrapped {border: 1px dashed gray;margin: 0 0.4em 0.5em 0.4em;box-sizing: border-box;padding-bottom: 0.4em;background-color: white;}#sk-container-id-7 div.sk-label label {font-family: monospace;font-weight: bold;display: inline-block;line-height: 1.2em;}#sk-container-id-7 div.sk-label-container {text-align: center;}#sk-container-id-7 div.sk-container {/* jupyter's `normalize.less` sets `[hidden] { display: none; }` but bootstrap.min.css set `[hidden] { display: none !important; }` so we also need the `!important` here to be able to override the default hidden behavior on the sphinx rendered scikit-learn.org. See: https://github.com/scikit-learn/scikit-learn/issues/21755 */display: inline-block !important;position: relative;}#sk-container-id-7 div.sk-text-repr-fallback {display: none;}</style><div id=\"sk-container-id-7\" class=\"sk-top-container\"><div class=\"sk-text-repr-fallback\"><pre>ColumnTransformer(transformers=[(&#x27;Numerical Values&#x27;,\n",
              "                                 Pipeline(steps=[(&#x27;imputer&#x27;,\n",
              "                                                  SimpleImputer(strategy=&#x27;median&#x27;)),\n",
              "                                                 (&#x27;scaler&#x27;, StandardScaler()),\n",
              "                                                 (&#x27;log&#x27;,\n",
              "                                                  FunctionTransformer(func=&lt;ufunc &#x27;log&#x27;&gt;,\n",
              "                                                                      inverse_func=&lt;ufunc &#x27;exp&#x27;&gt;))]),\n",
              "                                 [&#x27;age&#x27;, &#x27;bmi&#x27;, &#x27;children&#x27;]),\n",
              "                                (&#x27;Categorical Values&#x27;,\n",
              "                                 Pipeline(steps=[(&#x27;imputer&#x27;,\n",
              "                                                  SimpleImputer(fill_value=&#x27;missing&#x27;,\n",
              "                                                                strategy=&#x27;constant&#x27;)),\n",
              "                                                 (&#x27;onehot&#x27;,\n",
              "                                                  OneHotEncoder(handle_unknown=&#x27;ignore&#x27;))]),\n",
              "                                 [&#x27;sex&#x27;, &#x27;smoker&#x27;, &#x27;region&#x27;])])</pre><b>In a Jupyter environment, please rerun this cell to show the HTML representation or trust the notebook. <br />On GitHub, the HTML representation is unable to render, please try loading this page with nbviewer.org.</b></div><div class=\"sk-container\" hidden><div class=\"sk-item sk-dashed-wrapped\"><div class=\"sk-label-container\"><div class=\"sk-label sk-toggleable\"><input class=\"sk-toggleable__control sk-hidden--visually\" id=\"sk-estimator-id-33\" type=\"checkbox\" ><label for=\"sk-estimator-id-33\" class=\"sk-toggleable__label sk-toggleable__label-arrow\">ColumnTransformer</label><div class=\"sk-toggleable__content\"><pre>ColumnTransformer(transformers=[(&#x27;Numerical Values&#x27;,\n",
              "                                 Pipeline(steps=[(&#x27;imputer&#x27;,\n",
              "                                                  SimpleImputer(strategy=&#x27;median&#x27;)),\n",
              "                                                 (&#x27;scaler&#x27;, StandardScaler()),\n",
              "                                                 (&#x27;log&#x27;,\n",
              "                                                  FunctionTransformer(func=&lt;ufunc &#x27;log&#x27;&gt;,\n",
              "                                                                      inverse_func=&lt;ufunc &#x27;exp&#x27;&gt;))]),\n",
              "                                 [&#x27;age&#x27;, &#x27;bmi&#x27;, &#x27;children&#x27;]),\n",
              "                                (&#x27;Categorical Values&#x27;,\n",
              "                                 Pipeline(steps=[(&#x27;imputer&#x27;,\n",
              "                                                  SimpleImputer(fill_value=&#x27;missing&#x27;,\n",
              "                                                                strategy=&#x27;constant&#x27;)),\n",
              "                                                 (&#x27;onehot&#x27;,\n",
              "                                                  OneHotEncoder(handle_unknown=&#x27;ignore&#x27;))]),\n",
              "                                 [&#x27;sex&#x27;, &#x27;smoker&#x27;, &#x27;region&#x27;])])</pre></div></div></div><div class=\"sk-parallel\"><div class=\"sk-parallel-item\"><div class=\"sk-item\"><div class=\"sk-label-container\"><div class=\"sk-label sk-toggleable\"><input class=\"sk-toggleable__control sk-hidden--visually\" id=\"sk-estimator-id-34\" type=\"checkbox\" ><label for=\"sk-estimator-id-34\" class=\"sk-toggleable__label sk-toggleable__label-arrow\">Numerical Values</label><div class=\"sk-toggleable__content\"><pre>[&#x27;age&#x27;, &#x27;bmi&#x27;, &#x27;children&#x27;]</pre></div></div></div><div class=\"sk-serial\"><div class=\"sk-item\"><div class=\"sk-serial\"><div class=\"sk-item\"><div class=\"sk-estimator sk-toggleable\"><input class=\"sk-toggleable__control sk-hidden--visually\" id=\"sk-estimator-id-35\" type=\"checkbox\" ><label for=\"sk-estimator-id-35\" class=\"sk-toggleable__label sk-toggleable__label-arrow\">SimpleImputer</label><div class=\"sk-toggleable__content\"><pre>SimpleImputer(strategy=&#x27;median&#x27;)</pre></div></div></div><div class=\"sk-item\"><div class=\"sk-estimator sk-toggleable\"><input class=\"sk-toggleable__control sk-hidden--visually\" id=\"sk-estimator-id-36\" type=\"checkbox\" ><label for=\"sk-estimator-id-36\" class=\"sk-toggleable__label sk-toggleable__label-arrow\">StandardScaler</label><div class=\"sk-toggleable__content\"><pre>StandardScaler()</pre></div></div></div><div class=\"sk-item\"><div class=\"sk-estimator sk-toggleable\"><input class=\"sk-toggleable__control sk-hidden--visually\" id=\"sk-estimator-id-37\" type=\"checkbox\" ><label for=\"sk-estimator-id-37\" class=\"sk-toggleable__label sk-toggleable__label-arrow\">FunctionTransformer</label><div class=\"sk-toggleable__content\"><pre>FunctionTransformer(func=&lt;ufunc &#x27;log&#x27;&gt;, inverse_func=&lt;ufunc &#x27;exp&#x27;&gt;)</pre></div></div></div></div></div></div></div></div><div class=\"sk-parallel-item\"><div class=\"sk-item\"><div class=\"sk-label-container\"><div class=\"sk-label sk-toggleable\"><input class=\"sk-toggleable__control sk-hidden--visually\" id=\"sk-estimator-id-38\" type=\"checkbox\" ><label for=\"sk-estimator-id-38\" class=\"sk-toggleable__label sk-toggleable__label-arrow\">Categorical Values</label><div class=\"sk-toggleable__content\"><pre>[&#x27;sex&#x27;, &#x27;smoker&#x27;, &#x27;region&#x27;]</pre></div></div></div><div class=\"sk-serial\"><div class=\"sk-item\"><div class=\"sk-serial\"><div class=\"sk-item\"><div class=\"sk-estimator sk-toggleable\"><input class=\"sk-toggleable__control sk-hidden--visually\" id=\"sk-estimator-id-39\" type=\"checkbox\" ><label for=\"sk-estimator-id-39\" class=\"sk-toggleable__label sk-toggleable__label-arrow\">SimpleImputer</label><div class=\"sk-toggleable__content\"><pre>SimpleImputer(fill_value=&#x27;missing&#x27;, strategy=&#x27;constant&#x27;)</pre></div></div></div><div class=\"sk-item\"><div class=\"sk-estimator sk-toggleable\"><input class=\"sk-toggleable__control sk-hidden--visually\" id=\"sk-estimator-id-40\" type=\"checkbox\" ><label for=\"sk-estimator-id-40\" class=\"sk-toggleable__label sk-toggleable__label-arrow\">OneHotEncoder</label><div class=\"sk-toggleable__content\"><pre>OneHotEncoder(handle_unknown=&#x27;ignore&#x27;)</pre></div></div></div></div></div></div></div></div></div></div></div></div>"
            ],
            "text/plain": [
              "ColumnTransformer(transformers=[('Numerical Values',\n",
              "                                 Pipeline(steps=[('imputer',\n",
              "                                                  SimpleImputer(strategy='median')),\n",
              "                                                 ('scaler', StandardScaler()),\n",
              "                                                 ('log',\n",
              "                                                  FunctionTransformer(func=<ufunc 'log'>,\n",
              "                                                                      inverse_func=<ufunc 'exp'>))]),\n",
              "                                 ['age', 'bmi', 'children']),\n",
              "                                ('Categorical Values',\n",
              "                                 Pipeline(steps=[('imputer',\n",
              "                                                  SimpleImputer(fill_value='missing',\n",
              "                                                                strategy='constant')),\n",
              "                                                 ('onehot',\n",
              "                                                  OneHotEncoder(handle_unknown='ignore'))]),\n",
              "                                 ['sex', 'smoker', 'region'])])"
            ]
          },
          "execution_count": 420,
          "metadata": {},
          "output_type": "execute_result"
        }
      ],
      "source": [
        "preprocessor"
      ]
    },
    {
      "cell_type": "markdown",
      "metadata": {
        "id": "pc52a0pdue4W"
      },
      "source": [
        "## Select and Train a Model"
      ]
    },
    {
      "cell_type": "markdown",
      "metadata": {
        "id": "ViAv7HJ7y6Dh"
      },
      "source": [
        "### Train and Evaluate on the Training Set\n",
        "\n",
        "<font color='#D61E85' size='+2'>**Q20:**</font> After all it’s time to work with the model. Based on the answers you gave in the beginning of this exercise, you can choose which models you can use for the task. Try to use linear regression, decision tree regressor, random forest regressor, and support vector machine resgressor as your models and train these models on training split which you already created. Remember, using the first six attributes, we want to predict the `charges` column. Using the performance measures we talked about earlier try to compare your results. Don’t bother yourself with underlying dynamics of these models, we get to that in details in future."
      ]
    },
    {
      "cell_type": "markdown",
      "metadata": {
        "id": "JUwVY0hZzJff"
      },
      "source": [
        "<font color='#8FCF26' size='+2'>**A20:**</font> Create some cell down below to write and run your code."
      ]
    },
    {
      "cell_type": "markdown",
      "metadata": {},
      "source": [
        "***Import libraries***"
      ]
    },
    {
      "cell_type": "code",
      "execution_count": 421,
      "metadata": {},
      "outputs": [],
      "source": [
        "#Function for train and test\n",
        "from sklearn.model_selection import train_test_split\n",
        "#Linear Regression function\n",
        "from sklearn.linear_model import LinearRegression\n",
        "#Decision Tree Regression function\n",
        "from sklearn.tree import DecisionTreeRegressor\n",
        "#Random Forest Regression function\n",
        "from sklearn.ensemble import RandomForestRegressor\n",
        "#Support Vector Machine function\n",
        "from sklearn.svm import SVR\n",
        "#performance measures\n",
        "from sklearn.metrics import mean_squared_error, mean_absolute_error, mean_absolute_percentage_error, r2_score"
      ]
    },
    {
      "cell_type": "markdown",
      "metadata": {},
      "source": [
        "***Select attributes and target value***"
      ]
    },
    {
      "cell_type": "markdown",
      "metadata": {},
      "source": [
        "We don't need sex and region column"
      ]
    },
    {
      "cell_type": "code",
      "execution_count": 422,
      "metadata": {},
      "outputs": [],
      "source": [
        "attributes = ['age', 'bmi', 'children', 'smoker', 'charges', 'sex_female', 'sex_male', 'region_northeast', 'region_northwest', 'region_southeast', 'region_southwest', 'obese', 'obese_smoker']\n",
        "target = 'charges'"
      ]
    },
    {
      "cell_type": "code",
      "execution_count": 423,
      "metadata": {},
      "outputs": [],
      "source": [
        "final_insurance_data = insurance_data[attributes].copy()"
      ]
    },
    {
      "cell_type": "code",
      "execution_count": 424,
      "metadata": {},
      "outputs": [
        {
          "data": {
            "text/html": [
              "<div>\n",
              "<style scoped>\n",
              "    .dataframe tbody tr th:only-of-type {\n",
              "        vertical-align: middle;\n",
              "    }\n",
              "\n",
              "    .dataframe tbody tr th {\n",
              "        vertical-align: top;\n",
              "    }\n",
              "\n",
              "    .dataframe thead th {\n",
              "        text-align: right;\n",
              "    }\n",
              "</style>\n",
              "<table border=\"1\" class=\"dataframe\">\n",
              "  <thead>\n",
              "    <tr style=\"text-align: right;\">\n",
              "      <th></th>\n",
              "      <th>age</th>\n",
              "      <th>bmi</th>\n",
              "      <th>children</th>\n",
              "      <th>smoker</th>\n",
              "      <th>charges</th>\n",
              "      <th>sex_female</th>\n",
              "      <th>sex_male</th>\n",
              "      <th>region_northeast</th>\n",
              "      <th>region_northwest</th>\n",
              "      <th>region_southeast</th>\n",
              "      <th>region_southwest</th>\n",
              "      <th>obese</th>\n",
              "      <th>obese_smoker</th>\n",
              "    </tr>\n",
              "  </thead>\n",
              "  <tbody>\n",
              "    <tr>\n",
              "      <th>0</th>\n",
              "      <td>19.0</td>\n",
              "      <td>27.900</td>\n",
              "      <td>0.0</td>\n",
              "      <td>1</td>\n",
              "      <td>16884.92400</td>\n",
              "      <td>True</td>\n",
              "      <td>False</td>\n",
              "      <td>False</td>\n",
              "      <td>False</td>\n",
              "      <td>False</td>\n",
              "      <td>True</td>\n",
              "      <td>0</td>\n",
              "      <td>3</td>\n",
              "    </tr>\n",
              "    <tr>\n",
              "      <th>1</th>\n",
              "      <td>18.0</td>\n",
              "      <td>33.770</td>\n",
              "      <td>1.0</td>\n",
              "      <td>0</td>\n",
              "      <td>1725.55230</td>\n",
              "      <td>False</td>\n",
              "      <td>True</td>\n",
              "      <td>False</td>\n",
              "      <td>False</td>\n",
              "      <td>True</td>\n",
              "      <td>False</td>\n",
              "      <td>1</td>\n",
              "      <td>2</td>\n",
              "    </tr>\n",
              "    <tr>\n",
              "      <th>2</th>\n",
              "      <td>28.0</td>\n",
              "      <td>33.000</td>\n",
              "      <td>3.0</td>\n",
              "      <td>0</td>\n",
              "      <td>4449.46200</td>\n",
              "      <td>False</td>\n",
              "      <td>True</td>\n",
              "      <td>False</td>\n",
              "      <td>False</td>\n",
              "      <td>True</td>\n",
              "      <td>False</td>\n",
              "      <td>1</td>\n",
              "      <td>2</td>\n",
              "    </tr>\n",
              "    <tr>\n",
              "      <th>3</th>\n",
              "      <td>33.0</td>\n",
              "      <td>22.705</td>\n",
              "      <td>0.0</td>\n",
              "      <td>0</td>\n",
              "      <td>21984.47061</td>\n",
              "      <td>False</td>\n",
              "      <td>True</td>\n",
              "      <td>False</td>\n",
              "      <td>True</td>\n",
              "      <td>False</td>\n",
              "      <td>False</td>\n",
              "      <td>0</td>\n",
              "      <td>1</td>\n",
              "    </tr>\n",
              "    <tr>\n",
              "      <th>4</th>\n",
              "      <td>32.0</td>\n",
              "      <td>28.880</td>\n",
              "      <td>0.0</td>\n",
              "      <td>0</td>\n",
              "      <td>3866.85520</td>\n",
              "      <td>False</td>\n",
              "      <td>True</td>\n",
              "      <td>False</td>\n",
              "      <td>True</td>\n",
              "      <td>False</td>\n",
              "      <td>False</td>\n",
              "      <td>0</td>\n",
              "      <td>1</td>\n",
              "    </tr>\n",
              "    <tr>\n",
              "      <th>...</th>\n",
              "      <td>...</td>\n",
              "      <td>...</td>\n",
              "      <td>...</td>\n",
              "      <td>...</td>\n",
              "      <td>...</td>\n",
              "      <td>...</td>\n",
              "      <td>...</td>\n",
              "      <td>...</td>\n",
              "      <td>...</td>\n",
              "      <td>...</td>\n",
              "      <td>...</td>\n",
              "      <td>...</td>\n",
              "      <td>...</td>\n",
              "    </tr>\n",
              "    <tr>\n",
              "      <th>1330</th>\n",
              "      <td>50.0</td>\n",
              "      <td>30.970</td>\n",
              "      <td>3.0</td>\n",
              "      <td>0</td>\n",
              "      <td>10600.54830</td>\n",
              "      <td>False</td>\n",
              "      <td>True</td>\n",
              "      <td>False</td>\n",
              "      <td>True</td>\n",
              "      <td>False</td>\n",
              "      <td>False</td>\n",
              "      <td>1</td>\n",
              "      <td>2</td>\n",
              "    </tr>\n",
              "    <tr>\n",
              "      <th>1331</th>\n",
              "      <td>18.0</td>\n",
              "      <td>31.920</td>\n",
              "      <td>0.0</td>\n",
              "      <td>0</td>\n",
              "      <td>2205.98080</td>\n",
              "      <td>True</td>\n",
              "      <td>False</td>\n",
              "      <td>True</td>\n",
              "      <td>False</td>\n",
              "      <td>False</td>\n",
              "      <td>False</td>\n",
              "      <td>1</td>\n",
              "      <td>2</td>\n",
              "    </tr>\n",
              "    <tr>\n",
              "      <th>1332</th>\n",
              "      <td>18.0</td>\n",
              "      <td>36.850</td>\n",
              "      <td>0.0</td>\n",
              "      <td>0</td>\n",
              "      <td>1629.83350</td>\n",
              "      <td>False</td>\n",
              "      <td>False</td>\n",
              "      <td>False</td>\n",
              "      <td>False</td>\n",
              "      <td>True</td>\n",
              "      <td>False</td>\n",
              "      <td>1</td>\n",
              "      <td>2</td>\n",
              "    </tr>\n",
              "    <tr>\n",
              "      <th>1333</th>\n",
              "      <td>21.0</td>\n",
              "      <td>25.800</td>\n",
              "      <td>0.0</td>\n",
              "      <td>0</td>\n",
              "      <td>2007.94500</td>\n",
              "      <td>True</td>\n",
              "      <td>False</td>\n",
              "      <td>False</td>\n",
              "      <td>False</td>\n",
              "      <td>False</td>\n",
              "      <td>True</td>\n",
              "      <td>0</td>\n",
              "      <td>1</td>\n",
              "    </tr>\n",
              "    <tr>\n",
              "      <th>1334</th>\n",
              "      <td>61.0</td>\n",
              "      <td>29.070</td>\n",
              "      <td>0.0</td>\n",
              "      <td>1</td>\n",
              "      <td>29141.36030</td>\n",
              "      <td>True</td>\n",
              "      <td>False</td>\n",
              "      <td>False</td>\n",
              "      <td>True</td>\n",
              "      <td>False</td>\n",
              "      <td>False</td>\n",
              "      <td>0</td>\n",
              "      <td>3</td>\n",
              "    </tr>\n",
              "  </tbody>\n",
              "</table>\n",
              "<p>1335 rows × 13 columns</p>\n",
              "</div>"
            ],
            "text/plain": [
              "       age     bmi  children  smoker      charges  sex_female  sex_male  \\\n",
              "0     19.0  27.900       0.0       1  16884.92400        True     False   \n",
              "1     18.0  33.770       1.0       0   1725.55230       False      True   \n",
              "2     28.0  33.000       3.0       0   4449.46200       False      True   \n",
              "3     33.0  22.705       0.0       0  21984.47061       False      True   \n",
              "4     32.0  28.880       0.0       0   3866.85520       False      True   \n",
              "...    ...     ...       ...     ...          ...         ...       ...   \n",
              "1330  50.0  30.970       3.0       0  10600.54830       False      True   \n",
              "1331  18.0  31.920       0.0       0   2205.98080        True     False   \n",
              "1332  18.0  36.850       0.0       0   1629.83350       False     False   \n",
              "1333  21.0  25.800       0.0       0   2007.94500        True     False   \n",
              "1334  61.0  29.070       0.0       1  29141.36030        True     False   \n",
              "\n",
              "      region_northeast  region_northwest  region_southeast  region_southwest  \\\n",
              "0                False             False             False              True   \n",
              "1                False             False              True             False   \n",
              "2                False             False              True             False   \n",
              "3                False              True             False             False   \n",
              "4                False              True             False             False   \n",
              "...                ...               ...               ...               ...   \n",
              "1330             False              True             False             False   \n",
              "1331              True             False             False             False   \n",
              "1332             False             False              True             False   \n",
              "1333             False             False             False              True   \n",
              "1334             False              True             False             False   \n",
              "\n",
              "      obese  obese_smoker  \n",
              "0         0             3  \n",
              "1         1             2  \n",
              "2         1             2  \n",
              "3         0             1  \n",
              "4         0             1  \n",
              "...     ...           ...  \n",
              "1330      1             2  \n",
              "1331      1             2  \n",
              "1332      1             2  \n",
              "1333      0             1  \n",
              "1334      0             3  \n",
              "\n",
              "[1335 rows x 13 columns]"
            ]
          },
          "execution_count": 424,
          "metadata": {},
          "output_type": "execute_result"
        }
      ],
      "source": [
        "final_insurance_data"
      ]
    },
    {
      "cell_type": "markdown",
      "metadata": {},
      "source": [
        "Here is better to convert some float columns to int(for example in sex or age column)"
      ]
    },
    {
      "cell_type": "code",
      "execution_count": 425,
      "metadata": {},
      "outputs": [
        {
          "data": {
            "text/html": [
              "<div>\n",
              "<style scoped>\n",
              "    .dataframe tbody tr th:only-of-type {\n",
              "        vertical-align: middle;\n",
              "    }\n",
              "\n",
              "    .dataframe tbody tr th {\n",
              "        vertical-align: top;\n",
              "    }\n",
              "\n",
              "    .dataframe thead th {\n",
              "        text-align: right;\n",
              "    }\n",
              "</style>\n",
              "<table border=\"1\" class=\"dataframe\">\n",
              "  <thead>\n",
              "    <tr style=\"text-align: right;\">\n",
              "      <th></th>\n",
              "      <th>age</th>\n",
              "      <th>bmi</th>\n",
              "      <th>children</th>\n",
              "      <th>smoker</th>\n",
              "      <th>charges</th>\n",
              "      <th>sex_female</th>\n",
              "      <th>sex_male</th>\n",
              "      <th>region_northeast</th>\n",
              "      <th>region_northwest</th>\n",
              "      <th>region_southeast</th>\n",
              "      <th>region_southwest</th>\n",
              "      <th>obese</th>\n",
              "      <th>obese_smoker</th>\n",
              "    </tr>\n",
              "  </thead>\n",
              "  <tbody>\n",
              "    <tr>\n",
              "      <th>0</th>\n",
              "      <td>19</td>\n",
              "      <td>27.900</td>\n",
              "      <td>0</td>\n",
              "      <td>1</td>\n",
              "      <td>16884.92400</td>\n",
              "      <td>True</td>\n",
              "      <td>False</td>\n",
              "      <td>False</td>\n",
              "      <td>False</td>\n",
              "      <td>False</td>\n",
              "      <td>True</td>\n",
              "      <td>0</td>\n",
              "      <td>3</td>\n",
              "    </tr>\n",
              "    <tr>\n",
              "      <th>1</th>\n",
              "      <td>18</td>\n",
              "      <td>33.770</td>\n",
              "      <td>1</td>\n",
              "      <td>0</td>\n",
              "      <td>1725.55230</td>\n",
              "      <td>False</td>\n",
              "      <td>True</td>\n",
              "      <td>False</td>\n",
              "      <td>False</td>\n",
              "      <td>True</td>\n",
              "      <td>False</td>\n",
              "      <td>1</td>\n",
              "      <td>2</td>\n",
              "    </tr>\n",
              "    <tr>\n",
              "      <th>2</th>\n",
              "      <td>28</td>\n",
              "      <td>33.000</td>\n",
              "      <td>3</td>\n",
              "      <td>0</td>\n",
              "      <td>4449.46200</td>\n",
              "      <td>False</td>\n",
              "      <td>True</td>\n",
              "      <td>False</td>\n",
              "      <td>False</td>\n",
              "      <td>True</td>\n",
              "      <td>False</td>\n",
              "      <td>1</td>\n",
              "      <td>2</td>\n",
              "    </tr>\n",
              "    <tr>\n",
              "      <th>3</th>\n",
              "      <td>33</td>\n",
              "      <td>22.705</td>\n",
              "      <td>0</td>\n",
              "      <td>0</td>\n",
              "      <td>21984.47061</td>\n",
              "      <td>False</td>\n",
              "      <td>True</td>\n",
              "      <td>False</td>\n",
              "      <td>True</td>\n",
              "      <td>False</td>\n",
              "      <td>False</td>\n",
              "      <td>0</td>\n",
              "      <td>1</td>\n",
              "    </tr>\n",
              "    <tr>\n",
              "      <th>4</th>\n",
              "      <td>32</td>\n",
              "      <td>28.880</td>\n",
              "      <td>0</td>\n",
              "      <td>0</td>\n",
              "      <td>3866.85520</td>\n",
              "      <td>False</td>\n",
              "      <td>True</td>\n",
              "      <td>False</td>\n",
              "      <td>True</td>\n",
              "      <td>False</td>\n",
              "      <td>False</td>\n",
              "      <td>0</td>\n",
              "      <td>1</td>\n",
              "    </tr>\n",
              "    <tr>\n",
              "      <th>...</th>\n",
              "      <td>...</td>\n",
              "      <td>...</td>\n",
              "      <td>...</td>\n",
              "      <td>...</td>\n",
              "      <td>...</td>\n",
              "      <td>...</td>\n",
              "      <td>...</td>\n",
              "      <td>...</td>\n",
              "      <td>...</td>\n",
              "      <td>...</td>\n",
              "      <td>...</td>\n",
              "      <td>...</td>\n",
              "      <td>...</td>\n",
              "    </tr>\n",
              "    <tr>\n",
              "      <th>1330</th>\n",
              "      <td>50</td>\n",
              "      <td>30.970</td>\n",
              "      <td>3</td>\n",
              "      <td>0</td>\n",
              "      <td>10600.54830</td>\n",
              "      <td>False</td>\n",
              "      <td>True</td>\n",
              "      <td>False</td>\n",
              "      <td>True</td>\n",
              "      <td>False</td>\n",
              "      <td>False</td>\n",
              "      <td>1</td>\n",
              "      <td>2</td>\n",
              "    </tr>\n",
              "    <tr>\n",
              "      <th>1331</th>\n",
              "      <td>18</td>\n",
              "      <td>31.920</td>\n",
              "      <td>0</td>\n",
              "      <td>0</td>\n",
              "      <td>2205.98080</td>\n",
              "      <td>True</td>\n",
              "      <td>False</td>\n",
              "      <td>True</td>\n",
              "      <td>False</td>\n",
              "      <td>False</td>\n",
              "      <td>False</td>\n",
              "      <td>1</td>\n",
              "      <td>2</td>\n",
              "    </tr>\n",
              "    <tr>\n",
              "      <th>1332</th>\n",
              "      <td>18</td>\n",
              "      <td>36.850</td>\n",
              "      <td>0</td>\n",
              "      <td>0</td>\n",
              "      <td>1629.83350</td>\n",
              "      <td>False</td>\n",
              "      <td>False</td>\n",
              "      <td>False</td>\n",
              "      <td>False</td>\n",
              "      <td>True</td>\n",
              "      <td>False</td>\n",
              "      <td>1</td>\n",
              "      <td>2</td>\n",
              "    </tr>\n",
              "    <tr>\n",
              "      <th>1333</th>\n",
              "      <td>21</td>\n",
              "      <td>25.800</td>\n",
              "      <td>0</td>\n",
              "      <td>0</td>\n",
              "      <td>2007.94500</td>\n",
              "      <td>True</td>\n",
              "      <td>False</td>\n",
              "      <td>False</td>\n",
              "      <td>False</td>\n",
              "      <td>False</td>\n",
              "      <td>True</td>\n",
              "      <td>0</td>\n",
              "      <td>1</td>\n",
              "    </tr>\n",
              "    <tr>\n",
              "      <th>1334</th>\n",
              "      <td>61</td>\n",
              "      <td>29.070</td>\n",
              "      <td>0</td>\n",
              "      <td>1</td>\n",
              "      <td>29141.36030</td>\n",
              "      <td>True</td>\n",
              "      <td>False</td>\n",
              "      <td>False</td>\n",
              "      <td>True</td>\n",
              "      <td>False</td>\n",
              "      <td>False</td>\n",
              "      <td>0</td>\n",
              "      <td>3</td>\n",
              "    </tr>\n",
              "  </tbody>\n",
              "</table>\n",
              "<p>1335 rows × 13 columns</p>\n",
              "</div>"
            ],
            "text/plain": [
              "      age     bmi  children  smoker      charges  sex_female  sex_male  \\\n",
              "0      19  27.900         0       1  16884.92400        True     False   \n",
              "1      18  33.770         1       0   1725.55230       False      True   \n",
              "2      28  33.000         3       0   4449.46200       False      True   \n",
              "3      33  22.705         0       0  21984.47061       False      True   \n",
              "4      32  28.880         0       0   3866.85520       False      True   \n",
              "...   ...     ...       ...     ...          ...         ...       ...   \n",
              "1330   50  30.970         3       0  10600.54830       False      True   \n",
              "1331   18  31.920         0       0   2205.98080        True     False   \n",
              "1332   18  36.850         0       0   1629.83350       False     False   \n",
              "1333   21  25.800         0       0   2007.94500        True     False   \n",
              "1334   61  29.070         0       1  29141.36030        True     False   \n",
              "\n",
              "      region_northeast  region_northwest  region_southeast  region_southwest  \\\n",
              "0                False             False             False              True   \n",
              "1                False             False              True             False   \n",
              "2                False             False              True             False   \n",
              "3                False              True             False             False   \n",
              "4                False              True             False             False   \n",
              "...                ...               ...               ...               ...   \n",
              "1330             False              True             False             False   \n",
              "1331              True             False             False             False   \n",
              "1332             False             False              True             False   \n",
              "1333             False             False             False              True   \n",
              "1334             False              True             False             False   \n",
              "\n",
              "      obese  obese_smoker  \n",
              "0         0             3  \n",
              "1         1             2  \n",
              "2         1             2  \n",
              "3         0             1  \n",
              "4         0             1  \n",
              "...     ...           ...  \n",
              "1330      1             2  \n",
              "1331      1             2  \n",
              "1332      1             2  \n",
              "1333      0             1  \n",
              "1334      0             3  \n",
              "\n",
              "[1335 rows x 13 columns]"
            ]
          },
          "execution_count": 425,
          "metadata": {},
          "output_type": "execute_result"
        }
      ],
      "source": [
        "# Convert columns\n",
        "columns = ['age', 'children']\n",
        "final_insurance_data[columns] = final_insurance_data[columns].astype(int)\n",
        "final_insurance_data"
      ]
    },
    {
      "cell_type": "markdown",
      "metadata": {},
      "source": [
        "Split Train , Validation and Test"
      ]
    },
    {
      "cell_type": "code",
      "execution_count": 426,
      "metadata": {},
      "outputs": [],
      "source": [
        "# train_set: Training data and labels (70% of the original data).\n",
        "# valid_set: Validation data and labels (10% of the original data).\n",
        "# final_test_set: Test data and labels (20% of the original data).\n",
        "\n",
        "X_train, X_test, y_train, y_test = train_test_split(final_insurance_data[attributes], final_insurance_data[target], test_size=0.2, random_state=42)\n",
        "X_train, X_validation, y_train, y_validation = train_test_split(X_train, y_train, test_size=0.125, random_state=42)"
      ]
    },
    {
      "cell_type": "code",
      "execution_count": 427,
      "metadata": {},
      "outputs": [
        {
          "data": {
            "text/plain": [
              "(      age     bmi  children  smoker      charges  sex_female  sex_male  \\\n",
              " 654    26  42.400         1       0   3410.32400        True     False   \n",
              " 1240   28  33.110         0       0   3171.61490        True     False   \n",
              " 525    51  25.800         1       0   9861.02500        True     False   \n",
              " 1158   43  34.580         1       0   7727.25320        True     False   \n",
              " 1011   48  32.300         1       0   8765.24900       False      True   \n",
              " ...   ...     ...       ...     ...          ...         ...       ...   \n",
              " 813    20  31.460         0       0   1877.92940        True     False   \n",
              " 125    19  28.300         0       1  17081.08000        True     False   \n",
              " 129    59  26.505         0       0  12815.44495        True     False   \n",
              " 21     30  32.400         1       0   4149.73600        True     False   \n",
              " 623    29  26.030         0       0   3736.46470        True     False   \n",
              " \n",
              "       region_northeast  region_northwest  region_southeast  region_southwest  \\\n",
              " 654              False             False             False              True   \n",
              " 1240             False             False              True             False   \n",
              " 525              False             False             False              True   \n",
              " 1158             False              True             False             False   \n",
              " 1011             False              True             False             False   \n",
              " ...                ...               ...               ...               ...   \n",
              " 813              False             False              True             False   \n",
              " 125              False             False             False              True   \n",
              " 129               True             False             False             False   \n",
              " 21               False             False             False              True   \n",
              " 623              False              True             False             False   \n",
              " \n",
              "       obese  obese_smoker  \n",
              " 654       1             2  \n",
              " 1240      1             2  \n",
              " 525       0             1  \n",
              " 1158      1             2  \n",
              " 1011      1             2  \n",
              " ...     ...           ...  \n",
              " 813       1             2  \n",
              " 125       0             3  \n",
              " 129       0             1  \n",
              " 21        1             2  \n",
              " 623       0             1  \n",
              " \n",
              " [934 rows x 13 columns],\n",
              " 654      3410.32400\n",
              " 1240     3171.61490\n",
              " 525      9861.02500\n",
              " 1158     7727.25320\n",
              " 1011     8765.24900\n",
              "            ...     \n",
              " 813      1877.92940\n",
              " 125     17081.08000\n",
              " 129     12815.44495\n",
              " 21       4149.73600\n",
              " 623      3736.46470\n",
              " Name: charges, Length: 934, dtype: float64)"
            ]
          },
          "execution_count": 427,
          "metadata": {},
          "output_type": "execute_result"
        }
      ],
      "source": [
        "X_train,y_train"
      ]
    },
    {
      "cell_type": "code",
      "execution_count": 428,
      "metadata": {},
      "outputs": [
        {
          "data": {
            "text/plain": [
              "(      age     bmi  children  smoker      charges  sex_female  sex_male  \\\n",
              " 57     53  22.880         1       1  23244.79020        True     False   \n",
              " 1148   18  30.305         0       0   2203.73595        True     False   \n",
              " 608    47  29.370         1       0   8547.69130        True     False   \n",
              " 290    25  45.540         2       1  42112.23560       False      True   \n",
              " 569    18  37.290         1       0   2219.44510        True     False   \n",
              " ...   ...     ...       ...     ...          ...         ...       ...   \n",
              " 495    45  28.700         2       0   8027.96800       False      True   \n",
              " 1119   46  38.170         2       0   8347.16430       False      True   \n",
              " 589    47  19.570         1       0   8428.06930       False      True   \n",
              " 931    45  35.300         0       0   7348.14200        True     False   \n",
              " 458    49  36.630         3       0  10381.47870        True     False   \n",
              " \n",
              "       region_northeast  region_northwest  region_southeast  region_southwest  \\\n",
              " 57               False             False              True             False   \n",
              " 1148              True             False             False             False   \n",
              " 608              False             False              True             False   \n",
              " 290              False             False              True             False   \n",
              " 569              False             False              True             False   \n",
              " ...                ...               ...               ...               ...   \n",
              " 495              False             False             False              True   \n",
              " 1119             False             False              True             False   \n",
              " 589              False              True             False             False   \n",
              " 931              False             False             False              True   \n",
              " 458              False             False              True             False   \n",
              " \n",
              "       obese  obese_smoker  \n",
              " 57        0             3  \n",
              " 1148      1             2  \n",
              " 608       0             1  \n",
              " 290       1             4  \n",
              " 569       1             2  \n",
              " ...     ...           ...  \n",
              " 495       0             1  \n",
              " 1119      1             2  \n",
              " 589       0             1  \n",
              " 931       1             2  \n",
              " 458       1             2  \n",
              " \n",
              " [134 rows x 13 columns],\n",
              " 57      23244.79020\n",
              " 1148     2203.73595\n",
              " 608      8547.69130\n",
              " 290     42112.23560\n",
              " 569      2219.44510\n",
              "            ...     \n",
              " 495      8027.96800\n",
              " 1119     8347.16430\n",
              " 589      8428.06930\n",
              " 931      7348.14200\n",
              " 458     10381.47870\n",
              " Name: charges, Length: 134, dtype: float64)"
            ]
          },
          "execution_count": 428,
          "metadata": {},
          "output_type": "execute_result"
        }
      ],
      "source": [
        "X_validation,y_validation"
      ]
    },
    {
      "cell_type": "code",
      "execution_count": 429,
      "metadata": {},
      "outputs": [
        {
          "data": {
            "text/plain": [
              "(      age     bmi  children  smoker      charges  sex_female  sex_male  \\\n",
              " 898    49  22.515         0       0   8688.85885       False      True   \n",
              " 1062   29  25.600         4       0   5708.86700        True     False   \n",
              " 1253   51  36.385         3       0  11436.73815        True     False   \n",
              " 298    36  27.550         3       0   6746.74250       False      True   \n",
              " 237    44  38.060         1       0   7152.67140       False      True   \n",
              " ...   ...     ...       ...     ...          ...         ...       ...   \n",
              " 638    33  42.400         5       0   6666.24300       False      True   \n",
              " 534    33  38.900         3       0   5972.37800        True     False   \n",
              " 542    54  30.210         0       0  10231.49990       False      True   \n",
              " 895    19  25.555         1       0   2221.56445       False      True   \n",
              " 1091   22  30.400         0       1  33907.54800        True     False   \n",
              " \n",
              "       region_northeast  region_northwest  region_southeast  region_southwest  \\\n",
              " 898               True             False             False             False   \n",
              " 1062             False             False             False              True   \n",
              " 1253             False              True             False             False   \n",
              " 298               True             False             False             False   \n",
              " 237              False             False              True             False   \n",
              " ...                ...               ...               ...               ...   \n",
              " 638              False             False             False              True   \n",
              " 534              False             False             False              True   \n",
              " 542              False              True             False             False   \n",
              " 895              False              True             False             False   \n",
              " 1091             False              True             False             False   \n",
              " \n",
              "       obese  obese_smoker  \n",
              " 898       0             1  \n",
              " 1062      0             1  \n",
              " 1253      1             2  \n",
              " 298       0             1  \n",
              " 237       1             2  \n",
              " ...     ...           ...  \n",
              " 638       1             2  \n",
              " 534       1             2  \n",
              " 542       1             2  \n",
              " 895       0             1  \n",
              " 1091      1             4  \n",
              " \n",
              " [267 rows x 13 columns],\n",
              " 898      8688.85885\n",
              " 1062     5708.86700\n",
              " 1253    11436.73815\n",
              " 298      6746.74250\n",
              " 237      7152.67140\n",
              "            ...     \n",
              " 638      6666.24300\n",
              " 534      5972.37800\n",
              " 542     10231.49990\n",
              " 895      2221.56445\n",
              " 1091    33907.54800\n",
              " Name: charges, Length: 267, dtype: float64)"
            ]
          },
          "execution_count": 429,
          "metadata": {},
          "output_type": "execute_result"
        }
      ],
      "source": [
        "X_test,y_test"
      ]
    },
    {
      "cell_type": "code",
      "execution_count": 430,
      "metadata": {},
      "outputs": [],
      "source": [
        "np.random.seed(42)"
      ]
    },
    {
      "cell_type": "markdown",
      "metadata": {},
      "source": [
        "***Linear Regression***"
      ]
    },
    {
      "cell_type": "code",
      "execution_count": 431,
      "metadata": {},
      "outputs": [],
      "source": [
        "model = LinearRegression()"
      ]
    },
    {
      "cell_type": "code",
      "execution_count": 432,
      "metadata": {},
      "outputs": [],
      "source": [
        "model.fit(X_train, y_train)\n",
        "    \n",
        "# Predict on the validation set\n",
        "y_pred_validation = model.predict(X_validation)\n",
        "    \n",
        "# Calculate performance metrics for validation set\n",
        "mse_val = mean_squared_error(y_validation, y_pred_validation)\n",
        "mae_val = mean_absolute_error(y_validation, y_pred_validation)\n",
        "mape_val = mean_absolute_percentage_error(y_validation, y_pred_validation)\n",
        "r2_val = r2_score(y_validation, y_pred_validation)\n",
        "    \n",
        "# Predict on the test set\n",
        "y_pred_test = model.predict(X_test)\n",
        "    \n",
        "# Calculate performance metrics for test set\n",
        "mse_test = mean_squared_error(y_test, y_pred_test)\n",
        "mae_test = mean_absolute_error(y_test, y_pred_test)\n",
        "mape_test = mean_absolute_percentage_error(y_test, y_pred_test)\n",
        "r2_test = r2_score(y_test, y_pred_test)"
      ]
    },
    {
      "cell_type": "markdown",
      "metadata": {},
      "source": [
        "***Performance metrics***"
      ]
    },
    {
      "cell_type": "code",
      "execution_count": 433,
      "metadata": {},
      "outputs": [
        {
          "name": "stdout",
          "output_type": "stream",
          "text": [
            "Validation Mean Squared Error 7.876271813968074e-23\n",
            "Validation Mean Absolute Error 6.804242078562392e-12\n",
            "Validation Mean Absolute Percentage Error 8.04365102767498e-16\n",
            "Validation R-squared (R2) Score 1.0\n",
            "\n",
            "Test Mean Squared Error 6.983441340931649e-23\n",
            "Test Mean Absolute Error 6.616829431437877e-12\n",
            "Test Mean Absolute Percentage Error 9.345675130827197e-16\n",
            "Test R-squared (R2) Score 1.0\n"
          ]
        }
      ],
      "source": [
        "print('Validation Mean Squared Error', mse_val)\n",
        "print('Validation Mean Absolute Error',mae_val)\n",
        "print('Validation Mean Absolute Percentage Error', mape_val)\n",
        "print('Validation R-squared (R2) Score',r2_val)\n",
        "print()\n",
        "print('Test Mean Squared Error', mse_test)\n",
        "print('Test Mean Absolute Error', mae_test)\n",
        "print('Test Mean Absolute Percentage Error', mape_test)\n",
        "print('Test R-squared (R2) Score', r2_test)"
      ]
    },
    {
      "cell_type": "markdown",
      "metadata": {},
      "source": [
        "***Decision Tree Regression***"
      ]
    },
    {
      "cell_type": "code",
      "execution_count": 434,
      "metadata": {},
      "outputs": [],
      "source": [
        "model = DecisionTreeRegressor(random_state=42)"
      ]
    },
    {
      "cell_type": "code",
      "execution_count": 435,
      "metadata": {},
      "outputs": [],
      "source": [
        "model.fit(X_train, y_train)\n",
        "    \n",
        "# Predict on the validation set\n",
        "y_pred_validation = model.predict(X_validation)\n",
        "    \n",
        "# Calculate performance metrics for validation set\n",
        "mse_val = mean_squared_error(y_validation, y_pred_validation)\n",
        "mae_val = mean_absolute_error(y_validation, y_pred_validation)\n",
        "mape_val = mean_absolute_percentage_error(y_validation, y_pred_validation)\n",
        "r2_val = r2_score(y_validation, y_pred_validation)\n",
        "    \n",
        "# Predict on the test set\n",
        "y_pred_test = model.predict(X_test)\n",
        "    \n",
        "# Calculate performance metrics for test set\n",
        "mse_test = mean_squared_error(y_test, y_pred_test)\n",
        "mae_test = mean_absolute_error(y_test, y_pred_test)\n",
        "mape_test = mean_absolute_percentage_error(y_test, y_pred_test)\n",
        "r2_test = r2_score(y_test, y_pred_test)"
      ]
    },
    {
      "cell_type": "code",
      "execution_count": 436,
      "metadata": {},
      "outputs": [
        {
          "name": "stdout",
          "output_type": "stream",
          "text": [
            "Validation Mean Squared Error 16476.105754680797\n",
            "Validation Mean Absolute Error 55.722385522388116\n",
            "Validation Mean Absolute Percentage Error 0.0034498140269152338\n",
            "Validation R-squared (R2) Score 0.9998855422066004\n",
            "\n",
            "Test Mean Squared Error 190862.5671513882\n",
            "Test Mean Absolute Error 94.2494782771536\n",
            "Test Mean Absolute Percentage Error 0.004161320002895967\n",
            "Test R-squared (R2) Score 0.9987815720437605\n"
          ]
        }
      ],
      "source": [
        "print('Validation Mean Squared Error', mse_val)\n",
        "print('Validation Mean Absolute Error',mae_val)\n",
        "print('Validation Mean Absolute Percentage Error', mape_val)\n",
        "print('Validation R-squared (R2) Score',r2_val)\n",
        "print()\n",
        "print('Test Mean Squared Error', mse_test)\n",
        "print('Test Mean Absolute Error', mae_test)\n",
        "print('Test Mean Absolute Percentage Error', mape_test)\n",
        "print('Test R-squared (R2) Score', r2_test)"
      ]
    },
    {
      "cell_type": "markdown",
      "metadata": {},
      "source": [
        "***Random Forest Regression***"
      ]
    },
    {
      "cell_type": "code",
      "execution_count": 437,
      "metadata": {},
      "outputs": [],
      "source": [
        "model = RandomForestRegressor(random_state=42)"
      ]
    },
    {
      "cell_type": "code",
      "execution_count": 438,
      "metadata": {},
      "outputs": [],
      "source": [
        "model.fit(X_train, y_train)\n",
        "    \n",
        "# Predict on the validation set\n",
        "y_pred_validation = model.predict(X_validation)\n",
        "    \n",
        "# Calculate performance metrics for validation set\n",
        "mse_val = mean_squared_error(y_validation, y_pred_validation)\n",
        "mae_val = mean_absolute_error(y_validation, y_pred_validation)\n",
        "mape_val = mean_absolute_percentage_error(y_validation, y_pred_validation)\n",
        "r2_val = r2_score(y_validation, y_pred_validation)\n",
        "    \n",
        "# Predict on the test set\n",
        "y_pred_test = model.predict(X_test)\n",
        "    \n",
        "# Calculate performance metrics for test set\n",
        "mse_test = mean_squared_error(y_test, y_pred_test)\n",
        "mae_test = mean_absolute_error(y_test, y_pred_test)\n",
        "mape_test = mean_absolute_percentage_error(y_test, y_pred_test)\n",
        "r2_test = r2_score(y_test, y_pred_test)"
      ]
    },
    {
      "cell_type": "code",
      "execution_count": 439,
      "metadata": {},
      "outputs": [
        {
          "name": "stdout",
          "output_type": "stream",
          "text": [
            "Validation Mean Squared Error 173314.1710595371\n",
            "Validation Mean Absolute Error 72.30565905843324\n",
            "Validation Mean Absolute Percentage Error 0.0029181270431705014\n",
            "Validation R-squared (R2) Score 0.998796004475832\n",
            "\n",
            "Test Mean Squared Error 107057.39989331286\n",
            "Test Mean Absolute Error 70.75472281880297\n",
            "Test Mean Absolute Percentage Error 0.0030381223820818417\n",
            "Test R-squared (R2) Score 0.999316567250985\n"
          ]
        }
      ],
      "source": [
        "print('Validation Mean Squared Error', mse_val)\n",
        "print('Validation Mean Absolute Error',mae_val)\n",
        "print('Validation Mean Absolute Percentage Error', mape_val)\n",
        "print('Validation R-squared (R2) Score',r2_val)\n",
        "print()\n",
        "print('Test Mean Squared Error', mse_test)\n",
        "print('Test Mean Absolute Error', mae_test)\n",
        "print('Test Mean Absolute Percentage Error', mape_test)\n",
        "print('Test R-squared (R2) Score', r2_test)"
      ]
    },
    {
      "cell_type": "code",
      "execution_count": 440,
      "metadata": {},
      "outputs": [],
      "source": [
        "np.random.seed(42)"
      ]
    },
    {
      "cell_type": "markdown",
      "metadata": {},
      "source": [
        "***Support Vector Machine Regression***"
      ]
    },
    {
      "cell_type": "code",
      "execution_count": 441,
      "metadata": {},
      "outputs": [],
      "source": [
        "model = SVR()"
      ]
    },
    {
      "cell_type": "code",
      "execution_count": 442,
      "metadata": {},
      "outputs": [],
      "source": [
        "model.fit(X_train, y_train)\n",
        "    \n",
        "# Predict on the validation set\n",
        "y_pred_validation = model.predict(X_validation)\n",
        "    \n",
        "# Calculate performance metrics for validation set\n",
        "mse_val = mean_squared_error(y_validation, y_pred_validation)\n",
        "mae_val = mean_absolute_error(y_validation, y_pred_validation)\n",
        "mape_val = mean_absolute_percentage_error(y_validation, y_pred_validation)\n",
        "r2_val = r2_score(y_validation, y_pred_validation)\n",
        "    \n",
        "# Predict on the test set\n",
        "y_pred_test = model.predict(X_test)\n",
        "    \n",
        "# Calculate performance metrics for test set\n",
        "mse_test = mean_squared_error(y_test, y_pred_test)\n",
        "mae_test = mean_absolute_error(y_test, y_pred_test)\n",
        "mape_test = mean_absolute_percentage_error(y_test, y_pred_test)\n",
        "r2_test = r2_score(y_test, y_pred_test)"
      ]
    },
    {
      "cell_type": "code",
      "execution_count": 443,
      "metadata": {},
      "outputs": [
        {
          "name": "stdout",
          "output_type": "stream",
          "text": [
            "Validation Mean Squared Error 172914113.89582542\n",
            "Validation Mean Absolute Error 8381.011164774252\n",
            "Validation Mean Absolute Percentage Error 0.6903710745491799\n",
            "Validation R-squared (R2) Score -0.2012163686518018\n",
            "\n",
            "Test Mean Squared Error 179389871.30047348\n",
            "Test Mean Absolute Error 8451.144237411954\n",
            "Test Mean Absolute Percentage Error 0.8413356458053303\n",
            "Test R-squared (R2) Score -0.14518859051780475\n"
          ]
        }
      ],
      "source": [
        "print('Validation Mean Squared Error', mse_val)\n",
        "print('Validation Mean Absolute Error',mae_val)\n",
        "print('Validation Mean Absolute Percentage Error', mape_val)\n",
        "print('Validation R-squared (R2) Score',r2_val)\n",
        "print()\n",
        "print('Test Mean Squared Error', mse_test)\n",
        "print('Test Mean Absolute Error', mae_test)\n",
        "print('Test Mean Absolute Percentage Error', mape_test)\n",
        "print('Test R-squared (R2) Score', r2_test)"
      ]
    },
    {
      "cell_type": "markdown",
      "metadata": {
        "id": "J8CEDZIo02IP"
      },
      "source": [
        "### Better Evaluation Using Cross-Validation\n",
        "\n",
        "As you probably know, you don’t want to touch the test set until you are ready to launch a model you are confident about, so you need to use part of the training set for training and part of it for model validation. If you have followed the instructions so far, you must have three sets named training, validation, and test. One way to evaluate the models is using the validation set. It helps you decide which model to use. But there is even a better way!\n",
        "In [this](https://www.youtube.com/watch?v=fSytzGwwBVw) short video you can learn about *k-fold cross validation* idea.\n",
        "\n",
        "<font color='#D61E85' size='+2'>**Q21:**</font> Try to decide which model is the best using the *k-fold cross validation*.\n",
        "\n"
      ]
    },
    {
      "cell_type": "markdown",
      "metadata": {
        "id": "3BxIdY5y-bcL"
      },
      "source": [
        "<font color='#8FCF26' size='+2'>**A21:**</font> Create some cell down below to write and run your code."
      ]
    },
    {
      "cell_type": "markdown",
      "metadata": {},
      "source": [
        "***Cross Validation***"
      ]
    },
    {
      "cell_type": "markdown",
      "metadata": {},
      "source": [
        "***import libraries***"
      ]
    },
    {
      "cell_type": "code",
      "execution_count": 444,
      "metadata": {},
      "outputs": [],
      "source": [
        "from sklearn.model_selection import cross_val_score"
      ]
    },
    {
      "cell_type": "markdown",
      "metadata": {},
      "source": [
        "***define models***"
      ]
    },
    {
      "cell_type": "code",
      "execution_count": 445,
      "metadata": {},
      "outputs": [],
      "source": [
        "#exposes a number of methods for generating random numbers drawn from a variety of probability distributions\n",
        "np.random.seed(42)\n",
        "\n",
        "#define models\n",
        "linear_regression_model = LinearRegression()\n",
        "decision_tree_model = DecisionTreeRegressor(random_state=42)\n",
        "random_forest_model = RandomForestRegressor(random_state=42)\n",
        "svr_model = SVR()"
      ]
    },
    {
      "cell_type": "markdown",
      "metadata": {},
      "source": [
        "***Linera Regression***"
      ]
    },
    {
      "cell_type": "code",
      "execution_count": 446,
      "metadata": {},
      "outputs": [
        {
          "data": {
            "text/plain": [
              "6.628547554058067e-23"
            ]
          },
          "execution_count": 446,
          "metadata": {},
          "output_type": "execute_result"
        }
      ],
      "source": [
        "# Perform 3-fold cross-validation\n",
        "cv_scores = cross_val_score(linear_regression_model, final_insurance_data[attributes], final_insurance_data[target], cv=3, scoring='neg_mean_squared_error')\n",
        "# Convert negative MSE scores to positive\n",
        "mse_scores = -cv_scores  \n",
        "\n",
        "# Calculate mean MSE\n",
        "mean_mse = mse_scores.mean()\n",
        "mean_mse"
      ]
    },
    {
      "cell_type": "markdown",
      "metadata": {},
      "source": [
        "***Decision Tree***"
      ]
    },
    {
      "cell_type": "code",
      "execution_count": 447,
      "metadata": {},
      "outputs": [
        {
          "data": {
            "text/plain": [
              "46650.93233559255"
            ]
          },
          "execution_count": 447,
          "metadata": {},
          "output_type": "execute_result"
        }
      ],
      "source": [
        "# Perform 3-fold cross-validation\n",
        "cv_scores = cross_val_score(decision_tree_model, final_insurance_data[attributes], final_insurance_data[target], cv=3, scoring='neg_mean_squared_error')\n",
        "# Convert negative MSE scores to positive\n",
        "mse_scores = -cv_scores  \n",
        "\n",
        "# Calculate mean MSE\n",
        "mean_mse = mse_scores.mean()\n",
        "mean_mse"
      ]
    },
    {
      "cell_type": "markdown",
      "metadata": {},
      "source": [
        "***Random Forest***"
      ]
    },
    {
      "cell_type": "code",
      "execution_count": 448,
      "metadata": {},
      "outputs": [
        {
          "data": {
            "text/plain": [
              "62159.38602164126"
            ]
          },
          "execution_count": 448,
          "metadata": {},
          "output_type": "execute_result"
        }
      ],
      "source": [
        "# Perform 3-fold cross-validation\n",
        "cv_scores = cross_val_score(random_forest_model, final_insurance_data[attributes], final_insurance_data[target], cv=3, scoring='neg_mean_squared_error')\n",
        "# Convert negative MSE scores to positive\n",
        "mse_scores = -cv_scores  \n",
        "\n",
        "# Calculate mean MSE\n",
        "mean_mse = mse_scores.mean()\n",
        "mean_mse"
      ]
    },
    {
      "cell_type": "markdown",
      "metadata": {},
      "source": [
        "***SVR***"
      ]
    },
    {
      "cell_type": "code",
      "execution_count": 449,
      "metadata": {},
      "outputs": [
        {
          "data": {
            "text/plain": [
              "157631513.791641"
            ]
          },
          "execution_count": 449,
          "metadata": {},
          "output_type": "execute_result"
        }
      ],
      "source": [
        "# Perform 3-fold cross-validation\n",
        "cv_scores = cross_val_score(svr_model, final_insurance_data[attributes], final_insurance_data[target], cv=3, scoring='neg_mean_squared_error')\n",
        "# Convert negative MSE scores to positive\n",
        "mse_scores = -cv_scores  \n",
        "\n",
        "# Calculate mean MSE\n",
        "mean_mse = mse_scores.mean()\n",
        "mean_mse"
      ]
    },
    {
      "cell_type": "markdown",
      "metadata": {},
      "source": [
        "Above codes will perform 5-fold cross-validation for each of the specified models and show the mean RMSE for each model.\n",
        "The model with the lowest RMSE is likely to be the best choice for making predictions Test set."
      ]
    },
    {
      "cell_type": "markdown",
      "metadata": {},
      "source": [
        "So the 2 best models are :\n",
        "\n",
        "1 - Linear Regression\n",
        "\n",
        "2 - Decision Tree "
      ]
    },
    {
      "cell_type": "markdown",
      "metadata": {
        "id": "Gs4btyS1-0nF"
      },
      "source": [
        "## Hyperparameter Tuning\n",
        "\n",
        "Let’s assume that you now have a shortlist of promising models. You now need to hyperparameter-tune them. The two main approaches to do this is grid search and randomized search.\n",
        "\n",
        "<font color='#D61E85' size='+2'>**Q22:**</font> Using these two methods try to improve your 2 best models from the previuos part and then decide which model to use. At the end you can check your model on the test set."
      ]
    },
    {
      "cell_type": "markdown",
      "metadata": {
        "id": "fYQFtXbzOyxr"
      },
      "source": [
        "<font color='#8FCF26' size='+2'>**A22:**</font> Create some cell down below to write and run your code."
      ]
    },
    {
      "cell_type": "markdown",
      "metadata": {},
      "source": [
        "For This part of Assignment I get help from ChatGPT"
      ]
    },
    {
      "cell_type": "markdown",
      "metadata": {},
      "source": [
        "***import libraries***\n",
        "\n",
        "***Grid Search***"
      ]
    },
    {
      "cell_type": "code",
      "execution_count": 450,
      "metadata": {},
      "outputs": [],
      "source": [
        "from sklearn.model_selection import GridSearchCV"
      ]
    },
    {
      "cell_type": "code",
      "execution_count": 451,
      "metadata": {},
      "outputs": [
        {
          "data": {
            "text/html": [
              "<div>\n",
              "<style scoped>\n",
              "    .dataframe tbody tr th:only-of-type {\n",
              "        vertical-align: middle;\n",
              "    }\n",
              "\n",
              "    .dataframe tbody tr th {\n",
              "        vertical-align: top;\n",
              "    }\n",
              "\n",
              "    .dataframe thead th {\n",
              "        text-align: right;\n",
              "    }\n",
              "</style>\n",
              "<table border=\"1\" class=\"dataframe\">\n",
              "  <thead>\n",
              "    <tr style=\"text-align: right;\">\n",
              "      <th></th>\n",
              "      <th>age</th>\n",
              "      <th>bmi</th>\n",
              "      <th>children</th>\n",
              "      <th>smoker</th>\n",
              "      <th>charges</th>\n",
              "      <th>sex_female</th>\n",
              "      <th>sex_male</th>\n",
              "      <th>region_northeast</th>\n",
              "      <th>region_northwest</th>\n",
              "      <th>region_southeast</th>\n",
              "      <th>region_southwest</th>\n",
              "      <th>obese</th>\n",
              "      <th>obese_smoker</th>\n",
              "    </tr>\n",
              "  </thead>\n",
              "  <tbody>\n",
              "    <tr>\n",
              "      <th>0</th>\n",
              "      <td>19</td>\n",
              "      <td>27.900</td>\n",
              "      <td>0</td>\n",
              "      <td>1</td>\n",
              "      <td>16884.92400</td>\n",
              "      <td>True</td>\n",
              "      <td>False</td>\n",
              "      <td>False</td>\n",
              "      <td>False</td>\n",
              "      <td>False</td>\n",
              "      <td>True</td>\n",
              "      <td>0</td>\n",
              "      <td>3</td>\n",
              "    </tr>\n",
              "    <tr>\n",
              "      <th>1</th>\n",
              "      <td>18</td>\n",
              "      <td>33.770</td>\n",
              "      <td>1</td>\n",
              "      <td>0</td>\n",
              "      <td>1725.55230</td>\n",
              "      <td>False</td>\n",
              "      <td>True</td>\n",
              "      <td>False</td>\n",
              "      <td>False</td>\n",
              "      <td>True</td>\n",
              "      <td>False</td>\n",
              "      <td>1</td>\n",
              "      <td>2</td>\n",
              "    </tr>\n",
              "    <tr>\n",
              "      <th>2</th>\n",
              "      <td>28</td>\n",
              "      <td>33.000</td>\n",
              "      <td>3</td>\n",
              "      <td>0</td>\n",
              "      <td>4449.46200</td>\n",
              "      <td>False</td>\n",
              "      <td>True</td>\n",
              "      <td>False</td>\n",
              "      <td>False</td>\n",
              "      <td>True</td>\n",
              "      <td>False</td>\n",
              "      <td>1</td>\n",
              "      <td>2</td>\n",
              "    </tr>\n",
              "    <tr>\n",
              "      <th>3</th>\n",
              "      <td>33</td>\n",
              "      <td>22.705</td>\n",
              "      <td>0</td>\n",
              "      <td>0</td>\n",
              "      <td>21984.47061</td>\n",
              "      <td>False</td>\n",
              "      <td>True</td>\n",
              "      <td>False</td>\n",
              "      <td>True</td>\n",
              "      <td>False</td>\n",
              "      <td>False</td>\n",
              "      <td>0</td>\n",
              "      <td>1</td>\n",
              "    </tr>\n",
              "    <tr>\n",
              "      <th>4</th>\n",
              "      <td>32</td>\n",
              "      <td>28.880</td>\n",
              "      <td>0</td>\n",
              "      <td>0</td>\n",
              "      <td>3866.85520</td>\n",
              "      <td>False</td>\n",
              "      <td>True</td>\n",
              "      <td>False</td>\n",
              "      <td>True</td>\n",
              "      <td>False</td>\n",
              "      <td>False</td>\n",
              "      <td>0</td>\n",
              "      <td>1</td>\n",
              "    </tr>\n",
              "    <tr>\n",
              "      <th>...</th>\n",
              "      <td>...</td>\n",
              "      <td>...</td>\n",
              "      <td>...</td>\n",
              "      <td>...</td>\n",
              "      <td>...</td>\n",
              "      <td>...</td>\n",
              "      <td>...</td>\n",
              "      <td>...</td>\n",
              "      <td>...</td>\n",
              "      <td>...</td>\n",
              "      <td>...</td>\n",
              "      <td>...</td>\n",
              "      <td>...</td>\n",
              "    </tr>\n",
              "    <tr>\n",
              "      <th>1330</th>\n",
              "      <td>50</td>\n",
              "      <td>30.970</td>\n",
              "      <td>3</td>\n",
              "      <td>0</td>\n",
              "      <td>10600.54830</td>\n",
              "      <td>False</td>\n",
              "      <td>True</td>\n",
              "      <td>False</td>\n",
              "      <td>True</td>\n",
              "      <td>False</td>\n",
              "      <td>False</td>\n",
              "      <td>1</td>\n",
              "      <td>2</td>\n",
              "    </tr>\n",
              "    <tr>\n",
              "      <th>1331</th>\n",
              "      <td>18</td>\n",
              "      <td>31.920</td>\n",
              "      <td>0</td>\n",
              "      <td>0</td>\n",
              "      <td>2205.98080</td>\n",
              "      <td>True</td>\n",
              "      <td>False</td>\n",
              "      <td>True</td>\n",
              "      <td>False</td>\n",
              "      <td>False</td>\n",
              "      <td>False</td>\n",
              "      <td>1</td>\n",
              "      <td>2</td>\n",
              "    </tr>\n",
              "    <tr>\n",
              "      <th>1332</th>\n",
              "      <td>18</td>\n",
              "      <td>36.850</td>\n",
              "      <td>0</td>\n",
              "      <td>0</td>\n",
              "      <td>1629.83350</td>\n",
              "      <td>False</td>\n",
              "      <td>False</td>\n",
              "      <td>False</td>\n",
              "      <td>False</td>\n",
              "      <td>True</td>\n",
              "      <td>False</td>\n",
              "      <td>1</td>\n",
              "      <td>2</td>\n",
              "    </tr>\n",
              "    <tr>\n",
              "      <th>1333</th>\n",
              "      <td>21</td>\n",
              "      <td>25.800</td>\n",
              "      <td>0</td>\n",
              "      <td>0</td>\n",
              "      <td>2007.94500</td>\n",
              "      <td>True</td>\n",
              "      <td>False</td>\n",
              "      <td>False</td>\n",
              "      <td>False</td>\n",
              "      <td>False</td>\n",
              "      <td>True</td>\n",
              "      <td>0</td>\n",
              "      <td>1</td>\n",
              "    </tr>\n",
              "    <tr>\n",
              "      <th>1334</th>\n",
              "      <td>61</td>\n",
              "      <td>29.070</td>\n",
              "      <td>0</td>\n",
              "      <td>1</td>\n",
              "      <td>29141.36030</td>\n",
              "      <td>True</td>\n",
              "      <td>False</td>\n",
              "      <td>False</td>\n",
              "      <td>True</td>\n",
              "      <td>False</td>\n",
              "      <td>False</td>\n",
              "      <td>0</td>\n",
              "      <td>3</td>\n",
              "    </tr>\n",
              "  </tbody>\n",
              "</table>\n",
              "<p>1335 rows × 13 columns</p>\n",
              "</div>"
            ],
            "text/plain": [
              "      age     bmi  children  smoker      charges  sex_female  sex_male  \\\n",
              "0      19  27.900         0       1  16884.92400        True     False   \n",
              "1      18  33.770         1       0   1725.55230       False      True   \n",
              "2      28  33.000         3       0   4449.46200       False      True   \n",
              "3      33  22.705         0       0  21984.47061       False      True   \n",
              "4      32  28.880         0       0   3866.85520       False      True   \n",
              "...   ...     ...       ...     ...          ...         ...       ...   \n",
              "1330   50  30.970         3       0  10600.54830       False      True   \n",
              "1331   18  31.920         0       0   2205.98080        True     False   \n",
              "1332   18  36.850         0       0   1629.83350       False     False   \n",
              "1333   21  25.800         0       0   2007.94500        True     False   \n",
              "1334   61  29.070         0       1  29141.36030        True     False   \n",
              "\n",
              "      region_northeast  region_northwest  region_southeast  region_southwest  \\\n",
              "0                False             False             False              True   \n",
              "1                False             False              True             False   \n",
              "2                False             False              True             False   \n",
              "3                False              True             False             False   \n",
              "4                False              True             False             False   \n",
              "...                ...               ...               ...               ...   \n",
              "1330             False              True             False             False   \n",
              "1331              True             False             False             False   \n",
              "1332             False             False              True             False   \n",
              "1333             False             False             False              True   \n",
              "1334             False              True             False             False   \n",
              "\n",
              "      obese  obese_smoker  \n",
              "0         0             3  \n",
              "1         1             2  \n",
              "2         1             2  \n",
              "3         0             1  \n",
              "4         0             1  \n",
              "...     ...           ...  \n",
              "1330      1             2  \n",
              "1331      1             2  \n",
              "1332      1             2  \n",
              "1333      0             1  \n",
              "1334      0             3  \n",
              "\n",
              "[1335 rows x 13 columns]"
            ]
          },
          "execution_count": 451,
          "metadata": {},
          "output_type": "execute_result"
        }
      ],
      "source": [
        "final_insurance_data"
      ]
    },
    {
      "cell_type": "markdown",
      "metadata": {},
      "source": [
        "Set target column and other columns"
      ]
    },
    {
      "cell_type": "code",
      "execution_count": 452,
      "metadata": {},
      "outputs": [],
      "source": [
        "X = final_insurance_data\n",
        "y = final_insurance_data['charges']"
      ]
    },
    {
      "cell_type": "markdown",
      "metadata": {},
      "source": [
        "***Linear Regression***"
      ]
    },
    {
      "cell_type": "code",
      "execution_count": 453,
      "metadata": {},
      "outputs": [
        {
          "name": "stdout",
          "output_type": "stream",
          "text": [
            "Best Linear Regression Hyperparameters: {'fit_intercept': False, 'positive': False}\n"
          ]
        }
      ],
      "source": [
        "# Define parameters\n",
        "linear_regression_params = {'fit_intercept': [True, False], 'positive': [True, False]}\n",
        "\n",
        "# Create Grid Search object\n",
        "linear_regression_grid_search = GridSearchCV(LinearRegression(), linear_regression_params, cv=5, scoring='neg_mean_squared_error', n_jobs=-1)\n",
        "\n",
        "# Fit the Grid Search to the data\n",
        "linear_regression_grid_search.fit(X, y)\n",
        "\n",
        "# Get the best hyperparameters\n",
        "best_linear_regression_params = linear_regression_grid_search.best_params_\n",
        "print('Best Linear Regression Hyperparameters:', best_linear_regression_params)"
      ]
    },
    {
      "cell_type": "markdown",
      "metadata": {},
      "source": [
        "***Fit On Test Set***"
      ]
    },
    {
      "cell_type": "code",
      "execution_count": 454,
      "metadata": {},
      "outputs": [
        {
          "name": "stdout",
          "output_type": "stream",
          "text": [
            "Test RMSE: 1.128368422535594e-11\n"
          ]
        }
      ],
      "source": [
        "# Instantiate the Linear regression model with the best hyperparameters\n",
        "best_lr_model = LinearRegression(**best_linear_regression_params)\n",
        "\n",
        "# Train the model on the training data\n",
        "best_lr_model.fit(X_train, y_train)\n",
        "\n",
        "# Evaluate on the Test Set\n",
        "y_pred_test = best_lr_model.predict(X_test)\n",
        "\n",
        "# Calculate the RMSE (Root Mean Squared Error) on the test set\n",
        "test_rmse = mean_squared_error(y_test, y_pred_test, squared=False)\n",
        "print(f'Test RMSE: {test_rmse}')"
      ]
    },
    {
      "cell_type": "markdown",
      "metadata": {},
      "source": [
        "***Decision Tree***"
      ]
    },
    {
      "cell_type": "code",
      "execution_count": 455,
      "metadata": {},
      "outputs": [
        {
          "name": "stdout",
          "output_type": "stream",
          "text": [
            "Best Decision Tree Hyperparameters (Grid Search): {'max_depth': 10, 'min_samples_split': 2}\n"
          ]
        }
      ],
      "source": [
        "# Define the parameter grid\n",
        "decision_tree_params = {\n",
        "    'max_depth': [None, 5, 10, 15],\n",
        "    'min_samples_split': [2, 5, 10]\n",
        "}\n",
        "\n",
        "# Create Grid Search object\n",
        "decision_tree_grid_search = GridSearchCV(DecisionTreeRegressor(random_state=42), decision_tree_params, cv=5, scoring='neg_mean_squared_error', n_jobs=-1)\n",
        "\n",
        "# Fit the Grid Search to the data\n",
        "decision_tree_grid_search.fit(X, y)\n",
        "\n",
        "# Get the best hyperparameters\n",
        "best_dt_params = decision_tree_grid_search.best_params_\n",
        "print('Best Decision Tree Hyperparameters (Grid Search):', best_dt_params)\n"
      ]
    },
    {
      "cell_type": "markdown",
      "metadata": {},
      "source": [
        "***Fit On Test Set***"
      ]
    },
    {
      "cell_type": "code",
      "execution_count": 456,
      "metadata": {},
      "outputs": [
        {
          "name": "stdout",
          "output_type": "stream",
          "text": [
            "Test RMSE: 474.5744348698002\n"
          ]
        }
      ],
      "source": [
        "# Instantiate the Decision Tree model with the best hyperparameters\n",
        "best_dt_model = DecisionTreeRegressor(**best_dt_params, random_state=42)\n",
        "\n",
        "# Train the model on the training data\n",
        "best_dt_model.fit(X_train, y_train)\n",
        "\n",
        "# Evaluate on the Test Set\n",
        "y_pred_test = best_dt_model.predict(X_test)\n",
        "\n",
        "# Calculate the RMSE (Root Mean Squared Error) on the test set\n",
        "test_rmse = mean_squared_error(y_test, y_pred_test, squared=False)\n",
        "print(f'Test RMSE: {test_rmse}')"
      ]
    },
    {
      "cell_type": "markdown",
      "metadata": {},
      "source": [
        "***import libraries***\n",
        "\n",
        "***Randomized Search***"
      ]
    },
    {
      "cell_type": "code",
      "execution_count": 457,
      "metadata": {},
      "outputs": [],
      "source": [
        "from sklearn.model_selection import RandomizedSearchCV"
      ]
    },
    {
      "cell_type": "markdown",
      "metadata": {},
      "source": [
        "***Linear Regression***"
      ]
    },
    {
      "cell_type": "code",
      "execution_count": 458,
      "metadata": {},
      "outputs": [
        {
          "name": "stdout",
          "output_type": "stream",
          "text": [
            "Best Linear Regression Hyperparameters (Randomized Search): {'positive': False, 'fit_intercept': False}\n"
          ]
        },
        {
          "name": "stderr",
          "output_type": "stream",
          "text": [
            "d:\\Teias\\Usage\\Term-1\\Machine Learning\\Assignments\\env\\Lib\\site-packages\\sklearn\\model_selection\\_search.py:307: UserWarning: The total space of parameters 4 is smaller than n_iter=100. Running 4 iterations. For exhaustive searches, use GridSearchCV.\n",
            "  warnings.warn(\n"
          ]
        }
      ],
      "source": [
        "# Create Randomized Search object\n",
        "linear_regression_random_search = RandomizedSearchCV(LinearRegression(), linear_regression_params, n_iter=100, cv=5, scoring='neg_mean_squared_error', random_state=42, n_jobs=-1)\n",
        "\n",
        "# Fit the Randomized Search to the data\n",
        "linear_regression_random_search.fit(X, y)\n",
        "\n",
        "# Get the best hyperparameters\n",
        "best_lr_params_random = linear_regression_random_search.best_params_\n",
        "print('Best Linear Regression Hyperparameters (Randomized Search):', best_lr_params_random)\n"
      ]
    },
    {
      "cell_type": "markdown",
      "metadata": {},
      "source": [
        "***Fit On Test Set***"
      ]
    },
    {
      "cell_type": "code",
      "execution_count": 459,
      "metadata": {},
      "outputs": [
        {
          "name": "stdout",
          "output_type": "stream",
          "text": [
            "Test RMSE: 1.128368422535594e-11\n"
          ]
        }
      ],
      "source": [
        "# Instantiate the Linear regression model with the best hyperparameters\n",
        "best_lr_model = LinearRegression(**best_lr_params_random)\n",
        "\n",
        "# Train the model on the training data\n",
        "best_lr_model.fit(X_train, y_train)\n",
        "\n",
        "# Evaluate on the Test Set\n",
        "y_pred_test = best_lr_model.predict(X_test)\n",
        "\n",
        "# Calculate the RMSE (Root Mean Squared Error) on the test set\n",
        "test_rmse = mean_squared_error(y_test, y_pred_test, squared=False)\n",
        "print(f'Test RMSE: {test_rmse}')"
      ]
    },
    {
      "cell_type": "markdown",
      "metadata": {},
      "source": [
        "***Decision Tree***"
      ]
    },
    {
      "cell_type": "code",
      "execution_count": 460,
      "metadata": {},
      "outputs": [
        {
          "name": "stderr",
          "output_type": "stream",
          "text": [
            "d:\\Teias\\Usage\\Term-1\\Machine Learning\\Assignments\\env\\Lib\\site-packages\\sklearn\\model_selection\\_search.py:307: UserWarning: The total space of parameters 12 is smaller than n_iter=100. Running 12 iterations. For exhaustive searches, use GridSearchCV.\n",
            "  warnings.warn(\n"
          ]
        },
        {
          "name": "stdout",
          "output_type": "stream",
          "text": [
            "Best Decision Tree Hyperparameters (Randomized Search): {'min_samples_split': 2, 'max_depth': 10}\n"
          ]
        }
      ],
      "source": [
        "# Define the parameter grid\n",
        "decision_tree_params = {\n",
        "    'max_depth': [None, 5, 10, 15],\n",
        "    'min_samples_split': [2, 5, 10]\n",
        "}\n",
        "\n",
        "# Create Randomized Search object\n",
        "decision_tree_random_search = RandomizedSearchCV(DecisionTreeRegressor(random_state=42), decision_tree_params, n_iter=100, cv=5, scoring='neg_mean_squared_error', random_state=42, n_jobs=-1)\n",
        "\n",
        "# Fit the Randomized Search to the data\n",
        "decision_tree_random_search.fit(X, y)\n",
        "\n",
        "# Get the best hyperparameters\n",
        "best_decision_tree_params_random = decision_tree_random_search.best_params_\n",
        "print('Best Decision Tree Hyperparameters (Randomized Search):', best_decision_tree_params_random)\n"
      ]
    },
    {
      "cell_type": "markdown",
      "metadata": {},
      "source": [
        "***Fit On Test Set***"
      ]
    },
    {
      "cell_type": "code",
      "execution_count": 461,
      "metadata": {},
      "outputs": [
        {
          "name": "stdout",
          "output_type": "stream",
          "text": [
            "Test RMSE: 474.5744348698002\n"
          ]
        }
      ],
      "source": [
        "# Instantiate the Decision Tree model with the best hyperparameters\n",
        "best_dt_model = DecisionTreeRegressor(**best_decision_tree_params_random, random_state=42)\n",
        "\n",
        "# Train the model on the training data\n",
        "best_dt_model.fit(X_train, y_train)\n",
        "\n",
        "# Evaluate on the Test Set\n",
        "y_pred_test = best_dt_model.predict(X_test)\n",
        "\n",
        "# Calculate the RMSE (Root Mean Squared Error) on the test set\n",
        "test_rmse = mean_squared_error(y_test, y_pred_test, squared=False)\n",
        "print(f'Test RMSE: {test_rmse}')"
      ]
    },
    {
      "cell_type": "markdown",
      "metadata": {
        "id": "KaEbyylORSLK"
      },
      "source": [
        "## Saving the Model\n",
        "\n",
        "It’s often a good idea to save every model you experiment with so\n",
        "that you can come back easily to any model you want. To save a model you can use the `joblib` library."
      ]
    },
    {
      "cell_type": "code",
      "execution_count": 462,
      "metadata": {},
      "outputs": [],
      "source": [
        "import joblib"
      ]
    },
    {
      "cell_type": "code",
      "execution_count": 463,
      "metadata": {},
      "outputs": [
        {
          "data": {
            "text/plain": [
              "['trained_model_decision_tree.joblib']"
            ]
          },
          "execution_count": 463,
          "metadata": {},
          "output_type": "execute_result"
        }
      ],
      "source": [
        "file_path = 'trained_model_linear_regression.joblib'\n",
        "file_path_2 = 'trained_model_decision_tree.joblib'\n",
        "\n",
        "# Save the models\n",
        "joblib.dump(best_lr_model, file_path)\n",
        "joblib.dump(best_dt_model, file_path_2)"
      ]
    }
  ],
  "metadata": {
    "colab": {
      "provenance": [],
      "toc_visible": true
    },
    "kernelspec": {
      "display_name": "Python 3",
      "name": "python3"
    },
    "language_info": {
      "codemirror_mode": {
        "name": "ipython",
        "version": 3
      },
      "file_extension": ".py",
      "mimetype": "text/x-python",
      "name": "python",
      "nbconvert_exporter": "python",
      "pygments_lexer": "ipython3",
      "version": "3.12.0"
    }
  },
  "nbformat": 4,
  "nbformat_minor": 0
}
